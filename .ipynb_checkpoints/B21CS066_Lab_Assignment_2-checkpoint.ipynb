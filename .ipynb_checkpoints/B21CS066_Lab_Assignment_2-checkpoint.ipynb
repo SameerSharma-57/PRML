{
 "cells": [
  {
   "cell_type": "markdown",
   "metadata": {
    "id": "zPqjXHzXSSIh"
   },
   "source": [
    "#Lab_02\n"
   ]
  },
  {
   "cell_type": "markdown",
   "metadata": {
    "id": "vUIS8l_cScJY"
   },
   "source": [
    "\n",
    "##importing libraries\n"
   ]
  },
  {
   "cell_type": "code",
   "execution_count": 27,
   "metadata": {
    "id": "IQaEkoFLSf4M"
   },
   "outputs": [],
   "source": [
    "from operator import imod\n",
    "import pandas as pd\n",
    "import numpy as np\n",
    "\n",
    "import matplotlib.pyplot as plt\n",
    "from sklearn.preprocessing import normalize\n",
    "from sklearn.model_selection import train_test_split as tts\n",
    "from sklearn.tree import DecisionTreeRegressor\n",
    "from sklearn.metrics import mean_squared_error as mse\n",
    "from sklearn.metrics import accuracy_score as acc\n",
    "from sklearn.model_selection import KFold\n",
    "from sklearn.model_selection import RepeatedKFold\n",
    "from sklearn.model_selection import cross_val_score\n",
    "from sklearn import tree\n",
    "from sklearn.preprocessing import LabelEncoder\n",
    "from sklearn.tree import DecisionTreeClassifier\n",
    "from math import sin,cos,pi\n",
    "\n",
    "\n"
   ]
  },
  {
   "cell_type": "markdown",
   "metadata": {
    "id": "bYlI3PGeS3-0"
   },
   "source": [
    "##Problem 01"
   ]
  },
  {
   "cell_type": "markdown",
   "metadata": {
    "id": "HMBILoBSfUw3"
   },
   "source": [
    "###Part 1\n"
   ]
  },
  {
   "cell_type": "markdown",
   "metadata": {
    "id": "anRi2CyZSXrn"
   },
   "source": [
    "####Loading dataset"
   ]
  },
  {
   "cell_type": "code",
   "execution_count": 92,
   "metadata": {
    "colab": {
     "base_uri": "https://localhost:8080/",
     "height": 423
    },
    "id": "m2jSsEcrRJQ5",
    "outputId": "56aabab5-b8d8-4848-ec9c-48d994f45544"
   },
   "outputs": [
    {
     "data": {
      "text/html": [
       "\n",
       "  <div id=\"df-235028a1-df48-4fd8-9a29-790fef554172\">\n",
       "    <div class=\"colab-df-container\">\n",
       "      <div>\n",
       "<style scoped>\n",
       "    .dataframe tbody tr th:only-of-type {\n",
       "        vertical-align: middle;\n",
       "    }\n",
       "\n",
       "    .dataframe tbody tr th {\n",
       "        vertical-align: top;\n",
       "    }\n",
       "\n",
       "    .dataframe thead th {\n",
       "        text-align: right;\n",
       "    }\n",
       "</style>\n",
       "<table border=\"1\" class=\"dataframe\">\n",
       "  <thead>\n",
       "    <tr style=\"text-align: right;\">\n",
       "      <th></th>\n",
       "      <th>X1</th>\n",
       "      <th>X2</th>\n",
       "      <th>X3</th>\n",
       "      <th>X4</th>\n",
       "      <th>X5</th>\n",
       "      <th>X6</th>\n",
       "      <th>X7</th>\n",
       "      <th>X8</th>\n",
       "      <th>Y1</th>\n",
       "    </tr>\n",
       "  </thead>\n",
       "  <tbody>\n",
       "    <tr>\n",
       "      <th>0</th>\n",
       "      <td>0.98</td>\n",
       "      <td>514.5</td>\n",
       "      <td>294.0</td>\n",
       "      <td>110.25</td>\n",
       "      <td>7.0</td>\n",
       "      <td>2</td>\n",
       "      <td>0.0</td>\n",
       "      <td>0</td>\n",
       "      <td>15.55</td>\n",
       "    </tr>\n",
       "    <tr>\n",
       "      <th>1</th>\n",
       "      <td>0.98</td>\n",
       "      <td>514.5</td>\n",
       "      <td>294.0</td>\n",
       "      <td>110.25</td>\n",
       "      <td>7.0</td>\n",
       "      <td>3</td>\n",
       "      <td>0.0</td>\n",
       "      <td>0</td>\n",
       "      <td>15.55</td>\n",
       "    </tr>\n",
       "    <tr>\n",
       "      <th>2</th>\n",
       "      <td>0.98</td>\n",
       "      <td>514.5</td>\n",
       "      <td>294.0</td>\n",
       "      <td>110.25</td>\n",
       "      <td>7.0</td>\n",
       "      <td>4</td>\n",
       "      <td>0.0</td>\n",
       "      <td>0</td>\n",
       "      <td>15.55</td>\n",
       "    </tr>\n",
       "    <tr>\n",
       "      <th>3</th>\n",
       "      <td>0.98</td>\n",
       "      <td>514.5</td>\n",
       "      <td>294.0</td>\n",
       "      <td>110.25</td>\n",
       "      <td>7.0</td>\n",
       "      <td>5</td>\n",
       "      <td>0.0</td>\n",
       "      <td>0</td>\n",
       "      <td>15.55</td>\n",
       "    </tr>\n",
       "    <tr>\n",
       "      <th>4</th>\n",
       "      <td>0.90</td>\n",
       "      <td>563.5</td>\n",
       "      <td>318.5</td>\n",
       "      <td>122.50</td>\n",
       "      <td>7.0</td>\n",
       "      <td>2</td>\n",
       "      <td>0.0</td>\n",
       "      <td>0</td>\n",
       "      <td>20.84</td>\n",
       "    </tr>\n",
       "    <tr>\n",
       "      <th>...</th>\n",
       "      <td>...</td>\n",
       "      <td>...</td>\n",
       "      <td>...</td>\n",
       "      <td>...</td>\n",
       "      <td>...</td>\n",
       "      <td>...</td>\n",
       "      <td>...</td>\n",
       "      <td>...</td>\n",
       "      <td>...</td>\n",
       "    </tr>\n",
       "    <tr>\n",
       "      <th>763</th>\n",
       "      <td>0.64</td>\n",
       "      <td>784.0</td>\n",
       "      <td>343.0</td>\n",
       "      <td>220.50</td>\n",
       "      <td>3.5</td>\n",
       "      <td>5</td>\n",
       "      <td>0.4</td>\n",
       "      <td>5</td>\n",
       "      <td>17.88</td>\n",
       "    </tr>\n",
       "    <tr>\n",
       "      <th>764</th>\n",
       "      <td>0.62</td>\n",
       "      <td>808.5</td>\n",
       "      <td>367.5</td>\n",
       "      <td>220.50</td>\n",
       "      <td>3.5</td>\n",
       "      <td>2</td>\n",
       "      <td>0.4</td>\n",
       "      <td>5</td>\n",
       "      <td>16.54</td>\n",
       "    </tr>\n",
       "    <tr>\n",
       "      <th>765</th>\n",
       "      <td>0.62</td>\n",
       "      <td>808.5</td>\n",
       "      <td>367.5</td>\n",
       "      <td>220.50</td>\n",
       "      <td>3.5</td>\n",
       "      <td>3</td>\n",
       "      <td>0.4</td>\n",
       "      <td>5</td>\n",
       "      <td>16.44</td>\n",
       "    </tr>\n",
       "    <tr>\n",
       "      <th>766</th>\n",
       "      <td>0.62</td>\n",
       "      <td>808.5</td>\n",
       "      <td>367.5</td>\n",
       "      <td>220.50</td>\n",
       "      <td>3.5</td>\n",
       "      <td>4</td>\n",
       "      <td>0.4</td>\n",
       "      <td>5</td>\n",
       "      <td>16.48</td>\n",
       "    </tr>\n",
       "    <tr>\n",
       "      <th>767</th>\n",
       "      <td>0.62</td>\n",
       "      <td>808.5</td>\n",
       "      <td>367.5</td>\n",
       "      <td>220.50</td>\n",
       "      <td>3.5</td>\n",
       "      <td>5</td>\n",
       "      <td>0.4</td>\n",
       "      <td>5</td>\n",
       "      <td>16.64</td>\n",
       "    </tr>\n",
       "  </tbody>\n",
       "</table>\n",
       "<p>768 rows × 9 columns</p>\n",
       "</div>\n",
       "      <button class=\"colab-df-convert\" onclick=\"convertToInteractive('df-235028a1-df48-4fd8-9a29-790fef554172')\"\n",
       "              title=\"Convert this dataframe to an interactive table.\"\n",
       "              style=\"display:none;\">\n",
       "        \n",
       "  <svg xmlns=\"http://www.w3.org/2000/svg\" height=\"24px\"viewBox=\"0 0 24 24\"\n",
       "       width=\"24px\">\n",
       "    <path d=\"M0 0h24v24H0V0z\" fill=\"none\"/>\n",
       "    <path d=\"M18.56 5.44l.94 2.06.94-2.06 2.06-.94-2.06-.94-.94-2.06-.94 2.06-2.06.94zm-11 1L8.5 8.5l.94-2.06 2.06-.94-2.06-.94L8.5 2.5l-.94 2.06-2.06.94zm10 10l.94 2.06.94-2.06 2.06-.94-2.06-.94-.94-2.06-.94 2.06-2.06.94z\"/><path d=\"M17.41 7.96l-1.37-1.37c-.4-.4-.92-.59-1.43-.59-.52 0-1.04.2-1.43.59L10.3 9.45l-7.72 7.72c-.78.78-.78 2.05 0 2.83L4 21.41c.39.39.9.59 1.41.59.51 0 1.02-.2 1.41-.59l7.78-7.78 2.81-2.81c.8-.78.8-2.07 0-2.86zM5.41 20L4 18.59l7.72-7.72 1.47 1.35L5.41 20z\"/>\n",
       "  </svg>\n",
       "      </button>\n",
       "      \n",
       "  <style>\n",
       "    .colab-df-container {\n",
       "      display:flex;\n",
       "      flex-wrap:wrap;\n",
       "      gap: 12px;\n",
       "    }\n",
       "\n",
       "    .colab-df-convert {\n",
       "      background-color: #E8F0FE;\n",
       "      border: none;\n",
       "      border-radius: 50%;\n",
       "      cursor: pointer;\n",
       "      display: none;\n",
       "      fill: #1967D2;\n",
       "      height: 32px;\n",
       "      padding: 0 0 0 0;\n",
       "      width: 32px;\n",
       "    }\n",
       "\n",
       "    .colab-df-convert:hover {\n",
       "      background-color: #E2EBFA;\n",
       "      box-shadow: 0px 1px 2px rgba(60, 64, 67, 0.3), 0px 1px 3px 1px rgba(60, 64, 67, 0.15);\n",
       "      fill: #174EA6;\n",
       "    }\n",
       "\n",
       "    [theme=dark] .colab-df-convert {\n",
       "      background-color: #3B4455;\n",
       "      fill: #D2E3FC;\n",
       "    }\n",
       "\n",
       "    [theme=dark] .colab-df-convert:hover {\n",
       "      background-color: #434B5C;\n",
       "      box-shadow: 0px 1px 3px 1px rgba(0, 0, 0, 0.15);\n",
       "      filter: drop-shadow(0px 1px 2px rgba(0, 0, 0, 0.3));\n",
       "      fill: #FFFFFF;\n",
       "    }\n",
       "  </style>\n",
       "\n",
       "      <script>\n",
       "        const buttonEl =\n",
       "          document.querySelector('#df-235028a1-df48-4fd8-9a29-790fef554172 button.colab-df-convert');\n",
       "        buttonEl.style.display =\n",
       "          google.colab.kernel.accessAllowed ? 'block' : 'none';\n",
       "\n",
       "        async function convertToInteractive(key) {\n",
       "          const element = document.querySelector('#df-235028a1-df48-4fd8-9a29-790fef554172');\n",
       "          const dataTable =\n",
       "            await google.colab.kernel.invokeFunction('convertToInteractive',\n",
       "                                                     [key], {});\n",
       "          if (!dataTable) return;\n",
       "\n",
       "          const docLinkHtml = 'Like what you see? Visit the ' +\n",
       "            '<a target=\"_blank\" href=https://colab.research.google.com/notebooks/data_table.ipynb>data table notebook</a>'\n",
       "            + ' to learn more about interactive tables.';\n",
       "          element.innerHTML = '';\n",
       "          dataTable['output_type'] = 'display_data';\n",
       "          await google.colab.output.renderOutput(dataTable, element);\n",
       "          const docLink = document.createElement('div');\n",
       "          docLink.innerHTML = docLinkHtml;\n",
       "          element.appendChild(docLink);\n",
       "        }\n",
       "      </script>\n",
       "    </div>\n",
       "  </div>\n",
       "  "
      ],
      "text/plain": [
       "       X1     X2     X3      X4   X5  X6   X7  X8     Y1\n",
       "0    0.98  514.5  294.0  110.25  7.0   2  0.0   0  15.55\n",
       "1    0.98  514.5  294.0  110.25  7.0   3  0.0   0  15.55\n",
       "2    0.98  514.5  294.0  110.25  7.0   4  0.0   0  15.55\n",
       "3    0.98  514.5  294.0  110.25  7.0   5  0.0   0  15.55\n",
       "4    0.90  563.5  318.5  122.50  7.0   2  0.0   0  20.84\n",
       "..    ...    ...    ...     ...  ...  ..  ...  ..    ...\n",
       "763  0.64  784.0  343.0  220.50  3.5   5  0.4   5  17.88\n",
       "764  0.62  808.5  367.5  220.50  3.5   2  0.4   5  16.54\n",
       "765  0.62  808.5  367.5  220.50  3.5   3  0.4   5  16.44\n",
       "766  0.62  808.5  367.5  220.50  3.5   4  0.4   5  16.48\n",
       "767  0.62  808.5  367.5  220.50  3.5   5  0.4   5  16.64\n",
       "\n",
       "[768 rows x 9 columns]"
      ]
     },
     "execution_count": 92,
     "metadata": {},
     "output_type": "execute_result"
    }
   ],
   "source": [
    "\n",
    "df=pd.read_csv(\"/content/drive/MyDrive/PRML/Lab-02/ENB2012_data.xlsx - Φύλλο1.csv\")\n",
    "df"
   ]
  },
  {
   "cell_type": "markdown",
   "metadata": {
    "id": "U2A0SvemSvPV"
   },
   "source": [
    "####handling null values"
   ]
  },
  {
   "cell_type": "code",
   "execution_count": 93,
   "metadata": {
    "colab": {
     "base_uri": "https://localhost:8080/",
     "height": 423
    },
    "id": "0qAKqQxfSujF",
    "outputId": "d50ff30f-b324-44ff-efaf-f1445659681f"
   },
   "outputs": [
    {
     "data": {
      "text/html": [
       "\n",
       "  <div id=\"df-4b3870d4-7768-4b57-b053-62ea988a0068\">\n",
       "    <div class=\"colab-df-container\">\n",
       "      <div>\n",
       "<style scoped>\n",
       "    .dataframe tbody tr th:only-of-type {\n",
       "        vertical-align: middle;\n",
       "    }\n",
       "\n",
       "    .dataframe tbody tr th {\n",
       "        vertical-align: top;\n",
       "    }\n",
       "\n",
       "    .dataframe thead th {\n",
       "        text-align: right;\n",
       "    }\n",
       "</style>\n",
       "<table border=\"1\" class=\"dataframe\">\n",
       "  <thead>\n",
       "    <tr style=\"text-align: right;\">\n",
       "      <th></th>\n",
       "      <th>X1</th>\n",
       "      <th>X2</th>\n",
       "      <th>X3</th>\n",
       "      <th>X4</th>\n",
       "      <th>X5</th>\n",
       "      <th>X6</th>\n",
       "      <th>X7</th>\n",
       "      <th>X8</th>\n",
       "      <th>Y1</th>\n",
       "    </tr>\n",
       "  </thead>\n",
       "  <tbody>\n",
       "    <tr>\n",
       "      <th>0</th>\n",
       "      <td>0.98</td>\n",
       "      <td>514.5</td>\n",
       "      <td>294.0</td>\n",
       "      <td>110.25</td>\n",
       "      <td>7.0</td>\n",
       "      <td>2</td>\n",
       "      <td>0.0</td>\n",
       "      <td>0</td>\n",
       "      <td>15.55</td>\n",
       "    </tr>\n",
       "    <tr>\n",
       "      <th>1</th>\n",
       "      <td>0.98</td>\n",
       "      <td>514.5</td>\n",
       "      <td>294.0</td>\n",
       "      <td>110.25</td>\n",
       "      <td>7.0</td>\n",
       "      <td>3</td>\n",
       "      <td>0.0</td>\n",
       "      <td>0</td>\n",
       "      <td>15.55</td>\n",
       "    </tr>\n",
       "    <tr>\n",
       "      <th>2</th>\n",
       "      <td>0.98</td>\n",
       "      <td>514.5</td>\n",
       "      <td>294.0</td>\n",
       "      <td>110.25</td>\n",
       "      <td>7.0</td>\n",
       "      <td>4</td>\n",
       "      <td>0.0</td>\n",
       "      <td>0</td>\n",
       "      <td>15.55</td>\n",
       "    </tr>\n",
       "    <tr>\n",
       "      <th>3</th>\n",
       "      <td>0.98</td>\n",
       "      <td>514.5</td>\n",
       "      <td>294.0</td>\n",
       "      <td>110.25</td>\n",
       "      <td>7.0</td>\n",
       "      <td>5</td>\n",
       "      <td>0.0</td>\n",
       "      <td>0</td>\n",
       "      <td>15.55</td>\n",
       "    </tr>\n",
       "    <tr>\n",
       "      <th>4</th>\n",
       "      <td>0.90</td>\n",
       "      <td>563.5</td>\n",
       "      <td>318.5</td>\n",
       "      <td>122.50</td>\n",
       "      <td>7.0</td>\n",
       "      <td>2</td>\n",
       "      <td>0.0</td>\n",
       "      <td>0</td>\n",
       "      <td>20.84</td>\n",
       "    </tr>\n",
       "    <tr>\n",
       "      <th>...</th>\n",
       "      <td>...</td>\n",
       "      <td>...</td>\n",
       "      <td>...</td>\n",
       "      <td>...</td>\n",
       "      <td>...</td>\n",
       "      <td>...</td>\n",
       "      <td>...</td>\n",
       "      <td>...</td>\n",
       "      <td>...</td>\n",
       "    </tr>\n",
       "    <tr>\n",
       "      <th>763</th>\n",
       "      <td>0.64</td>\n",
       "      <td>784.0</td>\n",
       "      <td>343.0</td>\n",
       "      <td>220.50</td>\n",
       "      <td>3.5</td>\n",
       "      <td>5</td>\n",
       "      <td>0.4</td>\n",
       "      <td>5</td>\n",
       "      <td>17.88</td>\n",
       "    </tr>\n",
       "    <tr>\n",
       "      <th>764</th>\n",
       "      <td>0.62</td>\n",
       "      <td>808.5</td>\n",
       "      <td>367.5</td>\n",
       "      <td>220.50</td>\n",
       "      <td>3.5</td>\n",
       "      <td>2</td>\n",
       "      <td>0.4</td>\n",
       "      <td>5</td>\n",
       "      <td>16.54</td>\n",
       "    </tr>\n",
       "    <tr>\n",
       "      <th>765</th>\n",
       "      <td>0.62</td>\n",
       "      <td>808.5</td>\n",
       "      <td>367.5</td>\n",
       "      <td>220.50</td>\n",
       "      <td>3.5</td>\n",
       "      <td>3</td>\n",
       "      <td>0.4</td>\n",
       "      <td>5</td>\n",
       "      <td>16.44</td>\n",
       "    </tr>\n",
       "    <tr>\n",
       "      <th>766</th>\n",
       "      <td>0.62</td>\n",
       "      <td>808.5</td>\n",
       "      <td>367.5</td>\n",
       "      <td>220.50</td>\n",
       "      <td>3.5</td>\n",
       "      <td>4</td>\n",
       "      <td>0.4</td>\n",
       "      <td>5</td>\n",
       "      <td>16.48</td>\n",
       "    </tr>\n",
       "    <tr>\n",
       "      <th>767</th>\n",
       "      <td>0.62</td>\n",
       "      <td>808.5</td>\n",
       "      <td>367.5</td>\n",
       "      <td>220.50</td>\n",
       "      <td>3.5</td>\n",
       "      <td>5</td>\n",
       "      <td>0.4</td>\n",
       "      <td>5</td>\n",
       "      <td>16.64</td>\n",
       "    </tr>\n",
       "  </tbody>\n",
       "</table>\n",
       "<p>768 rows × 9 columns</p>\n",
       "</div>\n",
       "      <button class=\"colab-df-convert\" onclick=\"convertToInteractive('df-4b3870d4-7768-4b57-b053-62ea988a0068')\"\n",
       "              title=\"Convert this dataframe to an interactive table.\"\n",
       "              style=\"display:none;\">\n",
       "        \n",
       "  <svg xmlns=\"http://www.w3.org/2000/svg\" height=\"24px\"viewBox=\"0 0 24 24\"\n",
       "       width=\"24px\">\n",
       "    <path d=\"M0 0h24v24H0V0z\" fill=\"none\"/>\n",
       "    <path d=\"M18.56 5.44l.94 2.06.94-2.06 2.06-.94-2.06-.94-.94-2.06-.94 2.06-2.06.94zm-11 1L8.5 8.5l.94-2.06 2.06-.94-2.06-.94L8.5 2.5l-.94 2.06-2.06.94zm10 10l.94 2.06.94-2.06 2.06-.94-2.06-.94-.94-2.06-.94 2.06-2.06.94z\"/><path d=\"M17.41 7.96l-1.37-1.37c-.4-.4-.92-.59-1.43-.59-.52 0-1.04.2-1.43.59L10.3 9.45l-7.72 7.72c-.78.78-.78 2.05 0 2.83L4 21.41c.39.39.9.59 1.41.59.51 0 1.02-.2 1.41-.59l7.78-7.78 2.81-2.81c.8-.78.8-2.07 0-2.86zM5.41 20L4 18.59l7.72-7.72 1.47 1.35L5.41 20z\"/>\n",
       "  </svg>\n",
       "      </button>\n",
       "      \n",
       "  <style>\n",
       "    .colab-df-container {\n",
       "      display:flex;\n",
       "      flex-wrap:wrap;\n",
       "      gap: 12px;\n",
       "    }\n",
       "\n",
       "    .colab-df-convert {\n",
       "      background-color: #E8F0FE;\n",
       "      border: none;\n",
       "      border-radius: 50%;\n",
       "      cursor: pointer;\n",
       "      display: none;\n",
       "      fill: #1967D2;\n",
       "      height: 32px;\n",
       "      padding: 0 0 0 0;\n",
       "      width: 32px;\n",
       "    }\n",
       "\n",
       "    .colab-df-convert:hover {\n",
       "      background-color: #E2EBFA;\n",
       "      box-shadow: 0px 1px 2px rgba(60, 64, 67, 0.3), 0px 1px 3px 1px rgba(60, 64, 67, 0.15);\n",
       "      fill: #174EA6;\n",
       "    }\n",
       "\n",
       "    [theme=dark] .colab-df-convert {\n",
       "      background-color: #3B4455;\n",
       "      fill: #D2E3FC;\n",
       "    }\n",
       "\n",
       "    [theme=dark] .colab-df-convert:hover {\n",
       "      background-color: #434B5C;\n",
       "      box-shadow: 0px 1px 3px 1px rgba(0, 0, 0, 0.15);\n",
       "      filter: drop-shadow(0px 1px 2px rgba(0, 0, 0, 0.3));\n",
       "      fill: #FFFFFF;\n",
       "    }\n",
       "  </style>\n",
       "\n",
       "      <script>\n",
       "        const buttonEl =\n",
       "          document.querySelector('#df-4b3870d4-7768-4b57-b053-62ea988a0068 button.colab-df-convert');\n",
       "        buttonEl.style.display =\n",
       "          google.colab.kernel.accessAllowed ? 'block' : 'none';\n",
       "\n",
       "        async function convertToInteractive(key) {\n",
       "          const element = document.querySelector('#df-4b3870d4-7768-4b57-b053-62ea988a0068');\n",
       "          const dataTable =\n",
       "            await google.colab.kernel.invokeFunction('convertToInteractive',\n",
       "                                                     [key], {});\n",
       "          if (!dataTable) return;\n",
       "\n",
       "          const docLinkHtml = 'Like what you see? Visit the ' +\n",
       "            '<a target=\"_blank\" href=https://colab.research.google.com/notebooks/data_table.ipynb>data table notebook</a>'\n",
       "            + ' to learn more about interactive tables.';\n",
       "          element.innerHTML = '';\n",
       "          dataTable['output_type'] = 'display_data';\n",
       "          await google.colab.output.renderOutput(dataTable, element);\n",
       "          const docLink = document.createElement('div');\n",
       "          docLink.innerHTML = docLinkHtml;\n",
       "          element.appendChild(docLink);\n",
       "        }\n",
       "      </script>\n",
       "    </div>\n",
       "  </div>\n",
       "  "
      ],
      "text/plain": [
       "       X1     X2     X3      X4   X5  X6   X7  X8     Y1\n",
       "0    0.98  514.5  294.0  110.25  7.0   2  0.0   0  15.55\n",
       "1    0.98  514.5  294.0  110.25  7.0   3  0.0   0  15.55\n",
       "2    0.98  514.5  294.0  110.25  7.0   4  0.0   0  15.55\n",
       "3    0.98  514.5  294.0  110.25  7.0   5  0.0   0  15.55\n",
       "4    0.90  563.5  318.5  122.50  7.0   2  0.0   0  20.84\n",
       "..    ...    ...    ...     ...  ...  ..  ...  ..    ...\n",
       "763  0.64  784.0  343.0  220.50  3.5   5  0.4   5  17.88\n",
       "764  0.62  808.5  367.5  220.50  3.5   2  0.4   5  16.54\n",
       "765  0.62  808.5  367.5  220.50  3.5   3  0.4   5  16.44\n",
       "766  0.62  808.5  367.5  220.50  3.5   4  0.4   5  16.48\n",
       "767  0.62  808.5  367.5  220.50  3.5   5  0.4   5  16.64\n",
       "\n",
       "[768 rows x 9 columns]"
      ]
     },
     "execution_count": 93,
     "metadata": {},
     "output_type": "execute_result"
    }
   ],
   "source": [
    "df=df.dropna()\n",
    "df"
   ]
  },
  {
   "cell_type": "markdown",
   "metadata": {
    "id": "K_px1r3ITWck"
   },
   "source": [
    "####encoding the data\n",
    "\n"
   ]
  },
  {
   "cell_type": "markdown",
   "metadata": {
    "id": "OUAjzVowUMU9"
   },
   "source": [
    "since all data is allready in interval and ratio format there is no need to encode it"
   ]
  },
  {
   "cell_type": "markdown",
   "metadata": {
    "id": "AjtqyH0rUiAI"
   },
   "source": [
    "####reducing noise"
   ]
  },
  {
   "cell_type": "code",
   "execution_count": 94,
   "metadata": {
    "colab": {
     "base_uri": "https://localhost:8080/",
     "height": 510
    },
    "id": "u7m0QIZpUj4r",
    "outputId": "e452621f-dbd4-431a-ef4e-4ef659c6ea3c"
   },
   "outputs": [
    {
     "name": "stderr",
     "output_type": "stream",
     "text": [
      "<ipython-input-94-d2a34ddbdbb5>:4: SettingWithCopyWarning: \n",
      "A value is trying to be set on a copy of a slice from a DataFrame\n",
      "\n",
      "See the caveats in the documentation: https://pandas.pydata.org/pandas-docs/stable/user_guide/indexing.html#returning-a-view-versus-a-copy\n",
      "  df[dataheader][j]=df[dataheader][j].astype(float)\n"
     ]
    },
    {
     "data": {
      "text/html": [
       "\n",
       "  <div id=\"df-d95c8e17-d133-41cd-a45e-e840f86c7955\">\n",
       "    <div class=\"colab-df-container\">\n",
       "      <div>\n",
       "<style scoped>\n",
       "    .dataframe tbody tr th:only-of-type {\n",
       "        vertical-align: middle;\n",
       "    }\n",
       "\n",
       "    .dataframe tbody tr th {\n",
       "        vertical-align: top;\n",
       "    }\n",
       "\n",
       "    .dataframe thead th {\n",
       "        text-align: right;\n",
       "    }\n",
       "</style>\n",
       "<table border=\"1\" class=\"dataframe\">\n",
       "  <thead>\n",
       "    <tr style=\"text-align: right;\">\n",
       "      <th></th>\n",
       "      <th>X1</th>\n",
       "      <th>X2</th>\n",
       "      <th>X3</th>\n",
       "      <th>X4</th>\n",
       "      <th>X5</th>\n",
       "      <th>X6</th>\n",
       "      <th>X7</th>\n",
       "      <th>X8</th>\n",
       "      <th>Y1</th>\n",
       "    </tr>\n",
       "  </thead>\n",
       "  <tbody>\n",
       "    <tr>\n",
       "      <th>0</th>\n",
       "      <td>0.98</td>\n",
       "      <td>514.5</td>\n",
       "      <td>294.0</td>\n",
       "      <td>110.25</td>\n",
       "      <td>7.0</td>\n",
       "      <td>2</td>\n",
       "      <td>0.0</td>\n",
       "      <td>0</td>\n",
       "      <td>15.55</td>\n",
       "    </tr>\n",
       "    <tr>\n",
       "      <th>1</th>\n",
       "      <td>0.98</td>\n",
       "      <td>514.5</td>\n",
       "      <td>294.0</td>\n",
       "      <td>110.25</td>\n",
       "      <td>7.0</td>\n",
       "      <td>3</td>\n",
       "      <td>0.0</td>\n",
       "      <td>0</td>\n",
       "      <td>15.55</td>\n",
       "    </tr>\n",
       "    <tr>\n",
       "      <th>2</th>\n",
       "      <td>0.98</td>\n",
       "      <td>514.5</td>\n",
       "      <td>294.0</td>\n",
       "      <td>110.25</td>\n",
       "      <td>7.0</td>\n",
       "      <td>4</td>\n",
       "      <td>0.0</td>\n",
       "      <td>0</td>\n",
       "      <td>15.55</td>\n",
       "    </tr>\n",
       "    <tr>\n",
       "      <th>3</th>\n",
       "      <td>0.98</td>\n",
       "      <td>514.5</td>\n",
       "      <td>294.0</td>\n",
       "      <td>110.25</td>\n",
       "      <td>7.0</td>\n",
       "      <td>5</td>\n",
       "      <td>0.0</td>\n",
       "      <td>0</td>\n",
       "      <td>15.55</td>\n",
       "    </tr>\n",
       "    <tr>\n",
       "      <th>4</th>\n",
       "      <td>0.90</td>\n",
       "      <td>563.5</td>\n",
       "      <td>318.5</td>\n",
       "      <td>122.50</td>\n",
       "      <td>7.0</td>\n",
       "      <td>2</td>\n",
       "      <td>0.0</td>\n",
       "      <td>0</td>\n",
       "      <td>20.84</td>\n",
       "    </tr>\n",
       "    <tr>\n",
       "      <th>...</th>\n",
       "      <td>...</td>\n",
       "      <td>...</td>\n",
       "      <td>...</td>\n",
       "      <td>...</td>\n",
       "      <td>...</td>\n",
       "      <td>...</td>\n",
       "      <td>...</td>\n",
       "      <td>...</td>\n",
       "      <td>...</td>\n",
       "    </tr>\n",
       "    <tr>\n",
       "      <th>763</th>\n",
       "      <td>0.64</td>\n",
       "      <td>784.0</td>\n",
       "      <td>343.0</td>\n",
       "      <td>220.50</td>\n",
       "      <td>3.5</td>\n",
       "      <td>5</td>\n",
       "      <td>0.4</td>\n",
       "      <td>5</td>\n",
       "      <td>17.88</td>\n",
       "    </tr>\n",
       "    <tr>\n",
       "      <th>764</th>\n",
       "      <td>0.62</td>\n",
       "      <td>808.5</td>\n",
       "      <td>367.5</td>\n",
       "      <td>220.50</td>\n",
       "      <td>3.5</td>\n",
       "      <td>2</td>\n",
       "      <td>0.4</td>\n",
       "      <td>5</td>\n",
       "      <td>16.54</td>\n",
       "    </tr>\n",
       "    <tr>\n",
       "      <th>765</th>\n",
       "      <td>0.62</td>\n",
       "      <td>808.5</td>\n",
       "      <td>367.5</td>\n",
       "      <td>220.50</td>\n",
       "      <td>3.5</td>\n",
       "      <td>3</td>\n",
       "      <td>0.4</td>\n",
       "      <td>5</td>\n",
       "      <td>16.44</td>\n",
       "    </tr>\n",
       "    <tr>\n",
       "      <th>766</th>\n",
       "      <td>0.62</td>\n",
       "      <td>808.5</td>\n",
       "      <td>367.5</td>\n",
       "      <td>220.50</td>\n",
       "      <td>3.5</td>\n",
       "      <td>4</td>\n",
       "      <td>0.4</td>\n",
       "      <td>5</td>\n",
       "      <td>16.48</td>\n",
       "    </tr>\n",
       "    <tr>\n",
       "      <th>767</th>\n",
       "      <td>0.62</td>\n",
       "      <td>808.5</td>\n",
       "      <td>367.5</td>\n",
       "      <td>220.50</td>\n",
       "      <td>3.5</td>\n",
       "      <td>5</td>\n",
       "      <td>0.4</td>\n",
       "      <td>5</td>\n",
       "      <td>16.64</td>\n",
       "    </tr>\n",
       "  </tbody>\n",
       "</table>\n",
       "<p>768 rows × 9 columns</p>\n",
       "</div>\n",
       "      <button class=\"colab-df-convert\" onclick=\"convertToInteractive('df-d95c8e17-d133-41cd-a45e-e840f86c7955')\"\n",
       "              title=\"Convert this dataframe to an interactive table.\"\n",
       "              style=\"display:none;\">\n",
       "        \n",
       "  <svg xmlns=\"http://www.w3.org/2000/svg\" height=\"24px\"viewBox=\"0 0 24 24\"\n",
       "       width=\"24px\">\n",
       "    <path d=\"M0 0h24v24H0V0z\" fill=\"none\"/>\n",
       "    <path d=\"M18.56 5.44l.94 2.06.94-2.06 2.06-.94-2.06-.94-.94-2.06-.94 2.06-2.06.94zm-11 1L8.5 8.5l.94-2.06 2.06-.94-2.06-.94L8.5 2.5l-.94 2.06-2.06.94zm10 10l.94 2.06.94-2.06 2.06-.94-2.06-.94-.94-2.06-.94 2.06-2.06.94z\"/><path d=\"M17.41 7.96l-1.37-1.37c-.4-.4-.92-.59-1.43-.59-.52 0-1.04.2-1.43.59L10.3 9.45l-7.72 7.72c-.78.78-.78 2.05 0 2.83L4 21.41c.39.39.9.59 1.41.59.51 0 1.02-.2 1.41-.59l7.78-7.78 2.81-2.81c.8-.78.8-2.07 0-2.86zM5.41 20L4 18.59l7.72-7.72 1.47 1.35L5.41 20z\"/>\n",
       "  </svg>\n",
       "      </button>\n",
       "      \n",
       "  <style>\n",
       "    .colab-df-container {\n",
       "      display:flex;\n",
       "      flex-wrap:wrap;\n",
       "      gap: 12px;\n",
       "    }\n",
       "\n",
       "    .colab-df-convert {\n",
       "      background-color: #E8F0FE;\n",
       "      border: none;\n",
       "      border-radius: 50%;\n",
       "      cursor: pointer;\n",
       "      display: none;\n",
       "      fill: #1967D2;\n",
       "      height: 32px;\n",
       "      padding: 0 0 0 0;\n",
       "      width: 32px;\n",
       "    }\n",
       "\n",
       "    .colab-df-convert:hover {\n",
       "      background-color: #E2EBFA;\n",
       "      box-shadow: 0px 1px 2px rgba(60, 64, 67, 0.3), 0px 1px 3px 1px rgba(60, 64, 67, 0.15);\n",
       "      fill: #174EA6;\n",
       "    }\n",
       "\n",
       "    [theme=dark] .colab-df-convert {\n",
       "      background-color: #3B4455;\n",
       "      fill: #D2E3FC;\n",
       "    }\n",
       "\n",
       "    [theme=dark] .colab-df-convert:hover {\n",
       "      background-color: #434B5C;\n",
       "      box-shadow: 0px 1px 3px 1px rgba(0, 0, 0, 0.15);\n",
       "      filter: drop-shadow(0px 1px 2px rgba(0, 0, 0, 0.3));\n",
       "      fill: #FFFFFF;\n",
       "    }\n",
       "  </style>\n",
       "\n",
       "      <script>\n",
       "        const buttonEl =\n",
       "          document.querySelector('#df-d95c8e17-d133-41cd-a45e-e840f86c7955 button.colab-df-convert');\n",
       "        buttonEl.style.display =\n",
       "          google.colab.kernel.accessAllowed ? 'block' : 'none';\n",
       "\n",
       "        async function convertToInteractive(key) {\n",
       "          const element = document.querySelector('#df-d95c8e17-d133-41cd-a45e-e840f86c7955');\n",
       "          const dataTable =\n",
       "            await google.colab.kernel.invokeFunction('convertToInteractive',\n",
       "                                                     [key], {});\n",
       "          if (!dataTable) return;\n",
       "\n",
       "          const docLinkHtml = 'Like what you see? Visit the ' +\n",
       "            '<a target=\"_blank\" href=https://colab.research.google.com/notebooks/data_table.ipynb>data table notebook</a>'\n",
       "            + ' to learn more about interactive tables.';\n",
       "          element.innerHTML = '';\n",
       "          dataTable['output_type'] = 'display_data';\n",
       "          await google.colab.output.renderOutput(dataTable, element);\n",
       "          const docLink = document.createElement('div');\n",
       "          docLink.innerHTML = docLinkHtml;\n",
       "          element.appendChild(docLink);\n",
       "        }\n",
       "      </script>\n",
       "    </div>\n",
       "  </div>\n",
       "  "
      ],
      "text/plain": [
       "       X1     X2     X3      X4   X5  X6   X7  X8     Y1\n",
       "0    0.98  514.5  294.0  110.25  7.0   2  0.0   0  15.55\n",
       "1    0.98  514.5  294.0  110.25  7.0   3  0.0   0  15.55\n",
       "2    0.98  514.5  294.0  110.25  7.0   4  0.0   0  15.55\n",
       "3    0.98  514.5  294.0  110.25  7.0   5  0.0   0  15.55\n",
       "4    0.90  563.5  318.5  122.50  7.0   2  0.0   0  20.84\n",
       "..    ...    ...    ...     ...  ...  ..  ...  ..    ...\n",
       "763  0.64  784.0  343.0  220.50  3.5   5  0.4   5  17.88\n",
       "764  0.62  808.5  367.5  220.50  3.5   2  0.4   5  16.54\n",
       "765  0.62  808.5  367.5  220.50  3.5   3  0.4   5  16.44\n",
       "766  0.62  808.5  367.5  220.50  3.5   4  0.4   5  16.48\n",
       "767  0.62  808.5  367.5  220.50  3.5   5  0.4   5  16.64\n",
       "\n",
       "[768 rows x 9 columns]"
      ]
     },
     "execution_count": 94,
     "metadata": {},
     "output_type": "execute_result"
    }
   ],
   "source": [
    "for dataheader in df.columns:\n",
    "  for j in range(df[dataheader].size):\n",
    "    try:\n",
    "      df[dataheader][j]=df[dataheader][j].astype(float)\n",
    "    except:\n",
    "      df[dataheader][j]=\"0\"\n",
    "df"
   ]
  },
  {
   "cell_type": "markdown",
   "metadata": {
    "id": "NkOWMXqnUNrd"
   },
   "source": [
    "####normalize the data\n"
   ]
  },
  {
   "cell_type": "code",
   "execution_count": 95,
   "metadata": {
    "colab": {
     "base_uri": "https://localhost:8080/"
    },
    "id": "MuMRLbIXVSxq",
    "outputId": "81291f7c-7c69-459d-dc34-9eb79dbb8cf4"
   },
   "outputs": [
    {
     "name": "stdout",
     "output_type": "stream",
     "text": [
      "           X1        X2        X3        X4        X5        X6        X7  \\\n",
      "0    0.045840  0.027405  0.033001  0.021825  0.045644  0.019642  0.000000   \n",
      "1    0.045840  0.027405  0.033001  0.021825  0.045644  0.029463  0.000000   \n",
      "2    0.045840  0.027405  0.033001  0.021825  0.045644  0.039284  0.000000   \n",
      "3    0.045840  0.027405  0.033001  0.021825  0.045644  0.049105  0.000000   \n",
      "4    0.042098  0.030015  0.035751  0.024250  0.045644  0.019642  0.000000   \n",
      "..        ...       ...       ...       ...       ...       ...       ...   \n",
      "763  0.029936  0.041760  0.038501  0.043650  0.022822  0.049105  0.053548   \n",
      "764  0.029001  0.043065  0.041251  0.043650  0.022822  0.019642  0.053548   \n",
      "765  0.029001  0.043065  0.041251  0.043650  0.022822  0.029463  0.053548   \n",
      "766  0.029001  0.043065  0.041251  0.043650  0.022822  0.039284  0.053548   \n",
      "767  0.029001  0.043065  0.041251  0.043650  0.022822  0.049105  0.053548   \n",
      "\n",
      "           X8  \n",
      "0    0.000000  \n",
      "1    0.000000  \n",
      "2    0.000000  \n",
      "3    0.000000  \n",
      "4    0.000000  \n",
      "..        ...  \n",
      "763  0.056183  \n",
      "764  0.056183  \n",
      "765  0.056183  \n",
      "766  0.056183  \n",
      "767  0.056183  \n",
      "\n",
      "[768 rows x 8 columns]\n"
     ]
    }
   ],
   "source": [
    "Y=df[\"Y1\"].to_numpy()\n",
    "df=df.drop(\"Y1\",axis=1)\n",
    "for dataheaders in df.columns:\n",
    "  df[dataheaders]=normalize([df[dataheaders]])[0]\n",
    "print(df)"
   ]
  },
  {
   "cell_type": "markdown",
   "metadata": {
    "id": "Py4WBAMLVzD4"
   },
   "source": [
    "####spliting the data into training,validation,testing"
   ]
  },
  {
   "cell_type": "code",
   "execution_count": 96,
   "metadata": {
    "colab": {
     "base_uri": "https://localhost:8080/"
    },
    "id": "V-2qO8E6WAHP",
    "outputId": "be367637-a8ff-485b-c244-c6fe3f9525bd"
   },
   "outputs": [
    {
     "name": "stdout",
     "output_type": "stream",
     "text": [
      "(537, 8) (77, 8) (154, 8)\n"
     ]
    }
   ],
   "source": [
    "X=df.to_numpy()\n",
    "\n",
    "X_train,X_temp,Y_train,Y_temp=tts(X,Y,test_size=0.3,shuffle=True,random_state=42)\n",
    "X_test,X_valid,Y_test,Y_valid=tts(X_temp,Y_temp,test_size=1/3,shuffle=True,random_state=42)\n",
    "print(X_train.shape,X_valid.shape,X_test.shape)\n"
   ]
  },
  {
   "cell_type": "markdown",
   "metadata": {
    "id": "e9IhQUstdOEs"
   },
   "source": [
    "###Part 2\n"
   ]
  },
  {
   "cell_type": "code",
   "execution_count": null,
   "metadata": {
    "colab": {
     "base_uri": "https://localhost:8080/",
     "height": 300
    },
    "id": "xmh4e8kPdb8O",
    "outputId": "1c6d54a2-b623-4c0e-e482-ab3b893a5ee0"
   },
   "outputs": [
    {
     "name": "stdout",
     "output_type": "stream",
     "text": [
      "Score of the decision tree is  0.9916711908474649\n",
      "mse of the decision tree is  0.8110478831074089\n"
     ]
    },
    {
     "data": {
      "image/png": "[encoded data removed]",
      "text/plain": [
       "<Figure size 432x288 with 1 Axes>"
      ]
     },
     "metadata": {
      "needs_background": "light"
     },
     "output_type": "display_data"
    }
   ],
   "source": [
    "reg=DecisionTreeRegressor(criterion=\"squared_error\",splitter=\"best\",max_depth=7,max_features=2,min_impurity_decrease=0.0,min_samples_split=12);\n",
    "reg.fit(X_train,Y_train)\n",
    "\n",
    "y_pred_valid=reg.predict(X_valid)\n",
    "print(\"Score of the decision tree is \",reg.score(X_valid,Y_valid))\n",
    "print(\"mse of the decision tree is \",mse(y_pred_valid,Y_valid))\n",
    "\n",
    "\n",
    "# plt.rcParams['figure.figsize'] = [100, 10]\n",
    "\n",
    "x=range(Y_valid.size)\n",
    "plt.scatter(x,Y_valid,color=\"red\")\n",
    "plt.plot(x,y_pred_valid)\n",
    "plt.show()\n",
    "\n"
   ]
  },
  {
   "cell_type": "code",
   "execution_count": null,
   "metadata": {
    "colab": {
     "base_uri": "https://localhost:8080/",
     "height": 332
    },
    "id": "wagafYc_nrAs",
    "outputId": "eabcf593-e195-4b26-ce53-837cb73928a9"
   },
   "outputs": [
    {
     "name": "stdout",
     "output_type": "stream",
     "text": [
      "(98,)\n",
      "(98,)\n"
     ]
    },
    {
     "data": {
      "image/png": "[encoded data removed]",
      "text/plain": [
       "<Figure size 432x288 with 1 Axes>"
      ]
     },
     "metadata": {
      "needs_background": "light"
     },
     "output_type": "display_data"
    },
    {
     "name": "stdout",
     "output_type": "stream",
     "text": [
      "7\n"
     ]
    }
   ],
   "source": [
    "max_depth = np.arange(2,100,1)\n",
    "print(max_depth.shape)\n",
    "y_max_depth = np.zeros(max_depth.shape)\n",
    "print(y_max_depth.shape)\n",
    "min = 1000\n",
    "min_idx=-1\n",
    "for i in max_depth:\n",
    "  # print(\"for max depth = \",i)\n",
    "  temp_reg=DecisionTreeRegressor(max_depth=i);\n",
    "  temp_reg.fit(X_train,Y_train)\n",
    "\n",
    "  y_pred_valid=temp_reg.predict(X_valid)\n",
    "  # print(\"Score of the decision tree is \",temp_reg.score(X_valid,Y_valid))\n",
    "  # print(\"mse of the decision tree is \",mse(y_pred_valid,Y_valid))\n",
    "  y_max_depth[i-2] = mse(y_pred_valid,Y_valid)\n",
    "  if(y_max_depth[i-2]<min):\n",
    "      min=y_max_depth[i-2]\n",
    "      min_idx = i;\n",
    "  \n",
    "\n",
    "\n",
    "  # plt.rcParams['figure.figsize'] = [100, 10]\n",
    "\n",
    "plt.plot(max_depth,y_max_depth)\n",
    "plt.xlabel(\"max_depth\")\n",
    "plt.ylabel(\"mse\")\n",
    "plt.show()\n",
    "print(min_idx)\n"
   ]
  },
  {
   "cell_type": "code",
   "execution_count": null,
   "metadata": {
    "colab": {
     "base_uri": "https://localhost:8080/",
     "height": 300
    },
    "id": "dSxG84ZCo_Q9",
    "outputId": "41088f02-bbaf-43e9-d7b0-0c74e4e1e336"
   },
   "outputs": [
    {
     "data": {
      "image/png": "[encoded data removed]",
      "text/plain": [
       "<Figure size 432x288 with 1 Axes>"
      ]
     },
     "metadata": {
      "needs_background": "light"
     },
     "output_type": "display_data"
    },
    {
     "name": "stdout",
     "output_type": "stream",
     "text": [
      "12\n"
     ]
    }
   ],
   "source": [
    "min_sample_splits = np.arange(2,50,1)\n",
    "y_min_sample_splits = np.zeros(min_sample_splits.shape)\n",
    "min = 1000\n",
    "min_idx=-1\n",
    "for i in min_sample_splits:\n",
    "  # print(\"for min_sample_split = \",i)\n",
    "  temp_reg=DecisionTreeRegressor(min_samples_split=i);\n",
    "  temp_reg.fit(X_train,Y_train)\n",
    "\n",
    "  y_pred_valid=temp_reg.predict(X_valid)\n",
    "  y_min_sample_splits[i-2] = mse(y_pred_valid,Y_valid) \n",
    "  if(y_min_sample_splits[i-2]<min):\n",
    "      min=y_min_sample_splits[i-2]\n",
    "      min_idx=i\n",
    "  \n",
    "\n",
    "  # plt.rcParams['figure.figsize'] = [100, 10]\n",
    "\n",
    "plt.plot(min_sample_splits,y_min_sample_splits)\n",
    "plt.xlabel(\"min_sample_splits\")\n",
    "plt.ylabel(\"mse\")\n",
    "plt.show()\n",
    "print(min_idx)\n"
   ]
  },
  {
   "cell_type": "code",
   "execution_count": null,
   "metadata": {
    "colab": {
     "base_uri": "https://localhost:8080/",
     "height": 297
    },
    "id": "SYNcOB3XnMLV",
    "outputId": "75695c01-9240-4f86-83ae-1db85e5a1def"
   },
   "outputs": [
    {
     "data": {
      "image/png": "[encoded data removed]",
      "text/plain": [
       "<Figure size 432x288 with 1 Axes>"
      ]
     },
     "metadata": {
      "needs_background": "light"
     },
     "output_type": "display_data"
    },
    {
     "name": "stdout",
     "output_type": "stream",
     "text": [
      "0.003003003003003003\n"
     ]
    }
   ],
   "source": [
    "min_impurity_decrease = np.linspace(0,1,1000)\n",
    "y_min_impurity_decrease = np.zeros(min_impurity_decrease.shape)\n",
    "min = 1000\n",
    "min_idx=-1\n",
    "idx=0\n",
    "for i in min_impurity_decrease:\n",
    "  # print(\"for min_sample_split = \",i)\n",
    "  temp_reg=DecisionTreeRegressor(min_impurity_decrease=i);\n",
    "  temp_reg.fit(X_train,Y_train)\n",
    "\n",
    "  y_pred_valid=temp_reg.predict(X_valid)\n",
    "  y_min_impurity_decrease[idx] = mse(y_pred_valid,Y_valid) \n",
    "  if(y_min_impurity_decrease[idx]<min):\n",
    "      min=y_min_impurity_decrease[idx]\n",
    "      min_idx=i\n",
    "  idx+=1\n",
    "  \n",
    "\n",
    "  # plt.rcParams['figure.figsize'] = [100, 10]\n",
    "\n",
    "plt.plot(min_impurity_decrease,y_min_impurity_decrease)\n",
    "plt.xlabel(\"min_impurity_decrease\")\n",
    "plt.ylabel(\"mse\")\n",
    "plt.show()\n",
    "print(min_idx)\n"
   ]
  },
  {
   "cell_type": "markdown",
   "metadata": {
    "id": "5yXQ-M260bqd"
   },
   "source": [
    "###Part 3\n",
    "\n"
   ]
  },
  {
   "cell_type": "markdown",
   "metadata": {
    "id": "Jg6sCILW8BFF"
   },
   "source": [
    "####Hold out cross validation\n"
   ]
  },
  {
   "cell_type": "code",
   "execution_count": null,
   "metadata": {
    "colab": {
     "base_uri": "https://localhost:8080/",
     "height": 282
    },
    "id": "mrnc8JE50gDW",
    "outputId": "0b67042a-56ea-499e-abba-5b6cf63af983"
   },
   "outputs": [
    {
     "name": "stdout",
     "output_type": "stream",
     "text": [
      "Score of decision tree on hold out validation for test_size = 0.3 is  0.9711426031469894\n"
     ]
    },
    {
     "data": {
      "image/png": "[encoded data removed]",
      "text/plain": [
       "<Figure size 432x288 with 1 Axes>"
      ]
     },
     "metadata": {
      "needs_background": "light"
     },
     "output_type": "display_data"
    }
   ],
   "source": [
    "temp_reg=DecisionTreeRegressor(criterion=\"squared_error\",splitter=\"best\",max_depth=8,max_features=2,min_impurity_decrease=0.001,min_samples_split=4);\n",
    "x_train,x_test,y_train,y_test = tts(X,Y,test_size=0.3,random_state=42,shuffle=True)\n",
    "temp_reg.fit(x_train,y_train)\n",
    "y_pred=temp_reg.predict(x_test)\n",
    "print(\"Score of decision tree on hold out validation for test_size = 0.3 is \",temp_reg.score(x_test,y_test))\n",
    "\n",
    "x=range(y_test.size)\n",
    "plt.scatter(x,y_pred)\n",
    "plt.plot(x,y_test)\n",
    "plt.show()"
   ]
  },
  {
   "cell_type": "markdown",
   "metadata": {
    "id": "gPGbYU7h8EkF"
   },
   "source": [
    "####5-fold cross validation"
   ]
  },
  {
   "cell_type": "code",
   "execution_count": null,
   "metadata": {
    "colab": {
     "base_uri": "https://localhost:8080/"
    },
    "id": "J2U58RB38OSg",
    "outputId": "ca51c11f-088d-4d0b-df1f-5a4e9e8488d5"
   },
   "outputs": [
    {
     "name": "stdout",
     "output_type": "stream",
     "text": [
      "mean score  0.9740800025926509\n",
      "variance  0.00012574480916795753\n"
     ]
    }
   ],
   "source": [
    "temp_reg=DecisionTreeRegressor(criterion=\"squared_error\",splitter=\"best\",max_depth=8,max_features=2,min_impurity_decrease=0.001,min_samples_split=4);\n",
    "cv=KFold(n_splits=5,random_state=42,shuffle=True)\n",
    "scores = cross_val_score(temp_reg, X, Y,cv=cv,n_jobs=-1)\n",
    "print(\"mean score \",np.mean(scores))\n",
    "print(\"variance \",np.var(scores))"
   ]
  },
  {
   "cell_type": "markdown",
   "metadata": {
    "id": "YfanqkzA-tH7"
   },
   "source": [
    "####repeated 5-fold validation\n"
   ]
  },
  {
   "cell_type": "code",
   "execution_count": null,
   "metadata": {
    "colab": {
     "base_uri": "https://localhost:8080/"
    },
    "id": "ZcmKlLVT-05P",
    "outputId": "6fc56897-08d4-49c4-9755-5d1b7b900820"
   },
   "outputs": [
    {
     "name": "stdout",
     "output_type": "stream",
     "text": [
      "mean score  0.9748297310921604\n",
      "variance  0.0002127912317861828\n"
     ]
    }
   ],
   "source": [
    "temp_reg=DecisionTreeRegressor(criterion=\"squared_error\",splitter=\"best\",max_depth=8,max_features=2,min_impurity_decrease=0.001,min_samples_split=4);\n",
    "cv=RepeatedKFold(n_splits=5,n_repeats=10,random_state=42)\n",
    "scores = cross_val_score(temp_reg, X, Y,cv=cv,n_jobs=-1)\n",
    "print(\"mean score \",np.mean(scores))\n",
    "print(\"variance \",np.var(scores))"
   ]
  },
  {
   "cell_type": "markdown",
   "metadata": {
    "id": "XJ9mwv2QAj85"
   },
   "source": [
    "####mse calculation for test data"
   ]
  },
  {
   "cell_type": "code",
   "execution_count": null,
   "metadata": {
    "colab": {
     "base_uri": "https://localhost:8080/"
    },
    "id": "WkExc5VCA9BT",
    "outputId": "3f27fa5f-3c3f-47c8-d489-2e0e15097f74"
   },
   "outputs": [
    {
     "name": "stdout",
     "output_type": "stream",
     "text": [
      "Score of the decision tree is  0.9784358409555581\n",
      "mse of the decision tree is  2.2177903468153395\n"
     ]
    }
   ],
   "source": [
    "\n",
    "\n",
    "y_pred_test=reg.predict(X_test)\n",
    "print(\"Score of the decision tree is \",reg.score(X_test,Y_test))\n",
    "print(\"mse of the decision tree is \",mse(y_pred_test,Y_test))\n"
   ]
  },
  {
   "cell_type": "markdown",
   "metadata": {
    "id": "pbt8xocAa4nc"
   },
   "source": [
    "####Plotting the decision tree\n"
   ]
  },
  {
   "cell_type": "code",
   "execution_count": null,
   "metadata": {
    "colab": {
     "base_uri": "https://localhost:8080/",
     "height": 1000
    },
    "id": "0DS1pk9Ia-Vd",
    "outputId": "b658a2da-81b0-4744-9cad-43fe5f3cdba2"
   },
   "outputs": [
    {
     "data": {
      "text/plain": [
       "[Text(0.46291208791208793, 0.9375, 'X[4] <= 0.034\\nsquared_error = 101.582\\nsamples = 537\\nvalue = 22.051'),\n",
       " Text(0.19986263736263737, 0.8125, 'X[0] <= 0.03\\nsquared_error = 6.493\\nsamples = 276\\nvalue = 13.342'),\n",
       " Text(0.08791208791208792, 0.6875, 'X[6] <= 0.023\\nsquared_error = 5.884\\nsamples = 92\\nvalue = 15.199'),\n",
       " Text(0.04395604395604396, 0.5625, 'X[0] <= 0.029\\nsquared_error = 3.872\\nsamples = 38\\nvalue = 13.225'),\n",
       " Text(0.02197802197802198, 0.4375, 'X[7] <= 0.006\\nsquared_error = 2.363\\nsamples = 21\\nvalue = 12.229'),\n",
       " Text(0.01098901098901099, 0.3125, 'squared_error = 0.0\\nsamples = 3\\nvalue = 8.48'),\n",
       " Text(0.03296703296703297, 0.3125, 'X[5] <= 0.025\\nsquared_error = 0.024\\nsamples = 18\\nvalue = 12.853'),\n",
       " Text(0.02197802197802198, 0.1875, 'squared_error = 0.019\\nsamples = 5\\nvalue = 12.792'),\n",
       " Text(0.04395604395604396, 0.1875, 'X[7] <= 0.028\\nsquared_error = 0.025\\nsamples = 13\\nvalue = 12.877'),\n",
       " Text(0.03296703296703297, 0.0625, 'squared_error = 0.001\\nsamples = 6\\nvalue = 12.988'),\n",
       " Text(0.054945054945054944, 0.0625, 'squared_error = 0.025\\nsamples = 7\\nvalue = 12.781'),\n",
       " Text(0.06593406593406594, 0.4375, 'X[7] <= 0.006\\nsquared_error = 2.993\\nsamples = 17\\nvalue = 14.456'),\n",
       " Text(0.054945054945054944, 0.3125, 'squared_error = 0.015\\nsamples = 3\\nvalue = 10.727'),\n",
       " Text(0.07692307692307693, 0.3125, 'X[5] <= 0.025\\nsquared_error = 0.011\\nsamples = 14\\nvalue = 15.256'),\n",
       " Text(0.06593406593406594, 0.1875, 'squared_error = 0.015\\nsamples = 4\\nvalue = 15.282'),\n",
       " Text(0.08791208791208792, 0.1875, 'squared_error = 0.009\\nsamples = 10\\nvalue = 15.245'),\n",
       " Text(0.13186813186813187, 0.5625, 'X[2] <= 0.04\\nsquared_error = 2.629\\nsamples = 54\\nvalue = 16.588'),\n",
       " Text(0.10989010989010989, 0.4375, 'X[7] <= 0.017\\nsquared_error = 1.135\\nsamples = 25\\nvalue = 17.797'),\n",
       " Text(0.0989010989010989, 0.3125, 'squared_error = 0.679\\nsamples = 4\\nvalue = 18.945'),\n",
       " Text(0.12087912087912088, 0.3125, 'X[5] <= 0.034\\nsquared_error = 0.923\\nsamples = 21\\nvalue = 17.579'),\n",
       " Text(0.10989010989010989, 0.1875, 'squared_error = 0.965\\nsamples = 11\\nvalue = 17.938'),\n",
       " Text(0.13186813186813187, 0.1875, 'squared_error = 0.579\\nsamples = 10\\nvalue = 17.183'),\n",
       " Text(0.15384615384615385, 0.4375, 'X[5] <= 0.025\\nsquared_error = 1.57\\nsamples = 29\\nvalue = 15.546'),\n",
       " Text(0.14285714285714285, 0.3125, 'squared_error = 0.249\\nsamples = 4\\nvalue = 14.36'),\n",
       " Text(0.16483516483516483, 0.3125, 'X[7] <= 0.028\\nsquared_error = 1.521\\nsamples = 25\\nvalue = 15.735'),\n",
       " Text(0.15384615384615385, 0.1875, 'squared_error = 1.155\\nsamples = 10\\nvalue = 16.311'),\n",
       " Text(0.17582417582417584, 0.1875, 'X[5] <= 0.044\\nsquared_error = 1.397\\nsamples = 15\\nvalue = 15.351'),\n",
       " Text(0.16483516483516483, 0.0625, 'squared_error = 1.33\\nsamples = 11\\nvalue = 15.307'),\n",
       " Text(0.18681318681318682, 0.0625, 'squared_error = 1.562\\nsamples = 4\\nvalue = 15.472'),\n",
       " Text(0.3118131868131868, 0.6875, 'X[0] <= 0.032\\nsquared_error = 4.21\\nsamples = 184\\nvalue = 12.413'),\n",
       " Text(0.24175824175824176, 0.5625, 'X[5] <= 0.044\\nsquared_error = 4.688\\nsamples = 46\\nvalue = 12.965'),\n",
       " Text(0.23076923076923078, 0.4375, 'X[5] <= 0.034\\nsquared_error = 5.132\\nsamples = 37\\nvalue = 12.849'),\n",
       " Text(0.2087912087912088, 0.3125, 'X[6] <= 0.023\\nsquared_error = 5.242\\nsamples = 25\\nvalue = 13.042'),\n",
       " Text(0.1978021978021978, 0.1875, 'squared_error = 3.538\\nsamples = 8\\nvalue = 10.392'),\n",
       " Text(0.21978021978021978, 0.1875, 'X[6] <= 0.044\\nsquared_error = 1.188\\nsamples = 17\\nvalue = 14.288'),\n",
       " Text(0.2087912087912088, 0.0625, 'squared_error = 0.01\\nsamples = 7\\nvalue = 12.994'),\n",
       " Text(0.23076923076923078, 0.0625, 'squared_error = 0.019\\nsamples = 10\\nvalue = 15.194'),\n",
       " Text(0.25274725274725274, 0.3125, 'X[7] <= 0.006\\nsquared_error = 4.664\\nsamples = 12\\nvalue = 12.448'),\n",
       " Text(0.24175824175824176, 0.1875, 'squared_error = 0.0\\nsamples = 1\\nvalue = 7.1'),\n",
       " Text(0.26373626373626374, 0.1875, 'squared_error = 2.252\\nsamples = 11\\nvalue = 12.935'),\n",
       " Text(0.25274725274725274, 0.4375, 'squared_error = 2.578\\nsamples = 9\\nvalue = 13.443'),\n",
       " Text(0.38186813186813184, 0.5625, 'X[2] <= 0.029\\nsquared_error = 3.916\\nsamples = 138\\nvalue = 12.229'),\n",
       " Text(0.32967032967032966, 0.4375, 'X[6] <= 0.023\\nsquared_error = 5.321\\nsamples = 43\\nvalue = 11.934'),\n",
       " Text(0.2967032967032967, 0.3125, 'X[7] <= 0.006\\nsquared_error = 2.809\\nsamples = 16\\nvalue = 9.516'),\n",
       " Text(0.2857142857142857, 0.1875, 'squared_error = 0.0\\nsamples = 3\\nvalue = 6.033'),\n",
       " Text(0.3076923076923077, 0.1875, 'X[5] <= 0.025\\nsquared_error = 0.013\\nsamples = 13\\nvalue = 10.319'),\n",
       " Text(0.2967032967032967, 0.0625, 'squared_error = 0.0\\nsamples = 1\\nvalue = 10.08'),\n",
       " Text(0.31868131868131866, 0.0625, 'squared_error = 0.009\\nsamples = 12\\nvalue = 10.339'),\n",
       " Text(0.3626373626373626, 0.3125, 'X[7] <= 0.051\\nsquared_error = 1.287\\nsamples = 27\\nvalue = 13.368'),\n",
       " Text(0.3516483516483517, 0.1875, 'X[5] <= 0.025\\nsquared_error = 1.078\\nsamples = 21\\nvalue = 13.556'),\n",
       " Text(0.34065934065934067, 0.0625, 'squared_error = 1.345\\nsamples = 6\\nvalue = 13.335'),\n",
       " Text(0.3626373626373626, 0.0625, 'squared_error = 0.944\\nsamples = 15\\nvalue = 13.645'),\n",
       " Text(0.37362637362637363, 0.1875, 'squared_error = 1.461\\nsamples = 6\\nvalue = 12.708'),\n",
       " Text(0.4340659340659341, 0.4375, 'X[6] <= 0.023\\nsquared_error = 3.223\\nsamples = 95\\nvalue = 12.363'),\n",
       " Text(0.4065934065934066, 0.3125, 'X[5] <= 0.044\\nsquared_error = 2.3\\nsamples = 33\\nvalue = 10.527'),\n",
       " Text(0.3956043956043956, 0.1875, 'X[2] <= 0.032\\nsquared_error = 1.968\\nsamples = 26\\nvalue = 10.48'),\n",
       " Text(0.38461538461538464, 0.0625, 'squared_error = 1.514\\nsamples = 11\\nvalue = 10.284'),\n",
       " Text(0.4065934065934066, 0.0625, 'squared_error = 2.252\\nsamples = 15\\nvalue = 10.625'),\n",
       " Text(0.4175824175824176, 0.1875, 'squared_error = 3.497\\nsamples = 7\\nvalue = 10.7'),\n",
       " Text(0.46153846153846156, 0.3125, 'X[7] <= 0.017\\nsquared_error = 0.965\\nsamples = 62\\nvalue = 13.34'),\n",
       " Text(0.43956043956043955, 0.1875, 'X[0] <= 0.033\\nsquared_error = 0.833\\nsamples = 13\\nvalue = 13.684'),\n",
       " Text(0.42857142857142855, 0.0625, 'squared_error = 0.718\\nsamples = 7\\nvalue = 13.784'),\n",
       " Text(0.45054945054945056, 0.0625, 'squared_error = 0.943\\nsamples = 6\\nvalue = 13.567'),\n",
       " Text(0.4835164835164835, 0.1875, 'X[6] <= 0.044\\nsquared_error = 0.96\\nsamples = 49\\nvalue = 13.249'),\n",
       " Text(0.4725274725274725, 0.0625, 'squared_error = 0.067\\nsamples = 26\\nvalue = 12.449'),\n",
       " Text(0.4945054945054945, 0.0625, 'squared_error = 0.426\\nsamples = 23\\nvalue = 14.154'),\n",
       " Text(0.7259615384615384, 0.8125, 'X[1] <= 0.033\\nsquared_error = 37.134\\nsamples = 261\\nvalue = 31.26'),\n",
       " Text(0.5810439560439561, 0.6875, 'X[7] <= 0.006\\nsquared_error = 19.694\\nsamples = 173\\nvalue = 28.211'),\n",
       " Text(0.521978021978022, 0.5625, 'X[0] <= 0.044\\nsquared_error = 4.194\\nsamples = 12\\nvalue = 17.842'),\n",
       " Text(0.510989010989011, 0.4375, 'squared_error = 3.258\\nsamples = 9\\nvalue = 18.606'),\n",
       " Text(0.532967032967033, 0.4375, 'squared_error = -0.0\\nsamples = 3\\nvalue = 15.55'),\n",
       " Text(0.6401098901098901, 0.5625, 'X[6] <= 0.023\\nsquared_error = 12.238\\nsamples = 161\\nvalue = 28.984'),\n",
       " Text(0.554945054945055, 0.4375, 'X[3] <= 0.023\\nsquared_error = 3.857\\nsamples = 54\\nvalue = 25.716'),\n",
       " Text(0.5164835164835165, 0.3125, 'X[7] <= 0.017\\nsquared_error = 0.029\\nsamples = 14\\nvalue = 24.282'),\n",
       " Text(0.5054945054945055, 0.1875, 'squared_error = 0.001\\nsamples = 2\\nvalue = 24.605'),\n",
       " Text(0.5274725274725275, 0.1875, 'X[5] <= 0.034\\nsquared_error = 0.013\\nsamples = 12\\nvalue = 24.228'),\n",
       " Text(0.5164835164835165, 0.0625, 'squared_error = 0.001\\nsamples = 4\\nvalue = 24.312'),\n",
       " Text(0.5384615384615384, 0.0625, 'squared_error = 0.014\\nsamples = 8\\nvalue = 24.186'),\n",
       " Text(0.5934065934065934, 0.3125, 'X[0] <= 0.039\\nsquared_error = 4.226\\nsamples = 40\\nvalue = 26.218'),\n",
       " Text(0.5714285714285714, 0.1875, 'X[5] <= 0.044\\nsquared_error = 0.266\\nsamples = 12\\nvalue = 23.646'),\n",
       " Text(0.5604395604395604, 0.0625, 'squared_error = 0.251\\nsamples = 8\\nvalue = 23.624'),\n",
       " Text(0.5824175824175825, 0.0625, 'squared_error = 0.293\\nsamples = 4\\nvalue = 23.69'),\n",
       " Text(0.6153846153846154, 0.1875, 'X[1] <= 0.031\\nsquared_error = 1.873\\nsamples = 28\\nvalue = 27.32'),\n",
       " Text(0.6043956043956044, 0.0625, 'squared_error = 0.364\\nsamples = 11\\nvalue = 28.85'),\n",
       " Text(0.6263736263736264, 0.0625, 'squared_error = 0.354\\nsamples = 17\\nvalue = 26.33'),\n",
       " Text(0.7252747252747253, 0.4375, 'X[1] <= 0.032\\nsquared_error = 8.357\\nsamples = 107\\nvalue = 30.633'),\n",
       " Text(0.6813186813186813, 0.3125, 'X[0] <= 0.041\\nsquared_error = 5.234\\nsamples = 78\\nvalue = 31.792'),\n",
       " Text(0.6593406593406593, 0.1875, 'X[7] <= 0.051\\nsquared_error = 2.173\\nsamples = 27\\nvalue = 30.782'),\n",
       " Text(0.6483516483516484, 0.0625, 'squared_error = 2.327\\nsamples = 22\\nvalue = 30.909'),\n",
       " Text(0.6703296703296703, 0.0625, 'squared_error = 1.113\\nsamples = 5\\nvalue = 30.224'),\n",
       " Text(0.7032967032967034, 0.1875, 'X[0] <= 0.044\\nsquared_error = 6.029\\nsamples = 51\\nvalue = 32.327'),\n",
       " Text(0.6923076923076923, 0.0625, 'squared_error = 3.106\\nsamples = 26\\nvalue = 33.838'),\n",
       " Text(0.7142857142857143, 0.0625, 'squared_error = 4.226\\nsamples = 25\\nvalue = 30.755'),\n",
       " Text(0.7692307692307693, 0.3125, 'X[6] <= 0.044\\nsquared_error = 3.432\\nsamples = 29\\nvalue = 27.517'),\n",
       " Text(0.7472527472527473, 0.1875, 'X[5] <= 0.034\\nsquared_error = 0.304\\nsamples = 14\\nvalue = 25.686'),\n",
       " Text(0.7362637362637363, 0.0625, 'squared_error = 0.426\\nsamples = 8\\nvalue = 25.745'),\n",
       " Text(0.7582417582417582, 0.0625, 'squared_error = 0.131\\nsamples = 6\\nvalue = 25.608'),\n",
       " Text(0.7912087912087912, 0.1875, 'X[5] <= 0.034\\nsquared_error = 0.306\\nsamples = 15\\nvalue = 29.225'),\n",
       " Text(0.7802197802197802, 0.0625, 'squared_error = 0.155\\nsamples = 7\\nvalue = 29.429'),\n",
       " Text(0.8021978021978022, 0.0625, 'squared_error = 0.37\\nsamples = 8\\nvalue = 29.048'),\n",
       " Text(0.8708791208791209, 0.6875, 'X[3] <= 0.027\\nsquared_error = 17.238\\nsamples = 88\\nvalue = 37.252'),\n",
       " Text(0.8241758241758241, 0.5625, 'X[6] <= 0.023\\nsquared_error = 17.553\\nsamples = 44\\nvalue = 35.998'),\n",
       " Text(0.8021978021978022, 0.4375, 'X[7] <= 0.006\\nsquared_error = 11.775\\nsamples = 14\\nvalue = 31.015'),\n",
       " Text(0.7912087912087912, 0.3125, 'squared_error = 0.157\\nsamples = 3\\nvalue = 24.49'),\n",
       " Text(0.8131868131868132, 0.3125, 'squared_error = 0.165\\nsamples = 11\\nvalue = 32.795'),\n",
       " Text(0.8461538461538461, 0.4375, 'X[7] <= 0.028\\nsquared_error = 3.254\\nsamples = 30\\nvalue = 38.323'),\n",
       " Text(0.8351648351648352, 0.3125, 'squared_error = 3.606\\nsamples = 11\\nvalue = 38.788'),\n",
       " Text(0.8571428571428571, 0.3125, 'X[5] <= 0.034\\nsquared_error = 2.853\\nsamples = 19\\nvalue = 38.054'),\n",
       " Text(0.8461538461538461, 0.1875, 'squared_error = 2.761\\nsamples = 8\\nvalue = 38.399'),\n",
       " Text(0.8681318681318682, 0.1875, 'squared_error = 2.77\\nsamples = 11\\nvalue = 37.804'),\n",
       " Text(0.9175824175824175, 0.5625, 'X[7] <= 0.006\\nsquared_error = 13.776\\nsamples = 44\\nvalue = 38.507'),\n",
       " Text(0.9065934065934066, 0.4375, 'squared_error = 0.335\\nsamples = 4\\nvalue = 29.2'),\n",
       " Text(0.9285714285714286, 0.4375, 'X[6] <= 0.023\\nsquared_error = 5.593\\nsamples = 40\\nvalue = 39.437'),\n",
       " Text(0.9010989010989011, 0.3125, 'X[5] <= 0.025\\nsquared_error = 0.395\\nsamples = 12\\nvalue = 36.409'),\n",
       " Text(0.8901098901098901, 0.1875, 'squared_error = 0.356\\nsamples = 4\\nvalue = 36.005'),\n",
       " Text(0.9120879120879121, 0.1875, 'squared_error = 0.292\\nsamples = 8\\nvalue = 36.611'),\n",
       " Text(0.9560439560439561, 0.3125, 'X[5] <= 0.034\\nsquared_error = 2.207\\nsamples = 28\\nvalue = 40.735'),\n",
       " Text(0.9340659340659341, 0.1875, 'X[7] <= 0.039\\nsquared_error = 2.318\\nsamples = 14\\nvalue = 40.957'),\n",
       " Text(0.9230769230769231, 0.0625, 'squared_error = 2.621\\nsamples = 9\\nvalue = 40.549'),\n",
       " Text(0.945054945054945, 0.0625, 'squared_error = 0.931\\nsamples = 5\\nvalue = 41.692'),\n",
       " Text(0.978021978021978, 0.1875, 'X[6] <= 0.044\\nsquared_error = 1.997\\nsamples = 14\\nvalue = 40.513'),\n",
       " Text(0.967032967032967, 0.0625, 'squared_error = 0.354\\nsamples = 7\\nvalue = 39.234'),\n",
       " Text(0.989010989010989, 0.0625, 'squared_error = 0.371\\nsamples = 7\\nvalue = 41.791')]"
      ]
     },
     "execution_count": 15,
     "metadata": {},
     "output_type": "execute_result"
    },
    {
     "data": {
      "image/png": "[encoded data removed]",
      "text/plain": [
       "<Figure size 432x288 with 1 Axes>"
      ]
     },
     "metadata": {
      "needs_background": "light"
     },
     "output_type": "display_data"
    }
   ],
   "source": [
    "tree.plot_tree(reg)"
   ]
  },
  {
   "cell_type": "markdown",
   "metadata": {
    "id": "-2mX4CvKcu72"
   },
   "source": [
    "###Part 4"
   ]
  },
  {
   "cell_type": "code",
   "execution_count": 101,
   "metadata": {
    "colab": {
     "base_uri": "https://localhost:8080/",
     "height": 351
    },
    "id": "dFQl-pfAcwv-",
    "outputId": "8293f8bd-54d6-4e41-93cd-c3ea204ab1bd"
   },
   "outputs": [
    {
     "name": "stdout",
     "output_type": "stream",
     "text": [
      "0.8842542973012762\n"
     ]
    },
    {
     "data": {
      "image/png": "[encoded data removed]",
      "text/plain": [
       "<Figure size 864x360 with 1 Axes>"
      ]
     },
     "metadata": {
      "needs_background": "light"
     },
     "output_type": "display_data"
    }
   ],
   "source": [
    "# L2 loss reduction\n",
    "X_train_new=X_train[:,:1]\n",
    "X_test_new=X_test[:,:1]\n",
    "temp_model = DecisionTreeRegressor(criterion=\"squared_error\",max_depth=2).fit(X_train_new,Y_train)\n",
    "\n",
    "\n",
    "X_grid=np.arange(min(X_test_new),max(X_test_new),0.000001)\n",
    "\n",
    "X_grid=X_grid.reshape(len(X_grid),1)\n",
    "Y_pred=temp_model.predict(X_grid)\n",
    "print(temp_model.score(X_test_new.reshape(-1,1),Y_test))\n",
    "\n",
    "plt.plot(X_grid,Y_pred,color=\"b\")\n",
    "plt.scatter(X_test_new,Y_test,color=\"r\")\n",
    "plt.xlabel(\"X0\")\n",
    "plt.ylabel(\"Y\")\n",
    "plt.show()\n"
   ]
  },
  {
   "cell_type": "code",
   "execution_count": 100,
   "metadata": {
    "colab": {
     "base_uri": "https://localhost:8080/",
     "height": 351
    },
    "id": "xNZheHw_3j9M",
    "outputId": "1eaa7f1c-b0d9-40aa-bab2-de4b67854272"
   },
   "outputs": [
    {
     "name": "stdout",
     "output_type": "stream",
     "text": [
      "0.8845911997424452\n"
     ]
    },
    {
     "data": {
      "image/png": "[encoded data removed]",
      "text/plain": [
       "<Figure size 864x360 with 1 Axes>"
      ]
     },
     "metadata": {
      "needs_background": "light"
     },
     "output_type": "display_data"
    }
   ],
   "source": [
    "#L1 loss reduction\n",
    "X_train_new=X_train[:,:1]\n",
    "X_test_new=X_test[:,:1]\n",
    "temp_model = DecisionTreeRegressor(criterion=\"absolute_error\",max_depth=2).fit(X_train_new,Y_train)\n",
    "\n",
    "\n",
    "X_grid=np.arange(min(X_test_new),max(X_test_new),0.000001)\n",
    "\n",
    "X_grid=X_grid.reshape(len(X_grid),1)\n",
    "Y_pred=temp_model.predict(X_grid)\n",
    "print(temp_model.score(X_test_new.reshape(-1,1),Y_test))\n",
    "\n",
    "plt.plot(X_grid,Y_pred,color=\"b\")\n",
    "plt.scatter(X_test_new,Y_test,color=\"r\")\n",
    "plt.xlabel(\"X0\")\n",
    "plt.ylabel(\"Y\")\n",
    "plt.show()\n"
   ]
  },
  {
   "cell_type": "markdown",
   "metadata": {
    "id": "ootuJaSrg3Pw"
   },
   "source": [
    "##Problem 2\n"
   ]
  },
  {
   "cell_type": "markdown",
   "metadata": {
    "id": "9B0fKi27g5u2"
   },
   "source": [
    "###Classification\n"
   ]
  },
  {
   "cell_type": "markdown",
   "metadata": {
    "id": "GYd7O3a2hCAi"
   },
   "source": [
    "####Part 1"
   ]
  },
  {
   "cell_type": "markdown",
   "metadata": {
    "id": "HQDWOMVflhPj"
   },
   "source": [
    "Loading the iris dataset"
   ]
  },
  {
   "cell_type": "code",
   "execution_count": null,
   "metadata": {
    "colab": {
     "base_uri": "https://localhost:8080/",
     "height": 423
    },
    "id": "wm62JUNuhVNW",
    "outputId": "813dda27-38d3-49e9-fde5-f85483643ec2"
   },
   "outputs": [
    {
     "data": {
      "text/html": [
       "\n",
       "  <div id=\"df-a175b668-bd87-4550-bacc-9c95340231a9\">\n",
       "    <div class=\"colab-df-container\">\n",
       "      <div>\n",
       "<style scoped>\n",
       "    .dataframe tbody tr th:only-of-type {\n",
       "        vertical-align: middle;\n",
       "    }\n",
       "\n",
       "    .dataframe tbody tr th {\n",
       "        vertical-align: top;\n",
       "    }\n",
       "\n",
       "    .dataframe thead th {\n",
       "        text-align: right;\n",
       "    }\n",
       "</style>\n",
       "<table border=\"1\" class=\"dataframe\">\n",
       "  <thead>\n",
       "    <tr style=\"text-align: right;\">\n",
       "      <th></th>\n",
       "      <th>sepal_length</th>\n",
       "      <th>sepal_width</th>\n",
       "      <th>petal_length</th>\n",
       "      <th>petal_width</th>\n",
       "      <th>class</th>\n",
       "    </tr>\n",
       "  </thead>\n",
       "  <tbody>\n",
       "    <tr>\n",
       "      <th>0</th>\n",
       "      <td>5.1</td>\n",
       "      <td>3.5</td>\n",
       "      <td>1.4</td>\n",
       "      <td>0.2</td>\n",
       "      <td>Iris-setosa</td>\n",
       "    </tr>\n",
       "    <tr>\n",
       "      <th>1</th>\n",
       "      <td>4.9</td>\n",
       "      <td>3.0</td>\n",
       "      <td>1.4</td>\n",
       "      <td>0.2</td>\n",
       "      <td>Iris-setosa</td>\n",
       "    </tr>\n",
       "    <tr>\n",
       "      <th>2</th>\n",
       "      <td>4.7</td>\n",
       "      <td>3.2</td>\n",
       "      <td>1.3</td>\n",
       "      <td>0.2</td>\n",
       "      <td>Iris-setosa</td>\n",
       "    </tr>\n",
       "    <tr>\n",
       "      <th>3</th>\n",
       "      <td>4.6</td>\n",
       "      <td>3.1</td>\n",
       "      <td>1.5</td>\n",
       "      <td>0.2</td>\n",
       "      <td>Iris-setosa</td>\n",
       "    </tr>\n",
       "    <tr>\n",
       "      <th>4</th>\n",
       "      <td>5.0</td>\n",
       "      <td>3.6</td>\n",
       "      <td>1.4</td>\n",
       "      <td>0.2</td>\n",
       "      <td>Iris-setosa</td>\n",
       "    </tr>\n",
       "    <tr>\n",
       "      <th>...</th>\n",
       "      <td>...</td>\n",
       "      <td>...</td>\n",
       "      <td>...</td>\n",
       "      <td>...</td>\n",
       "      <td>...</td>\n",
       "    </tr>\n",
       "    <tr>\n",
       "      <th>145</th>\n",
       "      <td>6.7</td>\n",
       "      <td>3.0</td>\n",
       "      <td>5.2</td>\n",
       "      <td>2.3</td>\n",
       "      <td>Iris-virginica</td>\n",
       "    </tr>\n",
       "    <tr>\n",
       "      <th>146</th>\n",
       "      <td>6.3</td>\n",
       "      <td>2.5</td>\n",
       "      <td>5.0</td>\n",
       "      <td>1.9</td>\n",
       "      <td>Iris-virginica</td>\n",
       "    </tr>\n",
       "    <tr>\n",
       "      <th>147</th>\n",
       "      <td>6.5</td>\n",
       "      <td>3.0</td>\n",
       "      <td>5.2</td>\n",
       "      <td>2.0</td>\n",
       "      <td>Iris-virginica</td>\n",
       "    </tr>\n",
       "    <tr>\n",
       "      <th>148</th>\n",
       "      <td>6.2</td>\n",
       "      <td>3.4</td>\n",
       "      <td>5.4</td>\n",
       "      <td>2.3</td>\n",
       "      <td>Iris-virginica</td>\n",
       "    </tr>\n",
       "    <tr>\n",
       "      <th>149</th>\n",
       "      <td>5.9</td>\n",
       "      <td>3.0</td>\n",
       "      <td>5.1</td>\n",
       "      <td>1.8</td>\n",
       "      <td>Iris-virginica</td>\n",
       "    </tr>\n",
       "  </tbody>\n",
       "</table>\n",
       "<p>150 rows × 5 columns</p>\n",
       "</div>\n",
       "      <button class=\"colab-df-convert\" onclick=\"convertToInteractive('df-a175b668-bd87-4550-bacc-9c95340231a9')\"\n",
       "              title=\"Convert this dataframe to an interactive table.\"\n",
       "              style=\"display:none;\">\n",
       "        \n",
       "  <svg xmlns=\"http://www.w3.org/2000/svg\" height=\"24px\"viewBox=\"0 0 24 24\"\n",
       "       width=\"24px\">\n",
       "    <path d=\"M0 0h24v24H0V0z\" fill=\"none\"/>\n",
       "    <path d=\"M18.56 5.44l.94 2.06.94-2.06 2.06-.94-2.06-.94-.94-2.06-.94 2.06-2.06.94zm-11 1L8.5 8.5l.94-2.06 2.06-.94-2.06-.94L8.5 2.5l-.94 2.06-2.06.94zm10 10l.94 2.06.94-2.06 2.06-.94-2.06-.94-.94-2.06-.94 2.06-2.06.94z\"/><path d=\"M17.41 7.96l-1.37-1.37c-.4-.4-.92-.59-1.43-.59-.52 0-1.04.2-1.43.59L10.3 9.45l-7.72 7.72c-.78.78-.78 2.05 0 2.83L4 21.41c.39.39.9.59 1.41.59.51 0 1.02-.2 1.41-.59l7.78-7.78 2.81-2.81c.8-.78.8-2.07 0-2.86zM5.41 20L4 18.59l7.72-7.72 1.47 1.35L5.41 20z\"/>\n",
       "  </svg>\n",
       "      </button>\n",
       "      \n",
       "  <style>\n",
       "    .colab-df-container {\n",
       "      display:flex;\n",
       "      flex-wrap:wrap;\n",
       "      gap: 12px;\n",
       "    }\n",
       "\n",
       "    .colab-df-convert {\n",
       "      background-color: #E8F0FE;\n",
       "      border: none;\n",
       "      border-radius: 50%;\n",
       "      cursor: pointer;\n",
       "      display: none;\n",
       "      fill: #1967D2;\n",
       "      height: 32px;\n",
       "      padding: 0 0 0 0;\n",
       "      width: 32px;\n",
       "    }\n",
       "\n",
       "    .colab-df-convert:hover {\n",
       "      background-color: #E2EBFA;\n",
       "      box-shadow: 0px 1px 2px rgba(60, 64, 67, 0.3), 0px 1px 3px 1px rgba(60, 64, 67, 0.15);\n",
       "      fill: #174EA6;\n",
       "    }\n",
       "\n",
       "    [theme=dark] .colab-df-convert {\n",
       "      background-color: #3B4455;\n",
       "      fill: #D2E3FC;\n",
       "    }\n",
       "\n",
       "    [theme=dark] .colab-df-convert:hover {\n",
       "      background-color: #434B5C;\n",
       "      box-shadow: 0px 1px 3px 1px rgba(0, 0, 0, 0.15);\n",
       "      filter: drop-shadow(0px 1px 2px rgba(0, 0, 0, 0.3));\n",
       "      fill: #FFFFFF;\n",
       "    }\n",
       "  </style>\n",
       "\n",
       "      <script>\n",
       "        const buttonEl =\n",
       "          document.querySelector('#df-a175b668-bd87-4550-bacc-9c95340231a9 button.colab-df-convert');\n",
       "        buttonEl.style.display =\n",
       "          google.colab.kernel.accessAllowed ? 'block' : 'none';\n",
       "\n",
       "        async function convertToInteractive(key) {\n",
       "          const element = document.querySelector('#df-a175b668-bd87-4550-bacc-9c95340231a9');\n",
       "          const dataTable =\n",
       "            await google.colab.kernel.invokeFunction('convertToInteractive',\n",
       "                                                     [key], {});\n",
       "          if (!dataTable) return;\n",
       "\n",
       "          const docLinkHtml = 'Like what you see? Visit the ' +\n",
       "            '<a target=\"_blank\" href=https://colab.research.google.com/notebooks/data_table.ipynb>data table notebook</a>'\n",
       "            + ' to learn more about interactive tables.';\n",
       "          element.innerHTML = '';\n",
       "          dataTable['output_type'] = 'display_data';\n",
       "          await google.colab.output.renderOutput(dataTable, element);\n",
       "          const docLink = document.createElement('div');\n",
       "          docLink.innerHTML = docLinkHtml;\n",
       "          element.appendChild(docLink);\n",
       "        }\n",
       "      </script>\n",
       "    </div>\n",
       "  </div>\n",
       "  "
      ],
      "text/plain": [
       "     sepal_length   sepal_width  petal_length  petal_width           class\n",
       "0             5.1           3.5           1.4          0.2     Iris-setosa\n",
       "1             4.9           3.0           1.4          0.2     Iris-setosa\n",
       "2             4.7           3.2           1.3          0.2     Iris-setosa\n",
       "3             4.6           3.1           1.5          0.2     Iris-setosa\n",
       "4             5.0           3.6           1.4          0.2     Iris-setosa\n",
       "..            ...           ...           ...          ...             ...\n",
       "145           6.7           3.0           5.2          2.3  Iris-virginica\n",
       "146           6.3           2.5           5.0          1.9  Iris-virginica\n",
       "147           6.5           3.0           5.2          2.0  Iris-virginica\n",
       "148           6.2           3.4           5.4          2.3  Iris-virginica\n",
       "149           5.9           3.0           5.1          1.8  Iris-virginica\n",
       "\n",
       "[150 rows x 5 columns]"
      ]
     },
     "execution_count": 66,
     "metadata": {},
     "output_type": "execute_result"
    }
   ],
   "source": [
    "cols = ['sepal_length', ' sepal_width', 'petal_length', 'petal_width', 'class']\n",
    "df = pd.read_csv(\"https://archive.ics.uci.edu/ml/machine-learning-databases/iris/iris.data\",names=cols)\n",
    "df"
   ]
  },
  {
   "cell_type": "markdown",
   "metadata": {
    "id": "jrAuI1jblmAS"
   },
   "source": [
    "encoding the dataset"
   ]
  },
  {
   "cell_type": "code",
   "execution_count": null,
   "metadata": {
    "colab": {
     "base_uri": "https://localhost:8080/",
     "height": 423
    },
    "id": "UB9UYz82kCLg",
    "outputId": "f0ea36f9-a84e-4b6d-fab1-bbde08d1dd40"
   },
   "outputs": [
    {
     "data": {
      "text/html": [
       "\n",
       "  <div id=\"df-524294b6-f0fb-4b6a-8ec0-27eeb8087286\">\n",
       "    <div class=\"colab-df-container\">\n",
       "      <div>\n",
       "<style scoped>\n",
       "    .dataframe tbody tr th:only-of-type {\n",
       "        vertical-align: middle;\n",
       "    }\n",
       "\n",
       "    .dataframe tbody tr th {\n",
       "        vertical-align: top;\n",
       "    }\n",
       "\n",
       "    .dataframe thead th {\n",
       "        text-align: right;\n",
       "    }\n",
       "</style>\n",
       "<table border=\"1\" class=\"dataframe\">\n",
       "  <thead>\n",
       "    <tr style=\"text-align: right;\">\n",
       "      <th></th>\n",
       "      <th>sepal_length</th>\n",
       "      <th>sepal_width</th>\n",
       "      <th>petal_length</th>\n",
       "      <th>petal_width</th>\n",
       "      <th>class</th>\n",
       "    </tr>\n",
       "  </thead>\n",
       "  <tbody>\n",
       "    <tr>\n",
       "      <th>0</th>\n",
       "      <td>5.1</td>\n",
       "      <td>3.5</td>\n",
       "      <td>1.4</td>\n",
       "      <td>0.2</td>\n",
       "      <td>0</td>\n",
       "    </tr>\n",
       "    <tr>\n",
       "      <th>1</th>\n",
       "      <td>4.9</td>\n",
       "      <td>3.0</td>\n",
       "      <td>1.4</td>\n",
       "      <td>0.2</td>\n",
       "      <td>0</td>\n",
       "    </tr>\n",
       "    <tr>\n",
       "      <th>2</th>\n",
       "      <td>4.7</td>\n",
       "      <td>3.2</td>\n",
       "      <td>1.3</td>\n",
       "      <td>0.2</td>\n",
       "      <td>0</td>\n",
       "    </tr>\n",
       "    <tr>\n",
       "      <th>3</th>\n",
       "      <td>4.6</td>\n",
       "      <td>3.1</td>\n",
       "      <td>1.5</td>\n",
       "      <td>0.2</td>\n",
       "      <td>0</td>\n",
       "    </tr>\n",
       "    <tr>\n",
       "      <th>4</th>\n",
       "      <td>5.0</td>\n",
       "      <td>3.6</td>\n",
       "      <td>1.4</td>\n",
       "      <td>0.2</td>\n",
       "      <td>0</td>\n",
       "    </tr>\n",
       "    <tr>\n",
       "      <th>...</th>\n",
       "      <td>...</td>\n",
       "      <td>...</td>\n",
       "      <td>...</td>\n",
       "      <td>...</td>\n",
       "      <td>...</td>\n",
       "    </tr>\n",
       "    <tr>\n",
       "      <th>145</th>\n",
       "      <td>6.7</td>\n",
       "      <td>3.0</td>\n",
       "      <td>5.2</td>\n",
       "      <td>2.3</td>\n",
       "      <td>2</td>\n",
       "    </tr>\n",
       "    <tr>\n",
       "      <th>146</th>\n",
       "      <td>6.3</td>\n",
       "      <td>2.5</td>\n",
       "      <td>5.0</td>\n",
       "      <td>1.9</td>\n",
       "      <td>2</td>\n",
       "    </tr>\n",
       "    <tr>\n",
       "      <th>147</th>\n",
       "      <td>6.5</td>\n",
       "      <td>3.0</td>\n",
       "      <td>5.2</td>\n",
       "      <td>2.0</td>\n",
       "      <td>2</td>\n",
       "    </tr>\n",
       "    <tr>\n",
       "      <th>148</th>\n",
       "      <td>6.2</td>\n",
       "      <td>3.4</td>\n",
       "      <td>5.4</td>\n",
       "      <td>2.3</td>\n",
       "      <td>2</td>\n",
       "    </tr>\n",
       "    <tr>\n",
       "      <th>149</th>\n",
       "      <td>5.9</td>\n",
       "      <td>3.0</td>\n",
       "      <td>5.1</td>\n",
       "      <td>1.8</td>\n",
       "      <td>2</td>\n",
       "    </tr>\n",
       "  </tbody>\n",
       "</table>\n",
       "<p>150 rows × 5 columns</p>\n",
       "</div>\n",
       "      <button class=\"colab-df-convert\" onclick=\"convertToInteractive('df-524294b6-f0fb-4b6a-8ec0-27eeb8087286')\"\n",
       "              title=\"Convert this dataframe to an interactive table.\"\n",
       "              style=\"display:none;\">\n",
       "        \n",
       "  <svg xmlns=\"http://www.w3.org/2000/svg\" height=\"24px\"viewBox=\"0 0 24 24\"\n",
       "       width=\"24px\">\n",
       "    <path d=\"M0 0h24v24H0V0z\" fill=\"none\"/>\n",
       "    <path d=\"M18.56 5.44l.94 2.06.94-2.06 2.06-.94-2.06-.94-.94-2.06-.94 2.06-2.06.94zm-11 1L8.5 8.5l.94-2.06 2.06-.94-2.06-.94L8.5 2.5l-.94 2.06-2.06.94zm10 10l.94 2.06.94-2.06 2.06-.94-2.06-.94-.94-2.06-.94 2.06-2.06.94z\"/><path d=\"M17.41 7.96l-1.37-1.37c-.4-.4-.92-.59-1.43-.59-.52 0-1.04.2-1.43.59L10.3 9.45l-7.72 7.72c-.78.78-.78 2.05 0 2.83L4 21.41c.39.39.9.59 1.41.59.51 0 1.02-.2 1.41-.59l7.78-7.78 2.81-2.81c.8-.78.8-2.07 0-2.86zM5.41 20L4 18.59l7.72-7.72 1.47 1.35L5.41 20z\"/>\n",
       "  </svg>\n",
       "      </button>\n",
       "      \n",
       "  <style>\n",
       "    .colab-df-container {\n",
       "      display:flex;\n",
       "      flex-wrap:wrap;\n",
       "      gap: 12px;\n",
       "    }\n",
       "\n",
       "    .colab-df-convert {\n",
       "      background-color: #E8F0FE;\n",
       "      border: none;\n",
       "      border-radius: 50%;\n",
       "      cursor: pointer;\n",
       "      display: none;\n",
       "      fill: #1967D2;\n",
       "      height: 32px;\n",
       "      padding: 0 0 0 0;\n",
       "      width: 32px;\n",
       "    }\n",
       "\n",
       "    .colab-df-convert:hover {\n",
       "      background-color: #E2EBFA;\n",
       "      box-shadow: 0px 1px 2px rgba(60, 64, 67, 0.3), 0px 1px 3px 1px rgba(60, 64, 67, 0.15);\n",
       "      fill: #174EA6;\n",
       "    }\n",
       "\n",
       "    [theme=dark] .colab-df-convert {\n",
       "      background-color: #3B4455;\n",
       "      fill: #D2E3FC;\n",
       "    }\n",
       "\n",
       "    [theme=dark] .colab-df-convert:hover {\n",
       "      background-color: #434B5C;\n",
       "      box-shadow: 0px 1px 3px 1px rgba(0, 0, 0, 0.15);\n",
       "      filter: drop-shadow(0px 1px 2px rgba(0, 0, 0, 0.3));\n",
       "      fill: #FFFFFF;\n",
       "    }\n",
       "  </style>\n",
       "\n",
       "      <script>\n",
       "        const buttonEl =\n",
       "          document.querySelector('#df-524294b6-f0fb-4b6a-8ec0-27eeb8087286 button.colab-df-convert');\n",
       "        buttonEl.style.display =\n",
       "          google.colab.kernel.accessAllowed ? 'block' : 'none';\n",
       "\n",
       "        async function convertToInteractive(key) {\n",
       "          const element = document.querySelector('#df-524294b6-f0fb-4b6a-8ec0-27eeb8087286');\n",
       "          const dataTable =\n",
       "            await google.colab.kernel.invokeFunction('convertToInteractive',\n",
       "                                                     [key], {});\n",
       "          if (!dataTable) return;\n",
       "\n",
       "          const docLinkHtml = 'Like what you see? Visit the ' +\n",
       "            '<a target=\"_blank\" href=https://colab.research.google.com/notebooks/data_table.ipynb>data table notebook</a>'\n",
       "            + ' to learn more about interactive tables.';\n",
       "          element.innerHTML = '';\n",
       "          dataTable['output_type'] = 'display_data';\n",
       "          await google.colab.output.renderOutput(dataTable, element);\n",
       "          const docLink = document.createElement('div');\n",
       "          docLink.innerHTML = docLinkHtml;\n",
       "          element.appendChild(docLink);\n",
       "        }\n",
       "      </script>\n",
       "    </div>\n",
       "  </div>\n",
       "  "
      ],
      "text/plain": [
       "     sepal_length   sepal_width  petal_length  petal_width  class\n",
       "0             5.1           3.5           1.4          0.2      0\n",
       "1             4.9           3.0           1.4          0.2      0\n",
       "2             4.7           3.2           1.3          0.2      0\n",
       "3             4.6           3.1           1.5          0.2      0\n",
       "4             5.0           3.6           1.4          0.2      0\n",
       "..            ...           ...           ...          ...    ...\n",
       "145           6.7           3.0           5.2          2.3      2\n",
       "146           6.3           2.5           5.0          1.9      2\n",
       "147           6.5           3.0           5.2          2.0      2\n",
       "148           6.2           3.4           5.4          2.3      2\n",
       "149           5.9           3.0           5.1          1.8      2\n",
       "\n",
       "[150 rows x 5 columns]"
      ]
     },
     "execution_count": 67,
     "metadata": {},
     "output_type": "execute_result"
    }
   ],
   "source": [
    "lab_enc = LabelEncoder()\n",
    "df[\"class\"] = lab_enc.fit_transform(df[\"class\"])\n",
    "df\n"
   ]
  },
  {
   "cell_type": "markdown",
   "metadata": {
    "id": "PQlKH13Kmo8m"
   },
   "source": [
    "Spliting the dataset"
   ]
  },
  {
   "cell_type": "code",
   "execution_count": null,
   "metadata": {
    "colab": {
     "base_uri": "https://localhost:8080/"
    },
    "id": "SmYadl4Qmtql",
    "outputId": "f6abd77c-b678-4b53-a2b5-d4f1986060a3"
   },
   "outputs": [
    {
     "name": "stdout",
     "output_type": "stream",
     "text": [
      "     petal_length  petal_width\n",
      "0             1.4          0.2\n",
      "1             1.4          0.2\n",
      "2             1.3          0.2\n",
      "3             1.5          0.2\n",
      "4             1.4          0.2\n",
      "..            ...          ...\n",
      "145           5.2          2.3\n",
      "146           5.0          1.9\n",
      "147           5.2          2.0\n",
      "148           5.4          2.3\n",
      "149           5.1          1.8\n",
      "\n",
      "[150 rows x 2 columns]\n"
     ]
    }
   ],
   "source": [
    "X=df[[\"petal_length\",\"petal_width\"]]\n",
    "Y=df[\"class\"]\n",
    "X_train,X_test,Y_train,Y_test = tts(X,Y,test_size=0.2,shuffle=True,random_state=42)\n",
    "# print(X_train.shape,X_test.shape)\n",
    "print(X)"
   ]
  },
  {
   "cell_type": "markdown",
   "metadata": {
    "id": "Nb8iYD87nw03"
   },
   "source": [
    "Training the Dataset"
   ]
  },
  {
   "cell_type": "code",
   "execution_count": null,
   "metadata": {
    "colab": {
     "base_uri": "https://localhost:8080/",
     "height": 352
    },
    "id": "Lk7cnloEnzJU",
    "outputId": "796cf123-9e28-4ac7-fd67-97bad3cf9c4b"
   },
   "outputs": [
    {
     "name": "stdout",
     "output_type": "stream",
     "text": [
      "0.9666666666666667\n"
     ]
    },
    {
     "data": {
      "text/plain": [
       "[Text(0.4, 0.8333333333333334, 'X[0] <= 2.45\\ngini = 0.667\\nsamples = 120\\nvalue = [40, 41, 39]'),\n",
       " Text(0.2, 0.5, 'gini = 0.0\\nsamples = 40\\nvalue = [40, 0, 0]'),\n",
       " Text(0.6, 0.5, 'X[0] <= 4.75\\ngini = 0.5\\nsamples = 80\\nvalue = [0, 41, 39]'),\n",
       " Text(0.4, 0.16666666666666666, 'gini = 0.053\\nsamples = 37\\nvalue = [0, 36, 1]'),\n",
       " Text(0.8, 0.16666666666666666, 'gini = 0.206\\nsamples = 43\\nvalue = [0, 5, 38]')]"
      ]
     },
     "execution_count": 69,
     "metadata": {},
     "output_type": "execute_result"
    },
    {
     "data": {
      "image/png": "[encoded data removed]",
      "text/plain": [
       "<Figure size 432x288 with 1 Axes>"
      ]
     },
     "metadata": {
      "needs_background": "light"
     },
     "output_type": "display_data"
    }
   ],
   "source": [
    "model = DecisionTreeClassifier(max_depth=2)\n",
    "model.fit(X_train,Y_train)\n",
    "print(model.score(X_test,Y_test))\n",
    "tree.plot_tree(model)"
   ]
  },
  {
   "cell_type": "code",
   "execution_count": null,
   "metadata": {
    "colab": {
     "base_uri": "https://localhost:8080/",
     "height": 364
    },
    "id": "JmtEoZXyg6ge",
    "outputId": "29a7a398-f944-465b-e7c0-4665bf578499"
   },
   "outputs": [
    {
     "name": "stderr",
     "output_type": "stream",
     "text": [
      "/usr/local/lib/python3.8/dist-packages/sklearn/base.py:450: UserWarning: X does not have valid feature names, but DecisionTreeClassifier was fitted with feature names\n",
      "  warnings.warn(\n"
     ]
    },
    {
     "data": {
      "image/png": "[encoded data removed]",
      "text/plain": [
       "<Figure size 432x288 with 1 Axes>"
      ]
     },
     "metadata": {
      "needs_background": "light"
     },
     "output_type": "display_data"
    }
   ],
   "source": [
    "n_classes = 3\n",
    "plot_colors = \"ryb\"\n",
    "plot_step = 0.02\n",
    "cols = [\"Iris-setosa\",\"Iris-versicolor\",\"Iris-virginica\"]\n",
    "\n",
    "x_min, x_max = X[\"petal_length\"].min() - 1, X[\"petal_length\"].max() + 1\n",
    "y_min, y_max = X[\"petal_width\"].min() - 1, X[\"petal_width\"].max() + 1\n",
    "\n",
    "xx, yy = np.meshgrid(np.arange(x_min, x_max, plot_step),np.arange(y_min, y_max, plot_step))\n",
    "plt.tight_layout(h_pad=0.5, w_pad=0.5, pad=2.5)\n",
    "\n",
    "Z = model.predict(np.c_[xx.ravel(), yy.ravel()])\n",
    "Z = Z.reshape(xx.shape)\n",
    "cs = plt.contourf(xx, yy, Z, cmap=plt.cm.RdYlBu)\n",
    "\n",
    "plt.xlabel(\"petal_length\")\n",
    "plt.ylabel(\"petal_width\")\n",
    "\n",
    "# Plot the training points\n",
    "for i, color in zip(range(n_classes), plot_colors):\n",
    "    idx = np.where(Y == i)\n",
    "    \n",
    "    plt.scatter(X[\"petal_length\"][idx[0]], X[\"petal_width\"][idx[0]],label = cols[i], c=color,cmap=plt.cm.RdYlBu, edgecolor='black', s=15)\n",
    "\n",
    "plt.suptitle(\"Decision boundary of a decision tree\")\n",
    "plt.legend(loc='lower right', borderpad=0, handletextpad=0)\n",
    "plt.axis(\"tight\")\n",
    "\n",
    "\n",
    "plt.show()"
   ]
  },
  {
   "cell_type": "markdown",
   "metadata": {
    "id": "s2gRXW4vj-bC"
   },
   "source": [
    "####Part 2"
   ]
  },
  {
   "cell_type": "markdown",
   "metadata": {
    "id": "52xhl-QkkGJd"
   },
   "source": [
    "Removing the widest iris-versicolor\n"
   ]
  },
  {
   "cell_type": "code",
   "execution_count": null,
   "metadata": {
    "colab": {
     "base_uri": "https://localhost:8080/"
    },
    "id": "S7jnGSowkD6T",
    "outputId": "a8baa52f-e7a5-415b-abb7-8c351e487a96"
   },
   "outputs": [
    {
     "name": "stdout",
     "output_type": "stream",
     "text": [
      "1\n",
      "70\n"
     ]
    }
   ],
   "source": [
    "new_df=df.copy()\n",
    "print(df[\"class\"][70])\n",
    "for i in range(len(Y)):\n",
    "  if(X[\"petal_length\"][i]==4.8 and X[\"petal_width\"][i]==1.8 and Y[i]==1):\n",
    "    print(i)\n",
    "    new_df.drop(i,inplace=True)\n",
    "    break;\n",
    "new_df.set_index(np.arange(0,new_df.shape[0]),inplace=True)\n",
    "new_X=new_df[[\"petal_length\",\"petal_width\"]]\n",
    "new_Y=new_df[[\"class\"]]\n",
    "X_train_new,X_test_new,Y_train_new,Y_test_new=tts(new_X,new_Y,test_size=80,shuffle=True)\n",
    "\n"
   ]
  },
  {
   "cell_type": "markdown",
   "metadata": {
    "id": "iVkHjSu_sarS"
   },
   "source": [
    "Training a decision tree"
   ]
  },
  {
   "cell_type": "code",
   "execution_count": null,
   "metadata": {
    "colab": {
     "base_uri": "https://localhost:8080/",
     "height": 364
    },
    "id": "HFX9k4rjsvM8",
    "outputId": "281f7f37-e0d5-4408-b703-e0be19e042fd"
   },
   "outputs": [
    {
     "name": "stderr",
     "output_type": "stream",
     "text": [
      "/usr/local/lib/python3.8/dist-packages/sklearn/base.py:450: UserWarning: X does not have valid feature names, but DecisionTreeClassifier was fitted with feature names\n",
      "  warnings.warn(\n"
     ]
    },
    {
     "data": {
      "image/png": "[encoded data removed]",
      "text/plain": [
       "<Figure size 432x288 with 1 Axes>"
      ]
     },
     "metadata": {
      "needs_background": "light"
     },
     "output_type": "display_data"
    }
   ],
   "source": [
    "new_model=DecisionTreeClassifier()\n",
    "new_model.fit(X_train_new,Y_train_new)\n",
    "n_classes = 3\n",
    "plot_colors = \"ryb\"\n",
    "plot_step = 0.02\n",
    "cols = [\"Iris-setosa\",\"Iris-versicolor\",\"Iris-virginica\"]\n",
    "\n",
    "x_min, x_max = new_X[\"petal_length\"].min() - 1, new_X[\"petal_length\"].max() + 1\n",
    "y_min, y_max = new_X[\"petal_width\"].min() - 1, new_X[\"petal_width\"].max() + 1\n",
    "\n",
    "xx, yy = np.meshgrid(np.arange(x_min, x_max, plot_step),np.arange(y_min, y_max, plot_step))\n",
    "plt.tight_layout(h_pad=0.5, w_pad=0.5, pad=2.5)\n",
    "\n",
    "Z = new_model.predict(np.c_[xx.ravel(), yy.ravel()])\n",
    "Z = Z.reshape(xx.shape)\n",
    "cs = plt.contourf(xx, yy, Z, cmap=plt.cm.RdYlBu)\n",
    "\n",
    "plt.xlabel(\"petal_length\")\n",
    "plt.ylabel(\"petal_width\")\n",
    "\n",
    "# Plot the training points\n",
    "for i, color in zip(range(n_classes), plot_colors):\n",
    "    idx = np.where(new_Y == i)\n",
    "    \n",
    "    plt.scatter(new_X[\"petal_length\"][idx[0]], new_X[\"petal_width\"][idx[0]],label = cols[i], c=color,cmap=plt.cm.RdYlBu, edgecolor='black', s=15)\n",
    "\n",
    "plt.suptitle(\"Decision boundary of a decision tree\")\n",
    "plt.legend(loc='lower right', borderpad=0, handletextpad=0)\n",
    "plt.axis(\"tight\")\n",
    "\n",
    "\n",
    "plt.show()"
   ]
  },
  {
   "cell_type": "markdown",
   "metadata": {
    "id": "VIM3xXzD8eoL"
   },
   "source": [
    "####Part 3"
   ]
  },
  {
   "cell_type": "code",
   "execution_count": null,
   "metadata": {
    "colab": {
     "base_uri": "https://localhost:8080/"
    },
    "id": "2XZYWjUE8g3I",
    "outputId": "b944a82b-b3de-42ad-d060-04533e202856"
   },
   "outputs": [
    {
     "name": "stdout",
     "output_type": "stream",
     "text": [
      "1.0\n"
     ]
    }
   ],
   "source": [
    "model_with_max_depth_none = DecisionTreeClassifier(max_depth=None)\n",
    "model_with_max_depth_none.fit(X_train,Y_train)\n",
    "print(model_with_max_depth_none.score(X_test,Y_test))"
   ]
  },
  {
   "cell_type": "code",
   "execution_count": null,
   "metadata": {
    "colab": {
     "base_uri": "https://localhost:8080/",
     "height": 364
    },
    "id": "4bvsIf-t8h4b",
    "outputId": "00b17eb7-bba8-4fa4-da6f-1f1190a8cc6c"
   },
   "outputs": [
    {
     "name": "stderr",
     "output_type": "stream",
     "text": [
      "/usr/local/lib/python3.8/dist-packages/sklearn/base.py:450: UserWarning: X does not have valid feature names, but DecisionTreeClassifier was fitted with feature names\n",
      "  warnings.warn(\n"
     ]
    },
    {
     "data": {
      "image/png": "[encoded data removed]",
      "text/plain": [
       "<Figure size 432x288 with 1 Axes>"
      ]
     },
     "metadata": {
      "needs_background": "light"
     },
     "output_type": "display_data"
    }
   ],
   "source": [
    "n_classes = 3\n",
    "plot_colors = \"ryb\"\n",
    "plot_step = 0.02\n",
    "cols = [\"Iris-setosa\",\"Iris-versicolor\",\"Iris-virginica\"]\n",
    "\n",
    "x_min, x_max = X[\"petal_length\"].min() - 1, X[\"petal_length\"].max() + 1\n",
    "y_min, y_max = X[\"petal_width\"].min() - 1, X[\"petal_width\"].max() + 1\n",
    "\n",
    "xx, yy = np.meshgrid(np.arange(x_min, x_max, plot_step),np.arange(y_min, y_max, plot_step))\n",
    "plt.tight_layout(h_pad=0.5, w_pad=0.5, pad=2.5)\n",
    "\n",
    "Z = model_with_max_depth_none.predict(np.c_[xx.ravel(), yy.ravel()])\n",
    "Z = Z.reshape(xx.shape)\n",
    "cs = plt.contourf(xx, yy, Z, cmap=plt.cm.RdYlBu)\n",
    "\n",
    "plt.xlabel(\"petal_length\")\n",
    "plt.ylabel(\"petal_width\")\n",
    "\n",
    "# Plot the training points\n",
    "for i, color in zip(range(n_classes), plot_colors):\n",
    "    idx = np.where(Y == i)\n",
    "    \n",
    "    plt.scatter(X[\"petal_length\"][idx[0]], X[\"petal_width\"][idx[0]],label = cols[i], c=color,cmap=plt.cm.RdYlBu, edgecolor='black', s=15)\n",
    "\n",
    "plt.suptitle(\"Decision boundary of a decision tree\")\n",
    "plt.legend(loc='lower right', borderpad=0, handletextpad=0)\n",
    "plt.axis(\"tight\")\n",
    "\n",
    "\n",
    "plt.show()"
   ]
  },
  {
   "cell_type": "markdown",
   "metadata": {
    "id": "reeNRXy9Fcg-"
   },
   "source": [
    "####Part 4"
   ]
  },
  {
   "cell_type": "code",
   "execution_count": null,
   "metadata": {
    "colab": {
     "base_uri": "https://localhost:8080/",
     "height": 441
    },
    "id": "d_vKCY7gFesE",
    "outputId": "99709291-0296-4957-c4d7-fd5ca05bc701"
   },
   "outputs": [
    {
     "name": "stdout",
     "output_type": "stream",
     "text": [
      "99\n"
     ]
    },
    {
     "data": {
      "text/html": [
       "\n",
       "  <div id=\"df-5938a141-292a-4641-a50e-c65098fa1cc8\">\n",
       "    <div class=\"colab-df-container\">\n",
       "      <div>\n",
       "<style scoped>\n",
       "    .dataframe tbody tr th:only-of-type {\n",
       "        vertical-align: middle;\n",
       "    }\n",
       "\n",
       "    .dataframe tbody tr th {\n",
       "        vertical-align: top;\n",
       "    }\n",
       "\n",
       "    .dataframe thead th {\n",
       "        text-align: right;\n",
       "    }\n",
       "</style>\n",
       "<table border=\"1\" class=\"dataframe\">\n",
       "  <thead>\n",
       "    <tr style=\"text-align: right;\">\n",
       "      <th></th>\n",
       "      <th>X1</th>\n",
       "      <th>X2</th>\n",
       "      <th>Y</th>\n",
       "    </tr>\n",
       "  </thead>\n",
       "  <tbody>\n",
       "    <tr>\n",
       "      <th>0</th>\n",
       "      <td>4.518767</td>\n",
       "      <td>3.791266</td>\n",
       "      <td>0.0</td>\n",
       "    </tr>\n",
       "    <tr>\n",
       "      <th>1</th>\n",
       "      <td>3.305798</td>\n",
       "      <td>2.685311</td>\n",
       "      <td>0.0</td>\n",
       "    </tr>\n",
       "    <tr>\n",
       "      <th>2</th>\n",
       "      <td>4.117084</td>\n",
       "      <td>3.898583</td>\n",
       "      <td>0.0</td>\n",
       "    </tr>\n",
       "    <tr>\n",
       "      <th>3</th>\n",
       "      <td>3.164170</td>\n",
       "      <td>3.419727</td>\n",
       "      <td>0.0</td>\n",
       "    </tr>\n",
       "    <tr>\n",
       "      <th>4</th>\n",
       "      <td>1.845239</td>\n",
       "      <td>2.927631</td>\n",
       "      <td>1.0</td>\n",
       "    </tr>\n",
       "    <tr>\n",
       "      <th>...</th>\n",
       "      <td>...</td>\n",
       "      <td>...</td>\n",
       "      <td>...</td>\n",
       "    </tr>\n",
       "    <tr>\n",
       "      <th>195</th>\n",
       "      <td>0.138708</td>\n",
       "      <td>1.960771</td>\n",
       "      <td>1.0</td>\n",
       "    </tr>\n",
       "    <tr>\n",
       "      <th>196</th>\n",
       "      <td>4.664086</td>\n",
       "      <td>1.736854</td>\n",
       "      <td>0.0</td>\n",
       "    </tr>\n",
       "    <tr>\n",
       "      <th>197</th>\n",
       "      <td>0.136432</td>\n",
       "      <td>1.769347</td>\n",
       "      <td>1.0</td>\n",
       "    </tr>\n",
       "    <tr>\n",
       "      <th>198</th>\n",
       "      <td>0.022703</td>\n",
       "      <td>1.976334</td>\n",
       "      <td>1.0</td>\n",
       "    </tr>\n",
       "    <tr>\n",
       "      <th>199</th>\n",
       "      <td>0.668528</td>\n",
       "      <td>1.079555</td>\n",
       "      <td>1.0</td>\n",
       "    </tr>\n",
       "  </tbody>\n",
       "</table>\n",
       "<p>200 rows × 3 columns</p>\n",
       "</div>\n",
       "      <button class=\"colab-df-convert\" onclick=\"convertToInteractive('df-5938a141-292a-4641-a50e-c65098fa1cc8')\"\n",
       "              title=\"Convert this dataframe to an interactive table.\"\n",
       "              style=\"display:none;\">\n",
       "        \n",
       "  <svg xmlns=\"http://www.w3.org/2000/svg\" height=\"24px\"viewBox=\"0 0 24 24\"\n",
       "       width=\"24px\">\n",
       "    <path d=\"M0 0h24v24H0V0z\" fill=\"none\"/>\n",
       "    <path d=\"M18.56 5.44l.94 2.06.94-2.06 2.06-.94-2.06-.94-.94-2.06-.94 2.06-2.06.94zm-11 1L8.5 8.5l.94-2.06 2.06-.94-2.06-.94L8.5 2.5l-.94 2.06-2.06.94zm10 10l.94 2.06.94-2.06 2.06-.94-2.06-.94-.94-2.06-.94 2.06-2.06.94z\"/><path d=\"M17.41 7.96l-1.37-1.37c-.4-.4-.92-.59-1.43-.59-.52 0-1.04.2-1.43.59L10.3 9.45l-7.72 7.72c-.78.78-.78 2.05 0 2.83L4 21.41c.39.39.9.59 1.41.59.51 0 1.02-.2 1.41-.59l7.78-7.78 2.81-2.81c.8-.78.8-2.07 0-2.86zM5.41 20L4 18.59l7.72-7.72 1.47 1.35L5.41 20z\"/>\n",
       "  </svg>\n",
       "      </button>\n",
       "      \n",
       "  <style>\n",
       "    .colab-df-container {\n",
       "      display:flex;\n",
       "      flex-wrap:wrap;\n",
       "      gap: 12px;\n",
       "    }\n",
       "\n",
       "    .colab-df-convert {\n",
       "      background-color: #E8F0FE;\n",
       "      border: none;\n",
       "      border-radius: 50%;\n",
       "      cursor: pointer;\n",
       "      display: none;\n",
       "      fill: #1967D2;\n",
       "      height: 32px;\n",
       "      padding: 0 0 0 0;\n",
       "      width: 32px;\n",
       "    }\n",
       "\n",
       "    .colab-df-convert:hover {\n",
       "      background-color: #E2EBFA;\n",
       "      box-shadow: 0px 1px 2px rgba(60, 64, 67, 0.3), 0px 1px 3px 1px rgba(60, 64, 67, 0.15);\n",
       "      fill: #174EA6;\n",
       "    }\n",
       "\n",
       "    [theme=dark] .colab-df-convert {\n",
       "      background-color: #3B4455;\n",
       "      fill: #D2E3FC;\n",
       "    }\n",
       "\n",
       "    [theme=dark] .colab-df-convert:hover {\n",
       "      background-color: #434B5C;\n",
       "      box-shadow: 0px 1px 3px 1px rgba(0, 0, 0, 0.15);\n",
       "      filter: drop-shadow(0px 1px 2px rgba(0, 0, 0, 0.3));\n",
       "      fill: #FFFFFF;\n",
       "    }\n",
       "  </style>\n",
       "\n",
       "      <script>\n",
       "        const buttonEl =\n",
       "          document.querySelector('#df-5938a141-292a-4641-a50e-c65098fa1cc8 button.colab-df-convert');\n",
       "        buttonEl.style.display =\n",
       "          google.colab.kernel.accessAllowed ? 'block' : 'none';\n",
       "\n",
       "        async function convertToInteractive(key) {\n",
       "          const element = document.querySelector('#df-5938a141-292a-4641-a50e-c65098fa1cc8');\n",
       "          const dataTable =\n",
       "            await google.colab.kernel.invokeFunction('convertToInteractive',\n",
       "                                                     [key], {});\n",
       "          if (!dataTable) return;\n",
       "\n",
       "          const docLinkHtml = 'Like what you see? Visit the ' +\n",
       "            '<a target=\"_blank\" href=https://colab.research.google.com/notebooks/data_table.ipynb>data table notebook</a>'\n",
       "            + ' to learn more about interactive tables.';\n",
       "          element.innerHTML = '';\n",
       "          dataTable['output_type'] = 'display_data';\n",
       "          await google.colab.output.renderOutput(dataTable, element);\n",
       "          const docLink = document.createElement('div');\n",
       "          docLink.innerHTML = docLinkHtml;\n",
       "          element.appendChild(docLink);\n",
       "        }\n",
       "      </script>\n",
       "    </div>\n",
       "  </div>\n",
       "  "
      ],
      "text/plain": [
       "           X1        X2    Y\n",
       "0    4.518767  3.791266  0.0\n",
       "1    3.305798  2.685311  0.0\n",
       "2    4.117084  3.898583  0.0\n",
       "3    3.164170  3.419727  0.0\n",
       "4    1.845239  2.927631  1.0\n",
       "..        ...       ...  ...\n",
       "195  0.138708  1.960771  1.0\n",
       "196  4.664086  1.736854  0.0\n",
       "197  0.136432  1.769347  1.0\n",
       "198  0.022703  1.976334  1.0\n",
       "199  0.668528  1.079555  1.0\n",
       "\n",
       "[200 rows x 3 columns]"
      ]
     },
     "execution_count": 20,
     "metadata": {},
     "output_type": "execute_result"
    }
   ],
   "source": [
    "temp_x=np.zeros((200,3))\n",
    "\n",
    "temp_x[:,0]=np.random.default_rng().uniform(low=0,high=5,size=(200,))\n",
    "temp_x[:,1]=np.random.default_rng().uniform(low=0,high=5,size=(200,))\n",
    "\n",
    "\n",
    "\n",
    "for i in range(temp_x.shape[0]):\n",
    "  if temp_x[i,0]>2.5:\n",
    "    temp_x[i,2]=0\n",
    "  else:\n",
    "    temp_x[i,2]=1\n",
    "idx=np.where(temp_x[:,2]==1)\n",
    "print(len(idx[0]))\n",
    "\n",
    "new_df=pd.DataFrame(data=temp_x,index=np.arange(0,200),columns=[\"X1\",\"X2\",\"Y\"])\n",
    "new_df"
   ]
  },
  {
   "cell_type": "code",
   "execution_count": null,
   "metadata": {
    "colab": {
     "base_uri": "https://localhost:8080/"
    },
    "id": "gbXY3lcEHevw",
    "outputId": "91531872-dc0f-41ec-e57f-121662a53133"
   },
   "outputs": [
    {
     "name": "stdout",
     "output_type": "stream",
     "text": [
      "(160, 2) (40, 2)\n"
     ]
    }
   ],
   "source": [
    "X=new_df.iloc[:,:2].to_numpy()\n",
    "Y=new_df.iloc[:,2:].to_numpy()\n",
    "X_train,X_test,Y_train,Y_test = tts(X,Y,test_size=0.2,shuffle=True)\n",
    "print(X_train.shape,X_test.shape)"
   ]
  },
  {
   "cell_type": "code",
   "execution_count": null,
   "metadata": {
    "colab": {
     "base_uri": "https://localhost:8080/",
     "height": 279
    },
    "id": "fg0g82W8LEjM",
    "outputId": "dc72cf46-d551-4eb1-ef5c-6b674549bc81"
   },
   "outputs": [
    {
     "data": {
      "image/png": "[encoded data removed]",
      "text/plain": [
       "<Figure size 432x288 with 1 Axes>"
      ]
     },
     "metadata": {
      "needs_background": "light"
     },
     "output_type": "display_data"
    }
   ],
   "source": [
    "new_clf = DecisionTreeClassifier(max_depth=2).fit(X_train,Y_train)\n",
    "n_classes = 2\n",
    "plot_colors = \"rb\"\n",
    "plot_step = 0.02\n",
    "\n",
    "\n",
    "\n",
    "\n",
    "    \n",
    "    \n",
    "\n",
    "x_min, x_max = X[:, 0].min() - 1, X[:, 0].max() + 1\n",
    "y_min, y_max = X[:, 1].min() - 1, X[:, 1].max() + 1\n",
    "xx, yy = np.meshgrid(np.arange(x_min, x_max, plot_step),\n",
    "                     np.arange(y_min, y_max, plot_step))\n",
    "plt.tight_layout(h_pad=0.5, w_pad=0.5, pad=2.5)\n",
    "\n",
    "Z = new_clf.predict(np.c_[xx.ravel(), yy.ravel()])\n",
    "Z = Z.reshape(xx.shape)\n",
    "cs = plt.contourf(xx, yy, Z, cmap=plt.cm.RdYlBu)\n",
    "\n",
    "plt.xlabel(\"X1\")\n",
    "plt.ylabel(\"X2\")\n",
    "\n",
    "# Plot the training points\n",
    "for i, color in zip(range(n_classes), plot_colors):\n",
    "    idx = np.where(Y == i)\n",
    "    plt.scatter(X[idx, 0], X[idx, 1], c=color, label=i,\n",
    "                cmap=plt.cm.RdYlBu, edgecolor='black', s=15)\n",
    "\n",
    "\n",
    "plt.legend(loc='lower right', borderpad=0, handletextpad=0)\n",
    "plt.axis(\"tight\")\n",
    "\n",
    "\n",
    "plt.show()"
   ]
  },
  {
   "cell_type": "code",
   "execution_count": null,
   "metadata": {
    "colab": {
     "base_uri": "https://localhost:8080/",
     "height": 671
    },
    "id": "x5MppGCLPU0V",
    "outputId": "7483ae14-a119-4f68-ca19-414325f8b8cd"
   },
   "outputs": [
    {
     "data": {
      "text/html": [
       "\n",
       "  <div id=\"df-ba4e4b35-42a0-4781-a861-eed0bec3b2cd\">\n",
       "    <div class=\"colab-df-container\">\n",
       "      <div>\n",
       "<style scoped>\n",
       "    .dataframe tbody tr th:only-of-type {\n",
       "        vertical-align: middle;\n",
       "    }\n",
       "\n",
       "    .dataframe tbody tr th {\n",
       "        vertical-align: top;\n",
       "    }\n",
       "\n",
       "    .dataframe thead th {\n",
       "        text-align: right;\n",
       "    }\n",
       "</style>\n",
       "<table border=\"1\" class=\"dataframe\">\n",
       "  <thead>\n",
       "    <tr style=\"text-align: right;\">\n",
       "      <th></th>\n",
       "      <th>X1</th>\n",
       "      <th>X2</th>\n",
       "      <th>Y</th>\n",
       "    </tr>\n",
       "  </thead>\n",
       "  <tbody>\n",
       "    <tr>\n",
       "      <th>0</th>\n",
       "      <td>5.876080</td>\n",
       "      <td>-1.474186</td>\n",
       "      <td>0.0</td>\n",
       "    </tr>\n",
       "    <tr>\n",
       "      <th>1</th>\n",
       "      <td>4.236354</td>\n",
       "      <td>-1.096753</td>\n",
       "      <td>0.0</td>\n",
       "    </tr>\n",
       "    <tr>\n",
       "      <th>2</th>\n",
       "      <td>5.667932</td>\n",
       "      <td>-1.251119</td>\n",
       "      <td>0.0</td>\n",
       "    </tr>\n",
       "    <tr>\n",
       "      <th>3</th>\n",
       "      <td>4.655518</td>\n",
       "      <td>-0.873836</td>\n",
       "      <td>0.0</td>\n",
       "    </tr>\n",
       "    <tr>\n",
       "      <th>4</th>\n",
       "      <td>3.374929</td>\n",
       "      <td>-0.316287</td>\n",
       "      <td>1.0</td>\n",
       "    </tr>\n",
       "    <tr>\n",
       "      <th>...</th>\n",
       "      <td>...</td>\n",
       "      <td>...</td>\n",
       "      <td>...</td>\n",
       "    </tr>\n",
       "    <tr>\n",
       "      <th>195</th>\n",
       "      <td>1.484556</td>\n",
       "      <td>0.336735</td>\n",
       "      <td>1.0</td>\n",
       "    </tr>\n",
       "    <tr>\n",
       "      <th>196</th>\n",
       "      <td>4.526148</td>\n",
       "      <td>-1.972329</td>\n",
       "      <td>0.0</td>\n",
       "    </tr>\n",
       "    <tr>\n",
       "      <th>197</th>\n",
       "      <td>1.347589</td>\n",
       "      <td>0.298228</td>\n",
       "      <td>1.0</td>\n",
       "    </tr>\n",
       "    <tr>\n",
       "      <th>198</th>\n",
       "      <td>1.413533</td>\n",
       "      <td>0.397961</td>\n",
       "      <td>1.0</td>\n",
       "    </tr>\n",
       "    <tr>\n",
       "      <th>199</th>\n",
       "      <td>1.236081</td>\n",
       "      <td>-0.110681</td>\n",
       "      <td>1.0</td>\n",
       "    </tr>\n",
       "  </tbody>\n",
       "</table>\n",
       "<p>200 rows × 3 columns</p>\n",
       "</div>\n",
       "      <button class=\"colab-df-convert\" onclick=\"convertToInteractive('df-ba4e4b35-42a0-4781-a861-eed0bec3b2cd')\"\n",
       "              title=\"Convert this dataframe to an interactive table.\"\n",
       "              style=\"display:none;\">\n",
       "        \n",
       "  <svg xmlns=\"http://www.w3.org/2000/svg\" height=\"24px\"viewBox=\"0 0 24 24\"\n",
       "       width=\"24px\">\n",
       "    <path d=\"M0 0h24v24H0V0z\" fill=\"none\"/>\n",
       "    <path d=\"M18.56 5.44l.94 2.06.94-2.06 2.06-.94-2.06-.94-.94-2.06-.94 2.06-2.06.94zm-11 1L8.5 8.5l.94-2.06 2.06-.94-2.06-.94L8.5 2.5l-.94 2.06-2.06.94zm10 10l.94 2.06.94-2.06 2.06-.94-2.06-.94-.94-2.06-.94 2.06-2.06.94z\"/><path d=\"M17.41 7.96l-1.37-1.37c-.4-.4-.92-.59-1.43-.59-.52 0-1.04.2-1.43.59L10.3 9.45l-7.72 7.72c-.78.78-.78 2.05 0 2.83L4 21.41c.39.39.9.59 1.41.59.51 0 1.02-.2 1.41-.59l7.78-7.78 2.81-2.81c.8-.78.8-2.07 0-2.86zM5.41 20L4 18.59l7.72-7.72 1.47 1.35L5.41 20z\"/>\n",
       "  </svg>\n",
       "      </button>\n",
       "      \n",
       "  <style>\n",
       "    .colab-df-container {\n",
       "      display:flex;\n",
       "      flex-wrap:wrap;\n",
       "      gap: 12px;\n",
       "    }\n",
       "\n",
       "    .colab-df-convert {\n",
       "      background-color: #E8F0FE;\n",
       "      border: none;\n",
       "      border-radius: 50%;\n",
       "      cursor: pointer;\n",
       "      display: none;\n",
       "      fill: #1967D2;\n",
       "      height: 32px;\n",
       "      padding: 0 0 0 0;\n",
       "      width: 32px;\n",
       "    }\n",
       "\n",
       "    .colab-df-convert:hover {\n",
       "      background-color: #E2EBFA;\n",
       "      box-shadow: 0px 1px 2px rgba(60, 64, 67, 0.3), 0px 1px 3px 1px rgba(60, 64, 67, 0.15);\n",
       "      fill: #174EA6;\n",
       "    }\n",
       "\n",
       "    [theme=dark] .colab-df-convert {\n",
       "      background-color: #3B4455;\n",
       "      fill: #D2E3FC;\n",
       "    }\n",
       "\n",
       "    [theme=dark] .colab-df-convert:hover {\n",
       "      background-color: #434B5C;\n",
       "      box-shadow: 0px 1px 3px 1px rgba(0, 0, 0, 0.15);\n",
       "      filter: drop-shadow(0px 1px 2px rgba(0, 0, 0, 0.3));\n",
       "      fill: #FFFFFF;\n",
       "    }\n",
       "  </style>\n",
       "\n",
       "      <script>\n",
       "        const buttonEl =\n",
       "          document.querySelector('#df-ba4e4b35-42a0-4781-a861-eed0bec3b2cd button.colab-df-convert');\n",
       "        buttonEl.style.display =\n",
       "          google.colab.kernel.accessAllowed ? 'block' : 'none';\n",
       "\n",
       "        async function convertToInteractive(key) {\n",
       "          const element = document.querySelector('#df-ba4e4b35-42a0-4781-a861-eed0bec3b2cd');\n",
       "          const dataTable =\n",
       "            await google.colab.kernel.invokeFunction('convertToInteractive',\n",
       "                                                     [key], {});\n",
       "          if (!dataTable) return;\n",
       "\n",
       "          const docLinkHtml = 'Like what you see? Visit the ' +\n",
       "            '<a target=\"_blank\" href=https://colab.research.google.com/notebooks/data_table.ipynb>data table notebook</a>'\n",
       "            + ' to learn more about interactive tables.';\n",
       "          element.innerHTML = '';\n",
       "          dataTable['output_type'] = 'display_data';\n",
       "          await google.colab.output.renderOutput(dataTable, element);\n",
       "          const docLink = document.createElement('div');\n",
       "          docLink.innerHTML = docLinkHtml;\n",
       "          element.appendChild(docLink);\n",
       "        }\n",
       "      </script>\n",
       "    </div>\n",
       "  </div>\n",
       "  "
      ],
      "text/plain": [
       "           X1        X2    Y\n",
       "0    5.876080 -1.474186  0.0\n",
       "1    4.236354 -1.096753  0.0\n",
       "2    5.667932 -1.251119  0.0\n",
       "3    4.655518 -0.873836  0.0\n",
       "4    3.374929 -0.316287  1.0\n",
       "..        ...       ...  ...\n",
       "195  1.484556  0.336735  1.0\n",
       "196  4.526148 -1.972329  0.0\n",
       "197  1.347589  0.298228  1.0\n",
       "198  1.413533  0.397961  1.0\n",
       "199  1.236081 -0.110681  1.0\n",
       "\n",
       "[200 rows x 3 columns]"
      ]
     },
     "execution_count": 23,
     "metadata": {},
     "output_type": "execute_result"
    },
    {
     "data": {
      "image/png": "[encoded data removed]",
      "text/plain": [
       "<Figure size 432x288 with 1 Axes>"
      ]
     },
     "metadata": {
      "needs_background": "light"
     },
     "output_type": "display_data"
    }
   ],
   "source": [
    "temp=temp_x.copy()\n",
    "thetha=(-1)*pi/4\n",
    "temp[:,0]=temp[:,0]*cos(thetha)-temp[:,1]*sin(thetha)\n",
    "temp[:,1]=temp[:,0]*sin(thetha)+temp[:,1]*cos(thetha)\n",
    "idx=np.where(temp[:,2]==1)\n",
    "plt.scatter(temp[idx,0],temp[idx,1],color=\"r\",cmap=plt.cm.RdYlBu)\n",
    "idx=np.where(temp[:,2]==0)\n",
    "plt.scatter(temp[idx,0],temp[idx,1],color=\"b\",cmap=plt.cm.RdYlBu)\n",
    "\n",
    "new_df=pd.DataFrame(data=temp,index=np.arange(0,200),columns=[\"X1\",\"X2\",\"Y\"])\n",
    "new_df"
   ]
  },
  {
   "cell_type": "code",
   "execution_count": null,
   "metadata": {
    "colab": {
     "base_uri": "https://localhost:8080/"
    },
    "id": "K5A_JKjaRouo",
    "outputId": "eb3e7ae8-2380-4d4f-b01b-62ee46e9c722"
   },
   "outputs": [
    {
     "name": "stdout",
     "output_type": "stream",
     "text": [
      "(160, 2) (40, 2)\n"
     ]
    }
   ],
   "source": [
    "X=new_df.iloc[:,:2].to_numpy()\n",
    "Y=new_df.iloc[:,2:].to_numpy()\n",
    "X_train,X_test,Y_train,Y_test = tts(X,Y,test_size=0.2,shuffle=True)\n",
    "print(X_train.shape,X_test.shape)"
   ]
  },
  {
   "cell_type": "code",
   "execution_count": null,
   "metadata": {
    "colab": {
     "base_uri": "https://localhost:8080/",
     "height": 279
    },
    "id": "GRQnpA-LRouq",
    "outputId": "bad26af1-83cb-4a46-9f9b-2c8c5638df7f"
   },
   "outputs": [
    {
     "data": {
      "image/png": "[encoded data removed]",
      "text/plain": [
       "<Figure size 432x288 with 1 Axes>"
      ]
     },
     "metadata": {
      "needs_background": "light"
     },
     "output_type": "display_data"
    }
   ],
   "source": [
    "new_clf = DecisionTreeClassifier(max_depth=2).fit(X_train,Y_train)\n",
    "n_classes = 2\n",
    "plot_colors = \"rb\"\n",
    "plot_step = 0.02\n",
    "\n",
    "\n",
    "\n",
    "\n",
    "    \n",
    "    \n",
    "\n",
    "x_min, x_max = X[:, 0].min() - 1, X[:, 0].max() + 1\n",
    "y_min, y_max = X[:, 1].min() - 1, X[:, 1].max() + 1\n",
    "xx, yy = np.meshgrid(np.arange(x_min, x_max, plot_step),\n",
    "                     np.arange(y_min, y_max, plot_step))\n",
    "plt.tight_layout(h_pad=0.5, w_pad=0.5, pad=2.5)\n",
    "\n",
    "Z = new_clf.predict(np.c_[xx.ravel(), yy.ravel()])\n",
    "Z = Z.reshape(xx.shape)\n",
    "cs = plt.contourf(xx, yy, Z, cmap=plt.cm.RdYlBu)\n",
    "\n",
    "plt.xlabel(\"X1\")\n",
    "plt.ylabel(\"X2\")\n",
    "\n",
    "# Plot the training points\n",
    "for i, color in zip(range(n_classes), plot_colors):\n",
    "    idx = np.where(Y == i)\n",
    "    plt.scatter(X[idx, 0], X[idx, 1], c=color, label=i,\n",
    "                cmap=plt.cm.RdYlBu, edgecolor='black', s=15)\n",
    "\n",
    "\n",
    "plt.legend(loc='lower right', borderpad=0, handletextpad=0)\n",
    "plt.axis(\"tight\")\n",
    "\n",
    "\n",
    "plt.show()"
   ]
  },
  {
   "cell_type": "markdown",
   "metadata": {
    "id": "dCEzTxdu0MSp"
   },
   "source": [
    "###Regression"
   ]
  },
  {
   "cell_type": "markdown",
   "metadata": {
    "id": "nHEGU9U6BNdf"
   },
   "source": [
    "####Part 1"
   ]
  },
  {
   "cell_type": "code",
   "execution_count": null,
   "metadata": {
    "colab": {
     "base_uri": "https://localhost:8080/",
     "height": 423
    },
    "id": "iGGGrhhU0OtU",
    "outputId": "53f35ec0-89cf-4eef-e8ea-72c6e09d2217"
   },
   "outputs": [
    {
     "data": {
      "text/html": [
       "\n",
       "  <div id=\"df-ba9805a3-93ca-4ec7-90d9-4d4397c6abcb\">\n",
       "    <div class=\"colab-df-container\">\n",
       "      <div>\n",
       "<style scoped>\n",
       "    .dataframe tbody tr th:only-of-type {\n",
       "        vertical-align: middle;\n",
       "    }\n",
       "\n",
       "    .dataframe tbody tr th {\n",
       "        vertical-align: top;\n",
       "    }\n",
       "\n",
       "    .dataframe thead th {\n",
       "        text-align: right;\n",
       "    }\n",
       "</style>\n",
       "<table border=\"1\" class=\"dataframe\">\n",
       "  <thead>\n",
       "    <tr style=\"text-align: right;\">\n",
       "      <th></th>\n",
       "      <th>X</th>\n",
       "      <th>Y</th>\n",
       "    </tr>\n",
       "  </thead>\n",
       "  <tbody>\n",
       "    <tr>\n",
       "      <th>0</th>\n",
       "      <td>0.374540</td>\n",
       "      <td>-0.005042</td>\n",
       "    </tr>\n",
       "    <tr>\n",
       "      <th>1</th>\n",
       "      <td>0.950714</td>\n",
       "      <td>0.835799</td>\n",
       "    </tr>\n",
       "    <tr>\n",
       "      <th>2</th>\n",
       "      <td>0.731994</td>\n",
       "      <td>0.244592</td>\n",
       "    </tr>\n",
       "    <tr>\n",
       "      <th>3</th>\n",
       "      <td>0.598658</td>\n",
       "      <td>-0.032501</td>\n",
       "    </tr>\n",
       "    <tr>\n",
       "      <th>4</th>\n",
       "      <td>0.156019</td>\n",
       "      <td>0.659870</td>\n",
       "    </tr>\n",
       "    <tr>\n",
       "      <th>...</th>\n",
       "      <td>...</td>\n",
       "      <td>...</td>\n",
       "    </tr>\n",
       "    <tr>\n",
       "      <th>195</th>\n",
       "      <td>0.349210</td>\n",
       "      <td>-0.049795</td>\n",
       "    </tr>\n",
       "    <tr>\n",
       "      <th>196</th>\n",
       "      <td>0.725956</td>\n",
       "      <td>0.132379</td>\n",
       "    </tr>\n",
       "    <tr>\n",
       "      <th>197</th>\n",
       "      <td>0.897110</td>\n",
       "      <td>0.609442</td>\n",
       "    </tr>\n",
       "    <tr>\n",
       "      <th>198</th>\n",
       "      <td>0.887086</td>\n",
       "      <td>0.630434</td>\n",
       "    </tr>\n",
       "    <tr>\n",
       "      <th>199</th>\n",
       "      <td>0.779876</td>\n",
       "      <td>0.460857</td>\n",
       "    </tr>\n",
       "  </tbody>\n",
       "</table>\n",
       "<p>200 rows × 2 columns</p>\n",
       "</div>\n",
       "      <button class=\"colab-df-convert\" onclick=\"convertToInteractive('df-ba9805a3-93ca-4ec7-90d9-4d4397c6abcb')\"\n",
       "              title=\"Convert this dataframe to an interactive table.\"\n",
       "              style=\"display:none;\">\n",
       "        \n",
       "  <svg xmlns=\"http://www.w3.org/2000/svg\" height=\"24px\"viewBox=\"0 0 24 24\"\n",
       "       width=\"24px\">\n",
       "    <path d=\"M0 0h24v24H0V0z\" fill=\"none\"/>\n",
       "    <path d=\"M18.56 5.44l.94 2.06.94-2.06 2.06-.94-2.06-.94-.94-2.06-.94 2.06-2.06.94zm-11 1L8.5 8.5l.94-2.06 2.06-.94-2.06-.94L8.5 2.5l-.94 2.06-2.06.94zm10 10l.94 2.06.94-2.06 2.06-.94-2.06-.94-.94-2.06-.94 2.06-2.06.94z\"/><path d=\"M17.41 7.96l-1.37-1.37c-.4-.4-.92-.59-1.43-.59-.52 0-1.04.2-1.43.59L10.3 9.45l-7.72 7.72c-.78.78-.78 2.05 0 2.83L4 21.41c.39.39.9.59 1.41.59.51 0 1.02-.2 1.41-.59l7.78-7.78 2.81-2.81c.8-.78.8-2.07 0-2.86zM5.41 20L4 18.59l7.72-7.72 1.47 1.35L5.41 20z\"/>\n",
       "  </svg>\n",
       "      </button>\n",
       "      \n",
       "  <style>\n",
       "    .colab-df-container {\n",
       "      display:flex;\n",
       "      flex-wrap:wrap;\n",
       "      gap: 12px;\n",
       "    }\n",
       "\n",
       "    .colab-df-convert {\n",
       "      background-color: #E8F0FE;\n",
       "      border: none;\n",
       "      border-radius: 50%;\n",
       "      cursor: pointer;\n",
       "      display: none;\n",
       "      fill: #1967D2;\n",
       "      height: 32px;\n",
       "      padding: 0 0 0 0;\n",
       "      width: 32px;\n",
       "    }\n",
       "\n",
       "    .colab-df-convert:hover {\n",
       "      background-color: #E2EBFA;\n",
       "      box-shadow: 0px 1px 2px rgba(60, 64, 67, 0.3), 0px 1px 3px 1px rgba(60, 64, 67, 0.15);\n",
       "      fill: #174EA6;\n",
       "    }\n",
       "\n",
       "    [theme=dark] .colab-df-convert {\n",
       "      background-color: #3B4455;\n",
       "      fill: #D2E3FC;\n",
       "    }\n",
       "\n",
       "    [theme=dark] .colab-df-convert:hover {\n",
       "      background-color: #434B5C;\n",
       "      box-shadow: 0px 1px 3px 1px rgba(0, 0, 0, 0.15);\n",
       "      filter: drop-shadow(0px 1px 2px rgba(0, 0, 0, 0.3));\n",
       "      fill: #FFFFFF;\n",
       "    }\n",
       "  </style>\n",
       "\n",
       "      <script>\n",
       "        const buttonEl =\n",
       "          document.querySelector('#df-ba9805a3-93ca-4ec7-90d9-4d4397c6abcb button.colab-df-convert');\n",
       "        buttonEl.style.display =\n",
       "          google.colab.kernel.accessAllowed ? 'block' : 'none';\n",
       "\n",
       "        async function convertToInteractive(key) {\n",
       "          const element = document.querySelector('#df-ba9805a3-93ca-4ec7-90d9-4d4397c6abcb');\n",
       "          const dataTable =\n",
       "            await google.colab.kernel.invokeFunction('convertToInteractive',\n",
       "                                                     [key], {});\n",
       "          if (!dataTable) return;\n",
       "\n",
       "          const docLinkHtml = 'Like what you see? Visit the ' +\n",
       "            '<a target=\"_blank\" href=https://colab.research.google.com/notebooks/data_table.ipynb>data table notebook</a>'\n",
       "            + ' to learn more about interactive tables.';\n",
       "          element.innerHTML = '';\n",
       "          dataTable['output_type'] = 'display_data';\n",
       "          await google.colab.output.renderOutput(dataTable, element);\n",
       "          const docLink = document.createElement('div');\n",
       "          docLink.innerHTML = docLinkHtml;\n",
       "          element.appendChild(docLink);\n",
       "        }\n",
       "      </script>\n",
       "    </div>\n",
       "  </div>\n",
       "  "
      ],
      "text/plain": [
       "            X         Y\n",
       "0    0.374540 -0.005042\n",
       "1    0.950714  0.835799\n",
       "2    0.731994  0.244592\n",
       "3    0.598658 -0.032501\n",
       "4    0.156019  0.659870\n",
       "..        ...       ...\n",
       "195  0.349210 -0.049795\n",
       "196  0.725956  0.132379\n",
       "197  0.897110  0.609442\n",
       "198  0.887086  0.630434\n",
       "199  0.779876  0.460857\n",
       "\n",
       "[200 rows x 2 columns]"
      ]
     },
     "execution_count": 18,
     "metadata": {},
     "output_type": "execute_result"
    }
   ],
   "source": [
    "df = pd.read_csv(\"/content/drive/MyDrive/PRML/Lab-02/task.csv\")\n",
    "df.dropna()\n",
    "df.set_index(np.arange(df.shape[0]))\n",
    "df"
   ]
  },
  {
   "cell_type": "code",
   "execution_count": null,
   "metadata": {
    "colab": {
     "base_uri": "https://localhost:8080/"
    },
    "id": "O4RQNZUl1IvU",
    "outputId": "677e1eb4-9f76-4fef-8994-06a9355f1129"
   },
   "outputs": [
    {
     "name": "stdout",
     "output_type": "stream",
     "text": [
      "(160,) (40,)\n"
     ]
    }
   ],
   "source": [
    "X=df[\"X\"].to_numpy()\n",
    "Y=df[\"Y\"].to_numpy()\n",
    "X_train,X_test,Y_train,Y_test = tts(X,Y,test_size=0.2,shuffle=True)\n",
    "print(X_train.shape,X_test.shape)"
   ]
  },
  {
   "cell_type": "code",
   "execution_count": null,
   "metadata": {
    "colab": {
     "base_uri": "https://localhost:8080/",
     "height": 282
    },
    "id": "2EoDMKvS1lD8",
    "outputId": "97478126-ffc1-477f-f739-89e2cf9f6648"
   },
   "outputs": [
    {
     "name": "stdout",
     "output_type": "stream",
     "text": [
      "0.726274075055523\n"
     ]
    },
    {
     "data": {
      "image/png": "[encoded data removed]",
      "text/plain": [
       "<Figure size 432x288 with 1 Axes>"
      ]
     },
     "metadata": {
      "needs_background": "light"
     },
     "output_type": "display_data"
    }
   ],
   "source": [
    "model = DecisionTreeRegressor(max_depth=2).fit(X_train.reshape(-1,1),Y_train)\n",
    "X_grid=np.arange(min(X_test),max(X_test),0.01)\n",
    "X_grid=X_grid.reshape(len(X_grid),1)\n",
    "Y_pred=model.predict(X_grid)\n",
    "print(model.score(X_test.reshape(-1,1),Y_test))\n",
    "\n",
    "plt.plot(X_grid,Y_pred,color=\"b\")\n",
    "plt.scatter(X_test,Y_test,color=\"r\")\n",
    "plt.show()\n"
   ]
  },
  {
   "cell_type": "code",
   "execution_count": null,
   "metadata": {
    "colab": {
     "base_uri": "https://localhost:8080/",
     "height": 282
    },
    "id": "yfQUu-hq_Fst",
    "outputId": "f63d73f3-db0c-4ec0-bb96-6d76544b1231"
   },
   "outputs": [
    {
     "name": "stdout",
     "output_type": "stream",
     "text": [
      "0.8344577089551345\n"
     ]
    },
    {
     "data": {
      "image/png": "[encoded data removed]",
      "text/plain": [
       "<Figure size 432x288 with 1 Axes>"
      ]
     },
     "metadata": {
      "needs_background": "light"
     },
     "output_type": "display_data"
    }
   ],
   "source": [
    "model = DecisionTreeRegressor(max_depth=3).fit(X_train.reshape(-1,1),Y_train)\n",
    "X_grid=np.arange(min(X_test),max(X_test),0.01)\n",
    "X_grid=X_grid.reshape(len(X_grid),1)\n",
    "Y_pred=model.predict(X_grid)\n",
    "print(model.score(X_test.reshape(-1,1),Y_test))\n",
    "plt.plot(X_grid,Y_pred,color=\"b\")\n",
    "plt.scatter(X_test,Y_test,color=\"r\")\n",
    "plt.show()\n"
   ]
  },
  {
   "cell_type": "markdown",
   "metadata": {
    "id": "8LY-Mn87CFPQ"
   },
   "source": [
    "####Part 2"
   ]
  },
  {
   "cell_type": "markdown",
   "metadata": {
    "id": "IF8cuL4VE-Mi"
   },
   "source": [
    "Regression model with min_samples_leaf = 0"
   ]
  },
  {
   "cell_type": "code",
   "execution_count": null,
   "metadata": {
    "colab": {
     "base_uri": "https://localhost:8080/",
     "height": 285
    },
    "id": "z201g3oOCL93",
    "outputId": "b9b9e5e6-fc0e-44c7-8d03-5d73a3cdd7a6"
   },
   "outputs": [
    {
     "name": "stdout",
     "output_type": "stream",
     "text": [
      "0.8356001174580692\n"
     ]
    },
    {
     "data": {
      "image/png": "[encoded data removed]",
      "text/plain": [
       "<Figure size 432x288 with 1 Axes>"
      ]
     },
     "metadata": {
      "needs_background": "light"
     },
     "output_type": "display_data"
    }
   ],
   "source": [
    "#note min_samples_leaf should be either in (0,0.5] or greater than 1. It was showing error when I am feeding it with zero\n",
    "model = DecisionTreeRegressor(min_samples_leaf=1).fit(X_train.reshape(-1,1),Y_train)\n",
    "X_grid=np.arange(min(X_test),max(X_test),0.01)\n",
    "X_grid=X_grid.reshape(len(X_grid),1)\n",
    "Y_pred=model.predict(X_grid)\n",
    "print(model.score(X_test.reshape(-1,1),Y_test))\n",
    "\n",
    "plt.plot(X_grid,Y_pred,color=\"b\")\n",
    "plt.scatter(X_test,Y_test,color=\"r\")\n",
    "plt.show()\n"
   ]
  },
  {
   "cell_type": "markdown",
   "metadata": {
    "id": "9usLSX4GFGPZ"
   },
   "source": [
    "regression model with min_samples_leaf = 10"
   ]
  },
  {
   "cell_type": "code",
   "execution_count": null,
   "metadata": {
    "colab": {
     "base_uri": "https://localhost:8080/",
     "height": 282
    },
    "id": "mAM2cLhNoQrZ",
    "outputId": "528a67f8-8c1d-42a1-ad8e-ef73ba70901a"
   },
   "outputs": [
    {
     "name": "stdout",
     "output_type": "stream",
     "text": [
      "0.8645983925718378\n"
     ]
    },
    {
     "data": {
      "image/png": "[encoded data removed]",
      "text/plain": [
       "<Figure size 432x288 with 1 Axes>"
      ]
     },
     "metadata": {
      "needs_background": "light"
     },
     "output_type": "display_data"
    }
   ],
   "source": [
    "model = DecisionTreeRegressor(min_samples_leaf=10).fit(X_train.reshape(-1,1),Y_train)\n",
    "print(model.score(X_test.reshape(-1,1),Y_test))\n",
    "X_grid=np.arange(min(X_test),max(X_test),0.01)\n",
    "X_grid=X_grid.reshape(len(X_grid),1)\n",
    "Y_pred=model.predict(X_grid)\n",
    "\n",
    "plt.plot(X_grid,Y_pred,color=\"b\")\n",
    "plt.scatter(X_test,Y_test,color=\"r\")\n",
    "plt.show()\n"
   ]
  },
  {
   "cell_type": "markdown",
   "metadata": {
    "id": "NJthj_A8Q-Gu"
   },
   "source": [
    "##Problem 03"
   ]
  },
  {
   "cell_type": "markdown",
   "metadata": {
    "id": "0bB5wV_AQ6ZU"
   },
   "source": [
    "###Importing Libraries\n"
   ]
  },
  {
   "cell_type": "code",
   "execution_count": 73,
   "metadata": {
    "colab": {
     "base_uri": "https://localhost:8080/"
    },
    "id": "O-3WigwrXot6",
    "outputId": "0fd661c5-c654-427f-c7e6-243975bf31d0"
   },
   "outputs": [
    {
     "name": "stdout",
     "output_type": "stream",
     "text": [
      "Looking in indexes: https://pypi.org/simple, https://us-python.pkg.dev/colab-wheels/public/simple/\n",
      "Requirement already satisfied: palmerpenguins in /usr/local/lib/python3.8/dist-packages (0.1.4)\n",
      "Requirement already satisfied: numpy in /usr/local/lib/python3.8/dist-packages (from palmerpenguins) (1.21.6)\n",
      "Requirement already satisfied: pandas in /usr/local/lib/python3.8/dist-packages (from palmerpenguins) (1.3.5)\n",
      "Requirement already satisfied: python-dateutil>=2.7.3 in /usr/local/lib/python3.8/dist-packages (from pandas->palmerpenguins) (2.8.2)\n",
      "Requirement already satisfied: pytz>=2017.3 in /usr/local/lib/python3.8/dist-packages (from pandas->palmerpenguins) (2022.7.1)\n",
      "Requirement already satisfied: six>=1.5 in /usr/local/lib/python3.8/dist-packages (from python-dateutil>=2.7.3->pandas->palmerpenguins) (1.15.0)\n"
     ]
    }
   ],
   "source": [
    "pip install palmerpenguins"
   ]
  },
  {
   "cell_type": "code",
   "execution_count": 74,
   "metadata": {
    "id": "cT_nRGZ3QlLz"
   },
   "outputs": [],
   "source": [
    "import pandas as pd\n",
    "import numpy as np\n",
    "import matplotlib.pyplot as plt\n",
    "import seaborn as sns\n",
    "from palmerpenguins import load_penguins\n",
    "from sklearn.preprocessing import LabelEncoder\n",
    "from sklearn.model_selection import train_test_split as tts"
   ]
  },
  {
   "cell_type": "markdown",
   "metadata": {
    "id": "6Iq0jhVaRBYN"
   },
   "source": [
    "###Part 01\n"
   ]
  },
  {
   "cell_type": "code",
   "execution_count": 120,
   "metadata": {
    "colab": {
     "base_uri": "https://localhost:8080/",
     "height": 423
    },
    "id": "2MMoJQNQRDYD",
    "outputId": "09fa95cb-8037-44fa-8cca-15adfc6de168"
   },
   "outputs": [
    {
     "data": {
      "text/html": [
       "\n",
       "  <div id=\"df-103584df-6cea-45bd-a92a-f912a85979a0\">\n",
       "    <div class=\"colab-df-container\">\n",
       "      <div>\n",
       "<style scoped>\n",
       "    .dataframe tbody tr th:only-of-type {\n",
       "        vertical-align: middle;\n",
       "    }\n",
       "\n",
       "    .dataframe tbody tr th {\n",
       "        vertical-align: top;\n",
       "    }\n",
       "\n",
       "    .dataframe thead th {\n",
       "        text-align: right;\n",
       "    }\n",
       "</style>\n",
       "<table border=\"1\" class=\"dataframe\">\n",
       "  <thead>\n",
       "    <tr style=\"text-align: right;\">\n",
       "      <th></th>\n",
       "      <th>species</th>\n",
       "      <th>island</th>\n",
       "      <th>bill_length_mm</th>\n",
       "      <th>bill_depth_mm</th>\n",
       "      <th>flipper_length_mm</th>\n",
       "      <th>body_mass_g</th>\n",
       "      <th>sex</th>\n",
       "      <th>year</th>\n",
       "    </tr>\n",
       "  </thead>\n",
       "  <tbody>\n",
       "    <tr>\n",
       "      <th>0</th>\n",
       "      <td>Adelie</td>\n",
       "      <td>Torgersen</td>\n",
       "      <td>39.1</td>\n",
       "      <td>18.7</td>\n",
       "      <td>181.0</td>\n",
       "      <td>3750.0</td>\n",
       "      <td>male</td>\n",
       "      <td>2007</td>\n",
       "    </tr>\n",
       "    <tr>\n",
       "      <th>1</th>\n",
       "      <td>Adelie</td>\n",
       "      <td>Torgersen</td>\n",
       "      <td>39.5</td>\n",
       "      <td>17.4</td>\n",
       "      <td>186.0</td>\n",
       "      <td>3800.0</td>\n",
       "      <td>female</td>\n",
       "      <td>2007</td>\n",
       "    </tr>\n",
       "    <tr>\n",
       "      <th>2</th>\n",
       "      <td>Adelie</td>\n",
       "      <td>Torgersen</td>\n",
       "      <td>40.3</td>\n",
       "      <td>18.0</td>\n",
       "      <td>195.0</td>\n",
       "      <td>3250.0</td>\n",
       "      <td>female</td>\n",
       "      <td>2007</td>\n",
       "    </tr>\n",
       "    <tr>\n",
       "      <th>3</th>\n",
       "      <td>Adelie</td>\n",
       "      <td>Torgersen</td>\n",
       "      <td>NaN</td>\n",
       "      <td>NaN</td>\n",
       "      <td>NaN</td>\n",
       "      <td>NaN</td>\n",
       "      <td>NaN</td>\n",
       "      <td>2007</td>\n",
       "    </tr>\n",
       "    <tr>\n",
       "      <th>4</th>\n",
       "      <td>Adelie</td>\n",
       "      <td>Torgersen</td>\n",
       "      <td>36.7</td>\n",
       "      <td>19.3</td>\n",
       "      <td>193.0</td>\n",
       "      <td>3450.0</td>\n",
       "      <td>female</td>\n",
       "      <td>2007</td>\n",
       "    </tr>\n",
       "    <tr>\n",
       "      <th>...</th>\n",
       "      <td>...</td>\n",
       "      <td>...</td>\n",
       "      <td>...</td>\n",
       "      <td>...</td>\n",
       "      <td>...</td>\n",
       "      <td>...</td>\n",
       "      <td>...</td>\n",
       "      <td>...</td>\n",
       "    </tr>\n",
       "    <tr>\n",
       "      <th>339</th>\n",
       "      <td>Chinstrap</td>\n",
       "      <td>Dream</td>\n",
       "      <td>55.8</td>\n",
       "      <td>19.8</td>\n",
       "      <td>207.0</td>\n",
       "      <td>4000.0</td>\n",
       "      <td>male</td>\n",
       "      <td>2009</td>\n",
       "    </tr>\n",
       "    <tr>\n",
       "      <th>340</th>\n",
       "      <td>Chinstrap</td>\n",
       "      <td>Dream</td>\n",
       "      <td>43.5</td>\n",
       "      <td>18.1</td>\n",
       "      <td>202.0</td>\n",
       "      <td>3400.0</td>\n",
       "      <td>female</td>\n",
       "      <td>2009</td>\n",
       "    </tr>\n",
       "    <tr>\n",
       "      <th>341</th>\n",
       "      <td>Chinstrap</td>\n",
       "      <td>Dream</td>\n",
       "      <td>49.6</td>\n",
       "      <td>18.2</td>\n",
       "      <td>193.0</td>\n",
       "      <td>3775.0</td>\n",
       "      <td>male</td>\n",
       "      <td>2009</td>\n",
       "    </tr>\n",
       "    <tr>\n",
       "      <th>342</th>\n",
       "      <td>Chinstrap</td>\n",
       "      <td>Dream</td>\n",
       "      <td>50.8</td>\n",
       "      <td>19.0</td>\n",
       "      <td>210.0</td>\n",
       "      <td>4100.0</td>\n",
       "      <td>male</td>\n",
       "      <td>2009</td>\n",
       "    </tr>\n",
       "    <tr>\n",
       "      <th>343</th>\n",
       "      <td>Chinstrap</td>\n",
       "      <td>Dream</td>\n",
       "      <td>50.2</td>\n",
       "      <td>18.7</td>\n",
       "      <td>198.0</td>\n",
       "      <td>3775.0</td>\n",
       "      <td>female</td>\n",
       "      <td>2009</td>\n",
       "    </tr>\n",
       "  </tbody>\n",
       "</table>\n",
       "<p>344 rows × 8 columns</p>\n",
       "</div>\n",
       "      <button class=\"colab-df-convert\" onclick=\"convertToInteractive('df-103584df-6cea-45bd-a92a-f912a85979a0')\"\n",
       "              title=\"Convert this dataframe to an interactive table.\"\n",
       "              style=\"display:none;\">\n",
       "        \n",
       "  <svg xmlns=\"http://www.w3.org/2000/svg\" height=\"24px\"viewBox=\"0 0 24 24\"\n",
       "       width=\"24px\">\n",
       "    <path d=\"M0 0h24v24H0V0z\" fill=\"none\"/>\n",
       "    <path d=\"M18.56 5.44l.94 2.06.94-2.06 2.06-.94-2.06-.94-.94-2.06-.94 2.06-2.06.94zm-11 1L8.5 8.5l.94-2.06 2.06-.94-2.06-.94L8.5 2.5l-.94 2.06-2.06.94zm10 10l.94 2.06.94-2.06 2.06-.94-2.06-.94-.94-2.06-.94 2.06-2.06.94z\"/><path d=\"M17.41 7.96l-1.37-1.37c-.4-.4-.92-.59-1.43-.59-.52 0-1.04.2-1.43.59L10.3 9.45l-7.72 7.72c-.78.78-.78 2.05 0 2.83L4 21.41c.39.39.9.59 1.41.59.51 0 1.02-.2 1.41-.59l7.78-7.78 2.81-2.81c.8-.78.8-2.07 0-2.86zM5.41 20L4 18.59l7.72-7.72 1.47 1.35L5.41 20z\"/>\n",
       "  </svg>\n",
       "      </button>\n",
       "      \n",
       "  <style>\n",
       "    .colab-df-container {\n",
       "      display:flex;\n",
       "      flex-wrap:wrap;\n",
       "      gap: 12px;\n",
       "    }\n",
       "\n",
       "    .colab-df-convert {\n",
       "      background-color: #E8F0FE;\n",
       "      border: none;\n",
       "      border-radius: 50%;\n",
       "      cursor: pointer;\n",
       "      display: none;\n",
       "      fill: #1967D2;\n",
       "      height: 32px;\n",
       "      padding: 0 0 0 0;\n",
       "      width: 32px;\n",
       "    }\n",
       "\n",
       "    .colab-df-convert:hover {\n",
       "      background-color: #E2EBFA;\n",
       "      box-shadow: 0px 1px 2px rgba(60, 64, 67, 0.3), 0px 1px 3px 1px rgba(60, 64, 67, 0.15);\n",
       "      fill: #174EA6;\n",
       "    }\n",
       "\n",
       "    [theme=dark] .colab-df-convert {\n",
       "      background-color: #3B4455;\n",
       "      fill: #D2E3FC;\n",
       "    }\n",
       "\n",
       "    [theme=dark] .colab-df-convert:hover {\n",
       "      background-color: #434B5C;\n",
       "      box-shadow: 0px 1px 3px 1px rgba(0, 0, 0, 0.15);\n",
       "      filter: drop-shadow(0px 1px 2px rgba(0, 0, 0, 0.3));\n",
       "      fill: #FFFFFF;\n",
       "    }\n",
       "  </style>\n",
       "\n",
       "      <script>\n",
       "        const buttonEl =\n",
       "          document.querySelector('#df-103584df-6cea-45bd-a92a-f912a85979a0 button.colab-df-convert');\n",
       "        buttonEl.style.display =\n",
       "          google.colab.kernel.accessAllowed ? 'block' : 'none';\n",
       "\n",
       "        async function convertToInteractive(key) {\n",
       "          const element = document.querySelector('#df-103584df-6cea-45bd-a92a-f912a85979a0');\n",
       "          const dataTable =\n",
       "            await google.colab.kernel.invokeFunction('convertToInteractive',\n",
       "                                                     [key], {});\n",
       "          if (!dataTable) return;\n",
       "\n",
       "          const docLinkHtml = 'Like what you see? Visit the ' +\n",
       "            '<a target=\"_blank\" href=https://colab.research.google.com/notebooks/data_table.ipynb>data table notebook</a>'\n",
       "            + ' to learn more about interactive tables.';\n",
       "          element.innerHTML = '';\n",
       "          dataTable['output_type'] = 'display_data';\n",
       "          await google.colab.output.renderOutput(dataTable, element);\n",
       "          const docLink = document.createElement('div');\n",
       "          docLink.innerHTML = docLinkHtml;\n",
       "          element.appendChild(docLink);\n",
       "        }\n",
       "      </script>\n",
       "    </div>\n",
       "  </div>\n",
       "  "
      ],
      "text/plain": [
       "       species     island  bill_length_mm  bill_depth_mm  flipper_length_mm  \\\n",
       "0       Adelie  Torgersen            39.1           18.7              181.0   \n",
       "1       Adelie  Torgersen            39.5           17.4              186.0   \n",
       "2       Adelie  Torgersen            40.3           18.0              195.0   \n",
       "3       Adelie  Torgersen             NaN            NaN                NaN   \n",
       "4       Adelie  Torgersen            36.7           19.3              193.0   \n",
       "..         ...        ...             ...            ...                ...   \n",
       "339  Chinstrap      Dream            55.8           19.8              207.0   \n",
       "340  Chinstrap      Dream            43.5           18.1              202.0   \n",
       "341  Chinstrap      Dream            49.6           18.2              193.0   \n",
       "342  Chinstrap      Dream            50.8           19.0              210.0   \n",
       "343  Chinstrap      Dream            50.2           18.7              198.0   \n",
       "\n",
       "     body_mass_g     sex  year  \n",
       "0         3750.0    male  2007  \n",
       "1         3800.0  female  2007  \n",
       "2         3250.0  female  2007  \n",
       "3            NaN     NaN  2007  \n",
       "4         3450.0  female  2007  \n",
       "..           ...     ...   ...  \n",
       "339       4000.0    male  2009  \n",
       "340       3400.0  female  2009  \n",
       "341       3775.0    male  2009  \n",
       "342       4100.0    male  2009  \n",
       "343       3775.0  female  2009  \n",
       "\n",
       "[344 rows x 8 columns]"
      ]
     },
     "execution_count": 120,
     "metadata": {},
     "output_type": "execute_result"
    }
   ],
   "source": [
    "\n",
    "df=load_penguins()\n",
    "df"
   ]
  },
  {
   "cell_type": "code",
   "execution_count": 121,
   "metadata": {
    "colab": {
     "base_uri": "https://localhost:8080/"
    },
    "id": "CvzRhIQtSC_c",
    "outputId": "b314b66d-b285-41dc-82ad-73c67fe5df66"
   },
   "outputs": [
    {
     "data": {
      "text/plain": [
       "Index(['species', 'island', 'bill_length_mm', 'bill_depth_mm',\n",
       "       'flipper_length_mm', 'body_mass_g', 'sex', 'year'],\n",
       "      dtype='object')"
      ]
     },
     "execution_count": 121,
     "metadata": {},
     "output_type": "execute_result"
    }
   ],
   "source": [
    "df.dropna(inplace=True)\n",
    "df=df.set_index(np.arange(df.shape[0]))\n",
    "df.columns\n"
   ]
  },
  {
   "cell_type": "code",
   "execution_count": 128,
   "metadata": {
    "colab": {
     "base_uri": "https://localhost:8080/",
     "height": 1000
    },
    "id": "uIwMFpsXc8AU",
    "outputId": "f0002402-c23d-4a26-f646-572c618630b4"
   },
   "outputs": [
    {
     "data": {
      "image/png": "[encoded data removed]",
      "text/plain": [
       "<Figure size 444.125x360 with 1 Axes>"
      ]
     },
     "metadata": {
      "needs_background": "light"
     },
     "output_type": "display_data"
    },
    {
     "data": {
      "image/png": "[encoded data removed]",
      "text/plain": [
       "<Figure size 444.125x360 with 1 Axes>"
      ]
     },
     "metadata": {
      "needs_background": "light"
     },
     "output_type": "display_data"
    },
    {
     "data": {
      "image/png": "[encoded data removed]",
      "text/plain": [
       "<Figure size 444.125x360 with 1 Axes>"
      ]
     },
     "metadata": {
      "needs_background": "light"
     },
     "output_type": "display_data"
    }
   ],
   "source": [
    "dataheaders = [ 'island', 'sex', 'year']\n",
    "\n",
    "for header in dataheaders:\n",
    "  \n",
    "  sns.catplot(x=header,hue='species',kind='count',data=df)\n",
    "  plt.show()"
   ]
  },
  {
   "cell_type": "code",
   "execution_count": 123,
   "metadata": {
    "colab": {
     "base_uri": "https://localhost:8080/",
     "height": 476
    },
    "id": "Q8hdwJUqg0Oo",
    "outputId": "fe23aeb6-6204-4930-c17e-32d565d878ab"
   },
   "outputs": [
    {
     "name": "stderr",
     "output_type": "stream",
     "text": [
      "/usr/local/lib/python3.8/dist-packages/numpy/core/fromnumeric.py:3208: VisibleDeprecationWarning: Creating an ndarray from ragged nested sequences (which is a list-or-tuple of lists-or-tuples-or ndarrays with different lengths or shapes) is deprecated. If you meant to do this, you must specify 'dtype=object' when creating the ndarray.\n",
      "  return asarray(a).size\n",
      "/usr/local/lib/python3.8/dist-packages/matplotlib/cbook/__init__.py:1376: VisibleDeprecationWarning: Creating an ndarray from ragged nested sequences (which is a list-or-tuple of lists-or-tuples-or ndarrays with different lengths or shapes) is deprecated. If you meant to do this, you must specify 'dtype=object' when creating the ndarray.\n",
      "  X = np.atleast_1d(X.T if isinstance(X, np.ndarray) else np.asarray(X))\n"
     ]
    },
    {
     "data": {
      "image/png": "[encoded data removed]",
      "text/plain": [
       "<Figure size 864x360 with 4 Axes>"
      ]
     },
     "metadata": {
      "needs_background": "light"
     },
     "output_type": "display_data"
    },
    {
     "name": "stdout",
     "output_type": "stream",
     "text": [
      "\n",
      "\n",
      "\n"
     ]
    }
   ],
   "source": [
    "dataheaders = [ 'bill_length_mm', 'bill_depth_mm', 'flipper_length_mm', 'body_mass_g']\n",
    "plt.rcParams['figure.figsize'] = [12, 5]\n",
    "names=['Adelie','Gentoo','Chinstrap']\n",
    "# dataheaders=[\"Area\",\"Perimeter\",\"Compactness\",\"Length of kernel\",\"Width of kernel\",\"Asymmetry coefficient\",\"Length of kernel groove\"]\n",
    "for dataheader,i in zip(dataheaders,range(len(dataheaders))):\n",
    "  x1 = list(df[df['species'] == names[0]][dataheader])\n",
    "  x2 = list(df[df['species'] == names[1]][dataheader])\n",
    "  x3 = list(df[df['species'] == names[2]][dataheader])\n",
    "  plt.subplot(2,2,i+1)\n",
    "  \n",
    "  colors=['blue', 'green', 'orange']\n",
    "  # names=[1,2,3]\n",
    "\n",
    "  \n",
    "  n,bins,patches=plt.hist([x1, x2, x3], color=colors,bins=7, label=names, density=False)\n",
    "\n",
    "  \n",
    "  \n",
    "  \n",
    "  plt.xlabel(dataheaders[i])\n",
    "  plt.ylabel(\"count\")\n",
    "plt.legend(bbox_to_anchor=(1, 0.5))\n",
    "plt.show()\n",
    "print('\\n\\n')"
   ]
  },
  {
   "cell_type": "code",
   "execution_count": 124,
   "metadata": {
    "colab": {
     "base_uri": "https://localhost:8080/",
     "height": 423
    },
    "id": "-s2MhgyqVuOk",
    "outputId": "0689561c-fc4e-4856-aa9a-01a5f1aaad24"
   },
   "outputs": [
    {
     "data": {
      "text/html": [
       "\n",
       "  <div id=\"df-983b428e-9415-4892-9676-1503ed2b1630\">\n",
       "    <div class=\"colab-df-container\">\n",
       "      <div>\n",
       "<style scoped>\n",
       "    .dataframe tbody tr th:only-of-type {\n",
       "        vertical-align: middle;\n",
       "    }\n",
       "\n",
       "    .dataframe tbody tr th {\n",
       "        vertical-align: top;\n",
       "    }\n",
       "\n",
       "    .dataframe thead th {\n",
       "        text-align: right;\n",
       "    }\n",
       "</style>\n",
       "<table border=\"1\" class=\"dataframe\">\n",
       "  <thead>\n",
       "    <tr style=\"text-align: right;\">\n",
       "      <th></th>\n",
       "      <th>species</th>\n",
       "      <th>island</th>\n",
       "      <th>bill_length_mm</th>\n",
       "      <th>bill_depth_mm</th>\n",
       "      <th>flipper_length_mm</th>\n",
       "      <th>body_mass_g</th>\n",
       "      <th>sex</th>\n",
       "      <th>year</th>\n",
       "    </tr>\n",
       "  </thead>\n",
       "  <tbody>\n",
       "    <tr>\n",
       "      <th>0</th>\n",
       "      <td>Adelie</td>\n",
       "      <td>2</td>\n",
       "      <td>39.1</td>\n",
       "      <td>18.7</td>\n",
       "      <td>181.0</td>\n",
       "      <td>3750.0</td>\n",
       "      <td>1</td>\n",
       "      <td>2007</td>\n",
       "    </tr>\n",
       "    <tr>\n",
       "      <th>1</th>\n",
       "      <td>Adelie</td>\n",
       "      <td>2</td>\n",
       "      <td>39.5</td>\n",
       "      <td>17.4</td>\n",
       "      <td>186.0</td>\n",
       "      <td>3800.0</td>\n",
       "      <td>0</td>\n",
       "      <td>2007</td>\n",
       "    </tr>\n",
       "    <tr>\n",
       "      <th>2</th>\n",
       "      <td>Adelie</td>\n",
       "      <td>2</td>\n",
       "      <td>40.3</td>\n",
       "      <td>18.0</td>\n",
       "      <td>195.0</td>\n",
       "      <td>3250.0</td>\n",
       "      <td>0</td>\n",
       "      <td>2007</td>\n",
       "    </tr>\n",
       "    <tr>\n",
       "      <th>3</th>\n",
       "      <td>Adelie</td>\n",
       "      <td>2</td>\n",
       "      <td>36.7</td>\n",
       "      <td>19.3</td>\n",
       "      <td>193.0</td>\n",
       "      <td>3450.0</td>\n",
       "      <td>0</td>\n",
       "      <td>2007</td>\n",
       "    </tr>\n",
       "    <tr>\n",
       "      <th>4</th>\n",
       "      <td>Adelie</td>\n",
       "      <td>2</td>\n",
       "      <td>39.3</td>\n",
       "      <td>20.6</td>\n",
       "      <td>190.0</td>\n",
       "      <td>3650.0</td>\n",
       "      <td>1</td>\n",
       "      <td>2007</td>\n",
       "    </tr>\n",
       "    <tr>\n",
       "      <th>...</th>\n",
       "      <td>...</td>\n",
       "      <td>...</td>\n",
       "      <td>...</td>\n",
       "      <td>...</td>\n",
       "      <td>...</td>\n",
       "      <td>...</td>\n",
       "      <td>...</td>\n",
       "      <td>...</td>\n",
       "    </tr>\n",
       "    <tr>\n",
       "      <th>328</th>\n",
       "      <td>Chinstrap</td>\n",
       "      <td>1</td>\n",
       "      <td>55.8</td>\n",
       "      <td>19.8</td>\n",
       "      <td>207.0</td>\n",
       "      <td>4000.0</td>\n",
       "      <td>1</td>\n",
       "      <td>2009</td>\n",
       "    </tr>\n",
       "    <tr>\n",
       "      <th>329</th>\n",
       "      <td>Chinstrap</td>\n",
       "      <td>1</td>\n",
       "      <td>43.5</td>\n",
       "      <td>18.1</td>\n",
       "      <td>202.0</td>\n",
       "      <td>3400.0</td>\n",
       "      <td>0</td>\n",
       "      <td>2009</td>\n",
       "    </tr>\n",
       "    <tr>\n",
       "      <th>330</th>\n",
       "      <td>Chinstrap</td>\n",
       "      <td>1</td>\n",
       "      <td>49.6</td>\n",
       "      <td>18.2</td>\n",
       "      <td>193.0</td>\n",
       "      <td>3775.0</td>\n",
       "      <td>1</td>\n",
       "      <td>2009</td>\n",
       "    </tr>\n",
       "    <tr>\n",
       "      <th>331</th>\n",
       "      <td>Chinstrap</td>\n",
       "      <td>1</td>\n",
       "      <td>50.8</td>\n",
       "      <td>19.0</td>\n",
       "      <td>210.0</td>\n",
       "      <td>4100.0</td>\n",
       "      <td>1</td>\n",
       "      <td>2009</td>\n",
       "    </tr>\n",
       "    <tr>\n",
       "      <th>332</th>\n",
       "      <td>Chinstrap</td>\n",
       "      <td>1</td>\n",
       "      <td>50.2</td>\n",
       "      <td>18.7</td>\n",
       "      <td>198.0</td>\n",
       "      <td>3775.0</td>\n",
       "      <td>0</td>\n",
       "      <td>2009</td>\n",
       "    </tr>\n",
       "  </tbody>\n",
       "</table>\n",
       "<p>333 rows × 8 columns</p>\n",
       "</div>\n",
       "      <button class=\"colab-df-convert\" onclick=\"convertToInteractive('df-983b428e-9415-4892-9676-1503ed2b1630')\"\n",
       "              title=\"Convert this dataframe to an interactive table.\"\n",
       "              style=\"display:none;\">\n",
       "        \n",
       "  <svg xmlns=\"http://www.w3.org/2000/svg\" height=\"24px\"viewBox=\"0 0 24 24\"\n",
       "       width=\"24px\">\n",
       "    <path d=\"M0 0h24v24H0V0z\" fill=\"none\"/>\n",
       "    <path d=\"M18.56 5.44l.94 2.06.94-2.06 2.06-.94-2.06-.94-.94-2.06-.94 2.06-2.06.94zm-11 1L8.5 8.5l.94-2.06 2.06-.94-2.06-.94L8.5 2.5l-.94 2.06-2.06.94zm10 10l.94 2.06.94-2.06 2.06-.94-2.06-.94-.94-2.06-.94 2.06-2.06.94z\"/><path d=\"M17.41 7.96l-1.37-1.37c-.4-.4-.92-.59-1.43-.59-.52 0-1.04.2-1.43.59L10.3 9.45l-7.72 7.72c-.78.78-.78 2.05 0 2.83L4 21.41c.39.39.9.59 1.41.59.51 0 1.02-.2 1.41-.59l7.78-7.78 2.81-2.81c.8-.78.8-2.07 0-2.86zM5.41 20L4 18.59l7.72-7.72 1.47 1.35L5.41 20z\"/>\n",
       "  </svg>\n",
       "      </button>\n",
       "      \n",
       "  <style>\n",
       "    .colab-df-container {\n",
       "      display:flex;\n",
       "      flex-wrap:wrap;\n",
       "      gap: 12px;\n",
       "    }\n",
       "\n",
       "    .colab-df-convert {\n",
       "      background-color: #E8F0FE;\n",
       "      border: none;\n",
       "      border-radius: 50%;\n",
       "      cursor: pointer;\n",
       "      display: none;\n",
       "      fill: #1967D2;\n",
       "      height: 32px;\n",
       "      padding: 0 0 0 0;\n",
       "      width: 32px;\n",
       "    }\n",
       "\n",
       "    .colab-df-convert:hover {\n",
       "      background-color: #E2EBFA;\n",
       "      box-shadow: 0px 1px 2px rgba(60, 64, 67, 0.3), 0px 1px 3px 1px rgba(60, 64, 67, 0.15);\n",
       "      fill: #174EA6;\n",
       "    }\n",
       "\n",
       "    [theme=dark] .colab-df-convert {\n",
       "      background-color: #3B4455;\n",
       "      fill: #D2E3FC;\n",
       "    }\n",
       "\n",
       "    [theme=dark] .colab-df-convert:hover {\n",
       "      background-color: #434B5C;\n",
       "      box-shadow: 0px 1px 3px 1px rgba(0, 0, 0, 0.15);\n",
       "      filter: drop-shadow(0px 1px 2px rgba(0, 0, 0, 0.3));\n",
       "      fill: #FFFFFF;\n",
       "    }\n",
       "  </style>\n",
       "\n",
       "      <script>\n",
       "        const buttonEl =\n",
       "          document.querySelector('#df-983b428e-9415-4892-9676-1503ed2b1630 button.colab-df-convert');\n",
       "        buttonEl.style.display =\n",
       "          google.colab.kernel.accessAllowed ? 'block' : 'none';\n",
       "\n",
       "        async function convertToInteractive(key) {\n",
       "          const element = document.querySelector('#df-983b428e-9415-4892-9676-1503ed2b1630');\n",
       "          const dataTable =\n",
       "            await google.colab.kernel.invokeFunction('convertToInteractive',\n",
       "                                                     [key], {});\n",
       "          if (!dataTable) return;\n",
       "\n",
       "          const docLinkHtml = 'Like what you see? Visit the ' +\n",
       "            '<a target=\"_blank\" href=https://colab.research.google.com/notebooks/data_table.ipynb>data table notebook</a>'\n",
       "            + ' to learn more about interactive tables.';\n",
       "          element.innerHTML = '';\n",
       "          dataTable['output_type'] = 'display_data';\n",
       "          await google.colab.output.renderOutput(dataTable, element);\n",
       "          const docLink = document.createElement('div');\n",
       "          docLink.innerHTML = docLinkHtml;\n",
       "          element.appendChild(docLink);\n",
       "        }\n",
       "      </script>\n",
       "    </div>\n",
       "  </div>\n",
       "  "
      ],
      "text/plain": [
       "       species  island  bill_length_mm  bill_depth_mm  flipper_length_mm  \\\n",
       "0       Adelie       2            39.1           18.7              181.0   \n",
       "1       Adelie       2            39.5           17.4              186.0   \n",
       "2       Adelie       2            40.3           18.0              195.0   \n",
       "3       Adelie       2            36.7           19.3              193.0   \n",
       "4       Adelie       2            39.3           20.6              190.0   \n",
       "..         ...     ...             ...            ...                ...   \n",
       "328  Chinstrap       1            55.8           19.8              207.0   \n",
       "329  Chinstrap       1            43.5           18.1              202.0   \n",
       "330  Chinstrap       1            49.6           18.2              193.0   \n",
       "331  Chinstrap       1            50.8           19.0              210.0   \n",
       "332  Chinstrap       1            50.2           18.7              198.0   \n",
       "\n",
       "     body_mass_g  sex  year  \n",
       "0         3750.0    1  2007  \n",
       "1         3800.0    0  2007  \n",
       "2         3250.0    0  2007  \n",
       "3         3450.0    0  2007  \n",
       "4         3650.0    1  2007  \n",
       "..           ...  ...   ...  \n",
       "328       4000.0    1  2009  \n",
       "329       3400.0    0  2009  \n",
       "330       3775.0    1  2009  \n",
       "331       4100.0    1  2009  \n",
       "332       3775.0    0  2009  \n",
       "\n",
       "[333 rows x 8 columns]"
      ]
     },
     "execution_count": 124,
     "metadata": {},
     "output_type": "execute_result"
    }
   ],
   "source": [
    "lab_enc = LabelEncoder()\n",
    "for header in ['island','sex']:\n",
    "  df[header]=lab_enc.fit_transform(df[header])\n",
    "df"
   ]
  },
  {
   "cell_type": "code",
   "execution_count": 125,
   "metadata": {
    "colab": {
     "base_uri": "https://localhost:8080/"
    },
    "id": "gYj153TjWrSk",
    "outputId": "d5532b05-d4ed-4e49-97a1-0620362f5ad4"
   },
   "outputs": [
    {
     "name": "stdout",
     "output_type": "stream",
     "text": [
      "     island  bill_length_mm  bill_depth_mm  flipper_length_mm  body_mass_g  \\\n",
      "0         2            33.5           19.0              190.0       3600.0   \n",
      "1         1            51.3           19.2              193.0       3650.0   \n",
      "2         1            36.0           17.8              195.0       3450.0   \n",
      "3         1            51.0           18.8              203.0       4100.0   \n",
      "4         1            48.1           16.4              199.0       3325.0   \n",
      "..      ...             ...            ...                ...          ...   \n",
      "228       2            40.2           17.0              176.0       3450.0   \n",
      "229       1            46.8           16.5              189.0       3650.0   \n",
      "230       1            40.7           17.0              190.0       3725.0   \n",
      "231       0            46.1           15.1              215.0       5100.0   \n",
      "232       0            45.5           15.0              220.0       5000.0   \n",
      "\n",
      "     sex  year  \n",
      "0      0  2008  \n",
      "1      1  2007  \n",
      "2      0  2009  \n",
      "3      1  2008  \n",
      "4      0  2009  \n",
      "..   ...   ...  \n",
      "228    0  2009  \n",
      "229    0  2009  \n",
      "230    1  2009  \n",
      "231    1  2007  \n",
      "232    1  2008  \n",
      "\n",
      "[233 rows x 7 columns]\n"
     ]
    }
   ],
   "source": [
    "X=df.drop('species',axis=1)\n",
    "y=df['species']\n",
    "X_train,X_test,y_train,y_test = tts(X,y,test_size=0.3,shuffle=True)\n",
    "X_train.index=np.arange(X_train.shape[0])\n",
    "y_train.index=np.arange(y_train.shape[0])\n",
    "print(X_train,)"
   ]
  },
  {
   "cell_type": "markdown",
   "metadata": {
    "id": "yNaxOoSnJbiD"
   },
   "source": [
    "###Part 2"
   ]
  },
  {
   "cell_type": "code",
   "execution_count": 81,
   "metadata": {
    "colab": {
     "base_uri": "https://localhost:8080/"
    },
    "id": "MVHlaNLBZvK_",
    "outputId": "2bbf3b14-70c8-4430-d4e8-42806c54c1e3"
   },
   "outputs": [
    {
     "name": "stdout",
     "output_type": "stream",
     "text": [
      "1.5199782530545058\n"
     ]
    }
   ],
   "source": [
    "def probability(y,classes):\n",
    "  probs=[]\n",
    "  for class_name in classes:\n",
    "    cnt=len(np.where(y==class_name)[0])\n",
    "    probs.append(cnt/len(y))\n",
    "  return probs\n",
    "\n",
    "# def elog(p):\n",
    "#   if(p==0):\n",
    "#     return 0\n",
    "#   else:\n",
    "#     out=(-1)*p*(math.log(p,2))\n",
    "#     return out\n",
    "\n",
    "\n",
    "# def temp_entropy(X,y,feature):\n",
    "#   total_enp = 0\n",
    "#   classes=np.unique(y)\n",
    "#   feature_values = np.unique(X[feature])\n",
    "#   for feature_value in feature_values:\n",
    "#     temp_y=y[np.where(X[feature]==feature_value)[0]]\n",
    "#     temp_prob=probability(temp_y,classes)\n",
    "#     temp_en=0\n",
    "#     for p in temp_prob:\n",
    "      \n",
    "#       temp_en+=elog(p)\n",
    "#       # print(elog(p))\n",
    "#     temp_en*=(len(np.where(X[feature]==feature_value)[0])/len(X[feature]))\n",
    "#     total_enp+=temp_en\n",
    "#   return total_enp\n",
    "  \n",
    "def entropy(y):\n",
    "    class_prob=probability(y,np.unique(y))\n",
    "    enp = 0\n",
    "    for p in class_prob:\n",
    "        enp -= p * np.log2(p)\n",
    "    return enp\n",
    "    \n",
    "    \n",
    "    \n",
    "        \n",
    "    \n",
    "\n",
    "# print(my_entropy(y[np.where(X['sex'])]))\n",
    "def entropy_of_feature(X,y):\n",
    "  feature_values=np.unique(X)\n",
    "  enp=0\n",
    "  for feature_value in feature_values:\n",
    "    temp_enp=entropy(y[np.where(X==feature_value)[0]])\n",
    "    temp_enp*=len(np.where(X==feature_value)[0])/len(X)\n",
    "    enp+=temp_enp\n",
    "  return enp\n",
    "\n",
    "\n",
    "\n",
    "\n",
    "print(entropy_of_feature(X['sex'].to_numpy(),y.to_numpy()))\n",
    "\n",
    "\n"
   ]
  },
  {
   "cell_type": "markdown",
   "metadata": {
    "id": "Ub9vc5fkJfla"
   },
   "source": [
    "###Part 3"
   ]
  },
  {
   "cell_type": "code",
   "execution_count": 82,
   "metadata": {
    "colab": {
     "base_uri": "https://localhost:8080/"
    },
    "id": "-08wf1Y1cUoG",
    "outputId": "81b3030c-43f9-4ad9-c59d-4008e4a4db33"
   },
   "outputs": [
    {
     "name": "stdout",
     "output_type": "stream",
     "text": [
      "     island  bill_length_mm  bill_depth_mm  flipper_length_mm  body_mass_g  \\\n",
      "0         2               0              1                  0            0   \n",
      "1         2               0              1                  0            0   \n",
      "2         2               0              1                  0            0   \n",
      "3         2               0              1                  0            0   \n",
      "4         2               0              1                  0            0   \n",
      "..      ...             ...            ...                ...          ...   \n",
      "328       1               1              1                  1            0   \n",
      "329       1               1              1                  0            0   \n",
      "330       1               1              1                  0            0   \n",
      "331       1               1              1                  1            0   \n",
      "332       1               1              1                  0            0   \n",
      "\n",
      "     sex  year  \n",
      "0      1  2007  \n",
      "1      0  2007  \n",
      "2      0  2007  \n",
      "3      0  2007  \n",
      "4      1  2007  \n",
      "..   ...   ...  \n",
      "328    1  2009  \n",
      "329    0  2009  \n",
      "330    1  2009  \n",
      "331    1  2009  \n",
      "332    0  2009  \n",
      "\n",
      "[333 rows x 7 columns] 0         Adelie\n",
      "1         Adelie\n",
      "2         Adelie\n",
      "3         Adelie\n",
      "4         Adelie\n",
      "         ...    \n",
      "328    Chinstrap\n",
      "329    Chinstrap\n",
      "330    Chinstrap\n",
      "331    Chinstrap\n",
      "332    Chinstrap\n",
      "Name: species, Length: 333, dtype: object\n"
     ]
    }
   ],
   "source": [
    "def cont_to_cat(X, y):\n",
    "    \n",
    "    classes = np.unique(y)\n",
    "    num_classes = len(classes)\n",
    "\n",
    "    best_gain = 0\n",
    "    best_split_value = 0\n",
    "    parent_enp=entropy(y)\n",
    "    for split_value in np.unique(X):\n",
    "      left_y=y[np.where(X<=split_value)[0]]\n",
    "      right_y=y[np.where(X>split_value)[0]]\n",
    "      if(len(left_y)!=0 and len(right_y)!=0):\n",
    "        enp_left=(len(left_y)/len(y))*entropy(left_y)\n",
    "        enp_right=(len(right_y)/len(y))*entropy(right_y)\n",
    "        temp_gain=parent_enp-enp_left-enp_right\n",
    "        if(temp_gain>best_gain):\n",
    "          best_gain=temp_gain\n",
    "          best_split_value=split_value\n",
    "    new_X=X.copy()\n",
    "    for i in range(len(new_X)):\n",
    "      new_X[i]=int(X[i]>best_split_value)\n",
    "    return new_X.astype(int)\n",
    "\n",
    "dataheaders = [ 'bill_length_mm', 'bill_depth_mm', 'flipper_length_mm', 'body_mass_g']\n",
    "for header in dataheaders:\n",
    "  X[header]=cont_to_cat(X[header],y)\n",
    "print(X,y)\n",
    "\n",
    "X_train,X_test,y_train,y_test=tts(X,y,test_size=0.3,shuffle=True)\n"
   ]
  },
  {
   "cell_type": "markdown",
   "metadata": {
    "id": "gKF6coFmAHH8"
   },
   "source": [
    "###Part 4\n"
   ]
  },
  {
   "cell_type": "code",
   "execution_count": 90,
   "metadata": {
    "colab": {
     "base_uri": "https://localhost:8080/"
    },
    "id": "gxv-9DPOVO-E",
    "outputId": "f3bc2264-aebb-4aae-d005-a0dc72bc9481"
   },
   "outputs": [
    {
     "name": "stdout",
     "output_type": "stream",
     "text": [
      "['Gentoo', 'Gentoo', 'Adelie', 'Gentoo', 'Gentoo', 'Adelie', 'Gentoo', 'Gentoo', 'Adelie', 'Adelie', 'Gentoo', 'Chinstrap', 'Gentoo', 'Adelie', 'Gentoo', 'Chinstrap', 'Chinstrap', 'Adelie', 'Gentoo', 'Gentoo', 'Chinstrap', 'Gentoo', 'Chinstrap', 'Adelie', 'Gentoo', 'Chinstrap', 'Chinstrap', 'Chinstrap', 'Gentoo', 'Chinstrap', 'Adelie', 'Gentoo', 'Chinstrap', 'Chinstrap', 'Adelie', 'Adelie', 'Adelie', 'Gentoo', 'Adelie', 'Chinstrap', 'Gentoo', 'Chinstrap', 'Chinstrap', 'Gentoo', 'Gentoo', 'Adelie', 'Adelie', 'Adelie', 'Adelie', 'Adelie', 'Gentoo', 'Adelie', 'Gentoo', 'Adelie', 'Adelie', 'Adelie', 'Adelie', 'Chinstrap', 'Adelie', 'Adelie', 'Gentoo', 'Adelie', 'Chinstrap', 'Chinstrap', 'Gentoo', 'Adelie', 'Adelie', 'Chinstrap', 'Gentoo', 'Adelie', 'Gentoo', 'Chinstrap', 'Gentoo', 'Adelie', 'Adelie', 'Gentoo', 'Chinstrap', 'Gentoo', 'Chinstrap', 'Adelie', 'Gentoo', 'Chinstrap', 'Chinstrap', 'Adelie', 'Gentoo', 'Gentoo', 'Gentoo', 'Gentoo', 'Gentoo', 'Chinstrap', 'Gentoo', 'Adelie', 'Adelie', 'Chinstrap', 'Chinstrap', 'Adelie', 'Gentoo', 'Adelie', 'Adelie', 'Adelie']\n",
      "(0.97, [0.95, 1.0, 0.972972972972973])\n"
     ]
    }
   ],
   "source": [
    "def find_best_split(X,y,available_feat):\n",
    "  best_feature=available_feat[0]\n",
    "  parent_enp=entropy(y)\n",
    "  if(parent_enp==0):\n",
    "    return None,0\n",
    "  best_gain=0\n",
    "  for feature in available_feat:\n",
    "    temp_gain=parent_enp-entropy_of_feature(X[:,feature],y)\n",
    "    if(best_gain<temp_gain):\n",
    "      best_feature=feature\n",
    "      best_gain=temp_gain\n",
    "  return best_feature,best_gain\n",
    "\n",
    "def most_probable_class(y):\n",
    "  classes=np.unique(y)\n",
    "  \n",
    "  class_prob=probability(y,classes)\n",
    "  \n",
    "  return classes[class_prob.index(max(class_prob))]\n",
    "\n",
    "\n",
    "class Node:\n",
    "  def __init__(self,query=[],isLeafNode=0,value=None,childs=[],feature=None):\n",
    "    self.query=query\n",
    "    self.isLeafNode=isLeafNode\n",
    "    self.value=value\n",
    "    self.childs=childs\n",
    "    self.feature=feature\n",
    "    \n",
    "  \n",
    "  \n",
    "\n",
    "class Decision_tree_classifier_scratch:\n",
    "  def __init__(self,max_depth=100):\n",
    "    self.max_depth=max_depth\n",
    "    self.root=None\n",
    "\n",
    "  \n",
    "\n",
    "  def __grow_tree(self,X,y,depth,available_feat):\n",
    "\n",
    "    if(len(available_feat)==0):\n",
    "      return Node(isLeafNode=1,value=most_probable_class(y))\n",
    "    best_feat,best_gain = find_best_split(X,y,available_feat)\n",
    "    # print(best_feat,best_gain)\n",
    "\n",
    "    \n",
    "    if(best_gain!=0 and depth<self.max_depth ):\n",
    "      \n",
    "      available_feat.remove(best_feat)\n",
    "       \n",
    "      new_X=X[:,best_feat]\n",
    "      feature_values=self.all_feature_values[best_feat]\n",
    "      # print('feature values',feature_values)\n",
    "      childs=[]\n",
    "      for feature_value in feature_values:\n",
    "        idx=np.where(new_X==feature_value)[0]\n",
    "        if(len(idx)==0):\n",
    "          # print('leaf Node',most_probable_class(y))\n",
    "          childs.append(Node(isLeafNode=1,value=most_probable_class(y)))\n",
    "        else:\n",
    "\n",
    "        # print('idx',idx)\n",
    "          childs.append(self.__grow_tree(X[idx,:],y[idx],depth+1,available_feat))\n",
    "      \n",
    "      return Node(query=feature_values,childs=childs,feature=best_feat)\n",
    "\n",
    "\n",
    "    else:\n",
    "      # print('leaf Node',most_probable_class(y))\n",
    "      return Node(isLeafNode=1,value=most_probable_class(y))\n",
    "\n",
    "\n",
    "\n",
    "\n",
    "      \n",
    "\n",
    "\n",
    "      \n",
    "\n",
    "  def train(self,X,y):\n",
    "    self.no_features=X.shape[1]\n",
    "    self.all_feature_values=[np.unique(X[:,feature]) for feature in range(X.shape[1])]\n",
    "    # print(self.all_feature_values)\n",
    "\n",
    "    self.root=self.__grow_tree(X,y,0,list(range(X.shape[1])))\n",
    "\n",
    "  def predict(self,x,node=None):\n",
    "    if(node==None):\n",
    "      node=self.root\n",
    "    if(node.isLeafNode):\n",
    "      return node.value\n",
    "    to_find=x[node.feature]\n",
    "    child_no=np.where(node.query==to_find)[0][0]\n",
    "    \n",
    "    return self.predict(x,node.childs[child_no])\n",
    "    \n",
    "  def test(self,X):\n",
    "    \n",
    "    predictions=[]\n",
    "    for i in range(X.shape[0]):\n",
    "      pred=self.predict(X[i])\n",
    "      \n",
    "      predictions.append(pred)\n",
    "    return predictions\n",
    "\n",
    "  def accuracy(self,X,y):\n",
    "    pred=self.test(X,y)\n",
    "    classes=np.unique(y)\n",
    "    class_acc=[]\n",
    "    total_acc=0\n",
    "    for class_name in classes:\n",
    "      idx=np.where(y==class_name)[0]\n",
    "      cnt=0\n",
    "      for index in idx:\n",
    "        if(pred[index]==class_name):\n",
    "          cnt+=1\n",
    "          total_acc+=1\n",
    "      class_acc.append(cnt/len(idx))\n",
    "    total_acc=total_acc/len(y)\n",
    "    return total_acc,class_acc\n",
    "\n",
    "  \n",
    "  \n",
    "\n",
    "\n",
    "clf=Decision_tree_classifier_scratch(max_depth=2)\n",
    "clf.train(X_train.to_numpy(),y_train.to_numpy())\n",
    "# print((X_train))\n",
    "\n",
    "print(clf.test(X_test.to_numpy()))\n",
    "print(clf.accuracy(X_test.to_numpy(),y_test.to_numpy()))\n",
    "# clf.predict([2,\t0,\t1,\t0,\t0,\t1,\t2007])\n",
    "# print(find_best_split(X.to_numpy(),y.to_numpy(),range(X.shape[1])))\n",
    "\n",
    "\n"
   ]
  }
 ],
 "metadata": {
  "colab": {
   "provenance": [],
   "toc_visible": true
  },
  "kernelspec": {
   "display_name": "Python 3 (ipykernel)",
   "language": "python",
   "name": "python3"
  },
  "language_info": {
   "codemirror_mode": {
    "name": "ipython",
    "version": 3
   },
   "file_extension": ".py",
   "mimetype": "text/x-python",
   "name": "python",
   "nbconvert_exporter": "python",
   "pygments_lexer": "ipython3",
   "version": "3.10.5"
  }
 },
 "nbformat": 4,
 "nbformat_minor": 1
}
