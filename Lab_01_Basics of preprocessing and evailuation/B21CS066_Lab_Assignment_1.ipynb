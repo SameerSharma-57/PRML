{
  "cells": [
    {
      "cell_type": "markdown",
      "metadata": {
        "id": "Lo801SoMH_Bc"
      },
      "source": [
        "#Problem 1"
      ]
    },
    {
      "cell_type": "code",
      "source": [
        "from google.colab import drive\n",
        "drive.mount('/content/drive')"
      ],
      "metadata": {
        "id": "oGi1Ayz2rmzS",
        "colab": {
          "base_uri": "https://localhost:8080/"
        },
        "outputId": "076c8669-a760-467e-f03a-943321d349e1"
      },
      "execution_count": null,
      "outputs": [
        {
          "output_type": "stream",
          "name": "stdout",
          "text": [
            "Drive already mounted at /content/drive; to attempt to forcibly remount, call drive.mount(\"/content/drive\", force_remount=True).\n"
          ]
        }
      ]
    },
    {
      "cell_type": "markdown",
      "source": [],
      "metadata": {
        "id": "NTL61yoDkTTq"
      }
    },
    {
      "cell_type": "markdown",
      "metadata": {
        "id": "TFXghpCYPzL4"
      },
      "source": [
        "##Convert file data to list"
      ]
    },
    {
      "cell_type": "code",
      "execution_count": null,
      "metadata": {
        "colab": {
          "base_uri": "https://localhost:8080/"
        },
        "id": "1ld7EKjLLwF_",
        "outputId": "7c5bfd99-0ec2-4ef3-c9c7-922eea3a2ca2"
      },
      "outputs": [
        {
          "name": "stdout",
          "output_type": "stream",
          "text": [
            "[2.5, 10.5, 7.0, 5.0, 6.0, 3.5, 8.0, 2.0, 9.0, 10.0, 0.0, 13.0, 4.5, 4.0, 9.0, 7.0, 8.5, 4.5, 3.0, 0.5, 0.0, 8.0, 7.5, 9.5, 4.5, 1.5, 5.0, 4.0, 7.0, 5.5, 6.0, 2.0, 8.5, 15.0, 4.5, 3.0, 12.5, 6.0, 6.5, 12.0, 8.5, 4.0, 0.0, 2.5, 11.0, 8.0, 11.0, 1.5, 11.0, 11.5, 2.5, 12.5, 4.0, 12.0, 9.5, 9.0, 9.5, 7.5, 7.5, 0.5, 1.5, 4.5, 6.0, 5.0, 10.5, 3.5, 10.0, 7.5, 7.0, 12.5, 2.5, 6.5, 3.0, 8.5, 7.0, 7.0, 3.5, 0.0, 3.5, 11.0, 2.5, 1.0, 7.0, 3.5, 2.5, 2.0, 8.0, 6.5, 2.0, 9.0, 5.5, 1.5, 0.0, 6.5, 5.0, 9.0, 2.0, 0.0, 4.0, 6.5, 1.5, 9.5, 7.0, 8.0, 3.5, 11.0, 6.0, 7.0, 6.0, 11.0, 6.5, 10.5, 11.0, 8.5, 0.5, 6.0, 0.0, 0.0, 2.0, 4.5, 5.5, 3.0, 2.0, 8.5, 12.0, 10.5, 6.0, 6.5, 0.0, 7.0, 0.0, 7.0, 6.5, 5.5, 6.0, 14.5, 10.5, 7.0, 10.0, 4.0, 8.0, 13.5, 3.5, 12.5, 8.0, 14.0, 3.0, 10.5, 5.0, 7.0, 15.0, 2.0, 2.0, 7.5, 9.5, 2.5, 15.0, 3.0, 1.5, 1.0, 2.0, 11.0, 9.5, 3.0, 5.0, 9.0, 4.0, 1.5, 11.5, 5.5, 8.5, 0.5, 2.5, 6.5, 5.0, 0.0, 1.5, 1.0, 9.5, 5.5, 7.5, 10.5, 8.0, 1.5, 8.0, 13.5, 7.5, 10.0, 7.0, 3.5, 11.0, 2.0, 0.0, 2.5, 1.5, 12.5, 3.5, 9.5, 1.0, 5.5, 0.0, 14.0, 0.0, 8.5, 12.0, 8.5, 4.5, 11.5, 6.0, 3.0, 6.5, 0.0, 6.5, 1.0, 5.5, 2.0, 11.5, 3.5, 6.0, 1.5, 8.5, 11.0, 14.0, 5.0, 14.0, 0.0, 0.5, 5.5, 4.5, 4.5, 7.5, 5.5, 4.5, 12.5, 1.0, 1.0, 10.0, 8.0, 1.0, 14.5, 6.0, 5.0, 3.0, 8.5, 7.5, 7.0, 11.0, 3.0, 12.5, 6.0, 7.5, 5.5, 5.5, 9.0, 14.5, 8.0, 0.0, 5.0, 5.5, 8.5, 3.5, 1.0, 3.0, 3.0, 9.0, 3.5, 4.0, 6.5, 8.0, 2.5, 0.0, 3.5, 12.5, 9.5, 11.5, 10.5, 5.5, 2.0, 2.0, 5.0, 5.5, 12.5, 2.5, 2.0, 4.0, 4.5, 13.0, 3.0, 12.5, 7.5, 5.5, 13.0, 4.0, 6.5, 3.5, 4.5, 7.0, 12.5, 11.0, 6.0, 8.0, 12.0, 12.0, 0.0, 6.5, 9.0, 8.0, 10.5, 12.5, 9.0, 5.0, 5.5, 8.5, 13.0, 9.0, 0.0, 4.5, 9.5, 3.5, 2.0, 7.5, 12.0, 9.5, 8.0, 11.0, 4.0, 3.5, 4.5, 14.0, 3.0, 6.5, 11.5, 5.5, 7.0, 8.5, 1.5, 8.5, 8.5, 3.0, 10.0, 4.5, 6.0, 7.5, 12.0, 8.0, 10.5, 3.5, 14.5, 1.5, 6.5, 7.5, 9.0, 5.0, 13.5, 13.5]\n",
            "<class 'list'>\n"
          ]
        }
      ],
      "source": [
        "import pandas as pd\n",
        "url  = \"https://drive.google.com/file/d/1tZ00rnowPhsEkaGpf6LYy7d830xqnhim/view?usp=share_link\"\n",
        "url='https://drive.google.com/uc?id=' + url.split('/')[-2]\n",
        "dataset = pd.read_csv(url)\n",
        "#dataset = pd.read_csv(\"https://drive.google.com/file/d/1tZ00rnowPhsEkaGpf6LYy7d830xqnhim/view?usp=share_link\")\n",
        "out = dataset.iloc[:,0]\n",
        "out=out.values.tolist()\n",
        "print(out);\n",
        "print(type(out))"
      ]
    },
    {
      "cell_type": "markdown",
      "metadata": {
        "id": "gJ24HmttP6ph"
      },
      "source": [
        "##Convert User Input to a Number"
      ]
    },
    {
      "cell_type": "code",
      "execution_count": null,
      "metadata": {
        "colab": {
          "base_uri": "https://localhost:8080/"
        },
        "id": "zCooyEmMJv3E",
        "outputId": "a96f4403-b34f-4cc2-9486-2b4d8dcee0cb"
      },
      "outputs": [
        {
          "name": "stdout",
          "output_type": "stream",
          "text": [
            "5\n",
            "5\n"
          ]
        }
      ],
      "source": [
        "s = input();\n",
        "out = int(s);\n",
        "print(out);"
      ]
    },
    {
      "cell_type": "markdown",
      "metadata": {
        "id": "ymLoO9USISZb"
      },
      "source": [
        "##Convert String to Datetime in Python"
      ]
    },
    {
      "cell_type": "code",
      "execution_count": null,
      "metadata": {
        "colab": {
          "base_uri": "https://localhost:8080/"
        },
        "id": "7vc71aiAP-93",
        "outputId": "e9d970ee-8dcf-41b2-b062-fd6921df5a05"
      },
      "outputs": [
        {
          "name": "stdout",
          "output_type": "stream",
          "text": [
            "2023-01-10 16:07:26\n"
          ]
        }
      ],
      "source": [
        "from datetime import datetime\n",
        "\n",
        "s = '01/10/23 16:07:26'\n",
        "\n",
        "out = datetime.strptime(s, '%m/%d/%y %H:%M:%S')\n",
        "\n",
        "\n",
        "print(out) "
      ]
    },
    {
      "cell_type": "markdown",
      "metadata": {
        "id": "zeNOH3gaIYM2"
      },
      "source": [
        "##How to call external commands in Python"
      ]
    },
    {
      "cell_type": "code",
      "execution_count": null,
      "metadata": {
        "colab": {
          "base_uri": "https://localhost:8080/"
        },
        "id": "02XXdIqBQi6T",
        "outputId": "97b4b055-45ce-4c27-aca5-17a373e6a3db"
      },
      "outputs": [
        {
          "output_type": "execute_result",
          "data": {
            "text/plain": [
              "['Sameer', 'Sharma']"
            ]
          },
          "metadata": {},
          "execution_count": 50
        }
      ],
      "source": [
        "# We can run external commands on local machine using os\n",
        "# But on colab we can't do that\n",
        "# we have to use ! sign to do this\n",
        "\n",
        "\n",
        "out=!echo -e 'Sameer\\nSharma'\n",
        "out"
      ]
    },
    {
      "cell_type": "markdown",
      "metadata": {
        "id": "AZ4FYtaBIdlY"
      },
      "source": [
        "##How to count the occurrences of a list item"
      ]
    },
    {
      "cell_type": "code",
      "execution_count": null,
      "metadata": {
        "colab": {
          "base_uri": "https://localhost:8080/"
        },
        "id": "VRpfgkxFStIY",
        "outputId": "31f780d0-7c15-46bc-f08e-2983e6e2d1b2"
      },
      "outputs": [
        {
          "name": "stdout",
          "output_type": "stream",
          "text": [
            "5\n"
          ]
        }
      ],
      "source": [
        "my_list = [1,2,3,4,5,2,3,4,5,3,4,5,4,5,5]\n",
        "count_5 = my_list.count(5)\n",
        "print(count_5)"
      ]
    },
    {
      "cell_type": "markdown",
      "metadata": {
        "id": "PR9F4N9GInWc"
      },
      "source": [
        "##How to flatten lists in Python"
      ]
    },
    {
      "cell_type": "code",
      "execution_count": null,
      "metadata": {
        "colab": {
          "base_uri": "https://localhost:8080/"
        },
        "id": "WSYyr1oITRIg",
        "outputId": "e790fde7-9f0c-4ee1-888e-132a01ef84bc"
      },
      "outputs": [
        {
          "name": "stdout",
          "output_type": "stream",
          "text": [
            "[1, 2, 3, 4, 5, 6]\n"
          ]
        }
      ],
      "source": [
        "import numpy as np\n",
        "my_list = [[1,2,3],[4,5,6]]\n",
        "my_numpy_matrix = np.array(my_list);\n",
        "my_flatten_numpy_matrix = my_numpy_matrix.flatten()\n",
        "my_flatten_list = list(my_flatten_numpy_matrix)\n",
        "print(my_flatten_list)"
      ]
    },
    {
      "cell_type": "markdown",
      "metadata": {
        "id": "4LBghxPlItgD"
      },
      "source": [
        "##How to merge dictionaries in Python"
      ]
    },
    {
      "cell_type": "code",
      "execution_count": null,
      "metadata": {
        "colab": {
          "base_uri": "https://localhost:8080/"
        },
        "id": "9U83KtAeUezp",
        "outputId": "3c9218dc-d411-4a15-fc81-7ae1af75acf6"
      },
      "outputs": [
        {
          "name": "stdout",
          "output_type": "stream",
          "text": [
            "{'andhra pradesh': 'hyderabad', 'uttar pradesh': 'lucknow', 'Rajasthan': 'Jaipur', 'Haryana': 'chandigarh'}\n"
          ]
        }
      ],
      "source": [
        "my_dict_01 = {'Rajasthan':'Jaipur','Haryana':'chandigarh'}\n",
        "my_dict_02 = {'andhra pradesh':'hyderabad','uttar pradesh':'lucknow'}\n",
        "my_dict_02.update(my_dict_01)\n",
        "print(my_dict_02)"
      ]
    },
    {
      "cell_type": "markdown",
      "metadata": {
        "id": "8DnxhWbiIx87"
      },
      "source": [
        "##Remove duplicate items from a list in Python"
      ]
    },
    {
      "cell_type": "code",
      "execution_count": null,
      "metadata": {
        "colab": {
          "base_uri": "https://localhost:8080/"
        },
        "id": "F78w1ahYWxcf",
        "outputId": "f34cddd9-914d-4db0-e6aa-206a526b8138"
      },
      "outputs": [
        {
          "name": "stdout",
          "output_type": "stream",
          "text": [
            "[1, 2, 3, 4, 5]\n"
          ]
        }
      ],
      "source": [
        "my_list = [1,2,3,4,5,2,3,4,5,3,4,5,4,5,5]\n",
        "my_set = set(my_list)\n",
        "print(list(my_set))"
      ]
    },
    {
      "cell_type": "markdown",
      "metadata": {
        "id": "c2PdyKjvI1nj"
      },
      "source": [
        "##Python script to check whether a given key already exists in a dictionary."
      ]
    },
    {
      "cell_type": "code",
      "execution_count": null,
      "metadata": {
        "colab": {
          "base_uri": "https://localhost:8080/"
        },
        "id": "0V1_MIx0Xm6o",
        "outputId": "8c291401-2380-482f-aec2-e3c629e15342"
      },
      "outputs": [
        {
          "name": "stdout",
          "output_type": "stream",
          "text": [
            "dtgdfrew\n",
            "absent\n"
          ]
        }
      ],
      "source": [
        "my_dict = {'Rajasthan':'Jaipur','Haryana':'chandigarh'}\n",
        "to_find_key = input()\n",
        "if(to_find_key in my_dict):{\n",
        "    print(\"Present\")\n",
        "}\n",
        "else:\n",
        "  {\n",
        "    print(\"absent\")\n",
        "}"
      ]
    },
    {
      "cell_type": "markdown",
      "metadata": {
        "id": "L9lMgroYI9BD"
      },
      "source": [
        "#Problem 2\n"
      ]
    },
    {
      "cell_type": "code",
      "execution_count": null,
      "metadata": {
        "colab": {
          "base_uri": "https://localhost:8080/"
        },
        "id": "CNg6_sqaYVrv",
        "outputId": "4d25cd0c-dd31-4597-b68b-49be21a8a2c4"
      },
      "outputs": [
        {
          "output_type": "stream",
          "name": "stdout",
          "text": [
            "displaying first row of first matrix\n",
            "[1 2]\n",
            "displaying second column of second matrix\n",
            "[6 8]\n",
            "displaying matrix multiplication of first and second matrix\n",
            "[[19 22]\n",
            " [43 50]]\n",
            "displaying element wise multiplication of first and second matrix\n",
            "[[ 5 12]\n",
            " [21 32]]\n",
            "displaying dot product of  0 th column of first matrix and  0 th column of second matrix\n",
            "26\n",
            "displaying dot product of  0 th column of first matrix and  1 th column of second matrix\n",
            "30\n",
            "displaying dot product of  1 th column of first matrix and  0 th column of second matrix\n",
            "38\n",
            "displaying dot product of  1 th column of first matrix and  1 th column of second matrix\n",
            "44\n"
          ]
        }
      ],
      "source": [
        "import numpy as np\n",
        "matrix_01 = np.array([[1,2],[3,4]])\n",
        "matrix_02 = np.array([[5,6],[7,8]])\n",
        "\n",
        "# part (a)\n",
        "print(\"displaying first row of first matrix\")\n",
        "print(matrix_01[0,:])\n",
        "\n",
        "#part (b)\n",
        "print(\"displaying second column of second matrix\")\n",
        "print(matrix_02[:,1])\n",
        "\n",
        "#part (c)\n",
        "print(\"displaying matrix multiplication of first and second matrix\")\n",
        "print(matrix_01@matrix_02)\n",
        "\n",
        "#part (d)\n",
        "print(\"displaying element wise multiplication of first and second matrix\")\n",
        "print(np.multiply(matrix_01,matrix_02))\n",
        "\n",
        "#part (e)\n",
        "for i in range(2):\n",
        "  for j in range (2):\n",
        "    print(\"displaying dot product of \",i,\"th column of first matrix and \",j,\"th column of second matrix\")\n",
        "    print(np.dot(matrix_01[:,i],matrix_02[:,j]))"
      ]
    },
    {
      "cell_type": "markdown",
      "metadata": {
        "id": "V3h5pCoWJYzl"
      },
      "source": [
        "#Problem 3"
      ]
    },
    {
      "cell_type": "markdown",
      "source": [
        "##defining type of measurement\n"
      ],
      "metadata": {
        "id": "Ua23lS5iiI9P"
      }
    },
    {
      "cell_type": "code",
      "execution_count": null,
      "metadata": {
        "id": "s2uX9rk0JdWb"
      },
      "outputs": [],
      "source": [
        "# model -> nominal\n",
        "# type -> ordinal\n",
        "# max price -> ratio\n",
        "# airbags -> ordinal"
      ]
    },
    {
      "cell_type": "markdown",
      "source": [
        "##handle missing values"
      ],
      "metadata": {
        "id": "oiyx5wMDioOZ"
      }
    },
    {
      "cell_type": "code",
      "execution_count": null,
      "metadata": {
        "colab": {
          "base_uri": "https://localhost:8080/"
        },
        "id": "tSkQcwrGuKf7",
        "outputId": "ec459e29-76ac-4430-b5f2-37415f048374"
      },
      "outputs": [
        {
          "output_type": "stream",
          "name": "stdout",
          "text": [
            "Manufacturer          0\n",
            "Model                 0\n",
            "Type                  0\n",
            "Min.Price             0\n",
            "Price                 0\n",
            "Max.Price             0\n",
            "MPG.city              0\n",
            "MPG.highway           0\n",
            "AirBags               0\n",
            "DriveTrain            0\n",
            "Cylinders             0\n",
            "EngineSize            0\n",
            "Horsepower            0\n",
            "RPM                   0\n",
            "Rev.per.mile          0\n",
            "Man.trans.avail       0\n",
            "Fuel.tank.capacity    0\n",
            "Passengers            0\n",
            "Length                0\n",
            "Wheelbase             0\n",
            "Width                 0\n",
            "Turn.circle           0\n",
            "Rear.seat.room        0\n",
            "Luggage.room          0\n",
            "Weight                0\n",
            "Origin                0\n",
            "dtype: int64\n",
            "   Manufacturer    Model     Type  Min.Price  Price  Max.Price  MPG.city  \\\n",
            "0         Acura  Integra    Small       12.9   15.9       18.8        25   \n",
            "1         Acura   Legend  Midsize       29.2   33.9       38.7        18   \n",
            "2          Audi       90  Compact       25.9   29.1       32.3        20   \n",
            "3          Audi      100  Midsize       30.8   37.7       44.6        19   \n",
            "4           BMW     535i  Midsize       23.7   30.0       36.2        22   \n",
            "..          ...      ...      ...        ...    ...        ...       ...   \n",
            "88   Volkswagen  Eurovan      Van       16.6   19.7       22.7        17   \n",
            "89   Volkswagen   Passat  Compact       17.6   20.0       22.4        21   \n",
            "90   Volkswagen  Corrado   Sporty       22.9   23.3       23.7        18   \n",
            "91        Volvo      240  Compact       21.8   22.7       23.5        21   \n",
            "92        Volvo      850  Midsize       24.8   26.7       28.5        20   \n",
            "\n",
            "    MPG.highway             AirBags DriveTrain  ... Fuel.tank.capacity  \\\n",
            "0            31                None      Front  ...               13.2   \n",
            "1            25  Driver & Passenger      Front  ...               18.0   \n",
            "2            26         Driver only      Front  ...               16.9   \n",
            "3            26  Driver & Passenger      Front  ...               21.1   \n",
            "4            30         Driver only       Rear  ...               21.1   \n",
            "..          ...                 ...        ...  ...                ...   \n",
            "88           21                None      Front  ...               21.1   \n",
            "89           30                None      Front  ...               18.5   \n",
            "90           25                None      Front  ...               18.5   \n",
            "91           28         Driver only       Rear  ...               15.8   \n",
            "92           28  Driver & Passenger      Front  ...               19.3   \n",
            "\n",
            "    Passengers  Length  Wheelbase  Width Turn.circle  Rear.seat.room  \\\n",
            "0            5     177        102     68          37            26.5   \n",
            "1            5     195        115     71          38            30.0   \n",
            "2            5     180        102     67          37            28.0   \n",
            "3            6     193        106     70          37            31.0   \n",
            "4            4     186        109     69          39            27.0   \n",
            "..         ...     ...        ...    ...         ...             ...   \n",
            "88           7     187        115     72          38            34.0   \n",
            "89           5     180        103     67          35            31.5   \n",
            "90           4     159         97     66          36            26.0   \n",
            "91           5     190        104     67          37            29.5   \n",
            "92           5     184        105     69          38            30.0   \n",
            "\n",
            "    Luggage.room  Weight   Origin  \n",
            "0           11.0    2705  non-USA  \n",
            "1           15.0    3560  non-USA  \n",
            "2           14.0    3375  non-USA  \n",
            "3           17.0    3405  non-USA  \n",
            "4           13.0    3640  non-USA  \n",
            "..           ...     ...      ...  \n",
            "88           0.0    3960  non-USA  \n",
            "89          14.0    2985  non-USA  \n",
            "90          15.0    2810  non-USA  \n",
            "91          14.0    2985  non-USA  \n",
            "92          15.0    3245  non-USA  \n",
            "\n",
            "[93 rows x 26 columns]\n"
          ]
        }
      ],
      "source": [
        "import pandas as pd\n",
        "url  = \"/content/drive/MyDrive/PRML/Lab-01/Copy of Cars93.csv\"\n",
        "dataset = pd.read_csv(url)\n",
        "new_dataset=dataset;\n",
        "for dataheader in dataset.columns:\n",
        "  if(dataset[dataheader].dtype=='O'):\n",
        "      new_dataset[dataheader].fillna('-')\n",
        "  \n",
        "  \n",
        "new_dataset=dataset.fillna(0);\n",
        "print(new_dataset.isnull().sum())\n",
        "print(new_dataset)"
      ]
    },
    {
      "cell_type": "markdown",
      "source": [
        "##encoding the data"
      ],
      "metadata": {
        "id": "k8l4dHf2ivDV"
      }
    },
    {
      "cell_type": "code",
      "source": [
        "#encoding the data\n",
        "from sklearn.preprocessing import LabelEncoder\n",
        "from sklearn.preprocessing import normalize\n",
        "from sklearn.model_selection import train_test_split as tts\n",
        "lab_enc = LabelEncoder()\n",
        "# lab_enc.fit_transform(new_datasetataset['Type']);\n",
        "for dataheaders in ['Type','AirBags','DriveTrain','Origin']:\n",
        "  new_dataset[dataheaders]=lab_enc.fit_transform(new_dataset[dataheaders])\n",
        "print(new_dataset)\n",
        "\n",
        "\n"
      ],
      "metadata": {
        "colab": {
          "base_uri": "https://localhost:8080/"
        },
        "id": "1YKEwqluJ8in",
        "outputId": "b4899589-a45e-4b28-e39b-a3f0ea4d5474"
      },
      "execution_count": null,
      "outputs": [
        {
          "output_type": "stream",
          "name": "stdout",
          "text": [
            "   Manufacturer    Model  Type  Min.Price  Price  Max.Price  MPG.city  \\\n",
            "0         Acura  Integra     3       12.9   15.9       18.8        25   \n",
            "1         Acura   Legend     2       29.2   33.9       38.7        18   \n",
            "2          Audi       90     0       25.9   29.1       32.3        20   \n",
            "3          Audi      100     2       30.8   37.7       44.6        19   \n",
            "4           BMW     535i     2       23.7   30.0       36.2        22   \n",
            "..          ...      ...   ...        ...    ...        ...       ...   \n",
            "88   Volkswagen  Eurovan     5       16.6   19.7       22.7        17   \n",
            "89   Volkswagen   Passat     0       17.6   20.0       22.4        21   \n",
            "90   Volkswagen  Corrado     4       22.9   23.3       23.7        18   \n",
            "91        Volvo      240     0       21.8   22.7       23.5        21   \n",
            "92        Volvo      850     2       24.8   26.7       28.5        20   \n",
            "\n",
            "    MPG.highway  AirBags  DriveTrain  ... Fuel.tank.capacity  Passengers  \\\n",
            "0            31        2           1  ...               13.2           5   \n",
            "1            25        0           1  ...               18.0           5   \n",
            "2            26        1           1  ...               16.9           5   \n",
            "3            26        0           1  ...               21.1           6   \n",
            "4            30        1           2  ...               21.1           4   \n",
            "..          ...      ...         ...  ...                ...         ...   \n",
            "88           21        2           1  ...               21.1           7   \n",
            "89           30        2           1  ...               18.5           5   \n",
            "90           25        2           1  ...               18.5           4   \n",
            "91           28        1           2  ...               15.8           5   \n",
            "92           28        0           1  ...               19.3           5   \n",
            "\n",
            "    Length  Wheelbase  Width Turn.circle  Rear.seat.room  Luggage.room  \\\n",
            "0      177        102     68          37            26.5          11.0   \n",
            "1      195        115     71          38            30.0          15.0   \n",
            "2      180        102     67          37            28.0          14.0   \n",
            "3      193        106     70          37            31.0          17.0   \n",
            "4      186        109     69          39            27.0          13.0   \n",
            "..     ...        ...    ...         ...             ...           ...   \n",
            "88     187        115     72          38            34.0           0.0   \n",
            "89     180        103     67          35            31.5          14.0   \n",
            "90     159         97     66          36            26.0          15.0   \n",
            "91     190        104     67          37            29.5          14.0   \n",
            "92     184        105     69          38            30.0          15.0   \n",
            "\n",
            "    Weight  Origin  \n",
            "0     2705       1  \n",
            "1     3560       1  \n",
            "2     3375       1  \n",
            "3     3405       1  \n",
            "4     3640       1  \n",
            "..     ...     ...  \n",
            "88    3960       1  \n",
            "89    2985       1  \n",
            "90    2810       1  \n",
            "91    2985       1  \n",
            "92    3245       1  \n",
            "\n",
            "[93 rows x 26 columns]\n"
          ]
        }
      ]
    },
    {
      "cell_type": "markdown",
      "source": [
        "##noise reduction"
      ],
      "metadata": {
        "id": "5xjuaI5UAuxZ"
      }
    },
    {
      "cell_type": "code",
      "source": [
        "#reducing noise\n",
        "\n",
        "\n",
        "for dataheader in new_dataset.columns[2:]:\n",
        "  for j in range(new_dataset[dataheader].size):\n",
        "    try:\n",
        "      new_dataset[dataheader][j]=new_dataset[dataheader][j].astype(float)\n",
        "    except:\n",
        "      new_dataset[dataheader][j]=\"0\"\n",
        "new_dataset"
      ],
      "metadata": {
        "colab": {
          "base_uri": "https://localhost:8080/",
          "height": 661
        },
        "id": "zg5_fcFw3q-s",
        "outputId": "9af76670-9bb8-4a3b-a7c9-6fca60364bfb"
      },
      "execution_count": null,
      "outputs": [
        {
          "output_type": "stream",
          "name": "stderr",
          "text": [
            "<ipython-input-133-e7bd788acf03>:7: SettingWithCopyWarning: \n",
            "A value is trying to be set on a copy of a slice from a DataFrame\n",
            "\n",
            "See the caveats in the documentation: https://pandas.pydata.org/pandas-docs/stable/user_guide/indexing.html#returning-a-view-versus-a-copy\n",
            "  new_dataset[dataheader][j]=new_dataset[dataheader][j].astype(float)\n",
            "<ipython-input-133-e7bd788acf03>:9: SettingWithCopyWarning: \n",
            "A value is trying to be set on a copy of a slice from a DataFrame\n",
            "\n",
            "See the caveats in the documentation: https://pandas.pydata.org/pandas-docs/stable/user_guide/indexing.html#returning-a-view-versus-a-copy\n",
            "  new_dataset[dataheader][j]=\"0\"\n"
          ]
        },
        {
          "output_type": "execute_result",
          "data": {
            "text/plain": [
              "   Manufacturer    Model  Type  Min.Price  Price  Max.Price  MPG.city  \\\n",
              "0         Acura  Integra     3       12.9   15.9       18.8        25   \n",
              "1         Acura   Legend     2       29.2   33.9       38.7        18   \n",
              "2          Audi       90     0       25.9   29.1       32.3        20   \n",
              "3          Audi      100     2       30.8   37.7       44.6        19   \n",
              "4           BMW     535i     2       23.7   30.0       36.2        22   \n",
              "..          ...      ...   ...        ...    ...        ...       ...   \n",
              "88   Volkswagen  Eurovan     5       16.6   19.7       22.7        17   \n",
              "89   Volkswagen   Passat     0       17.6   20.0       22.4        21   \n",
              "90   Volkswagen  Corrado     4       22.9   23.3       23.7        18   \n",
              "91        Volvo      240     0       21.8   22.7       23.5        21   \n",
              "92        Volvo      850     2       24.8   26.7       28.5        20   \n",
              "\n",
              "    MPG.highway  AirBags  DriveTrain  ... Fuel.tank.capacity  Passengers  \\\n",
              "0            31        2           1  ...               13.2           5   \n",
              "1            25        0           1  ...               18.0           5   \n",
              "2            26        1           1  ...               16.9           5   \n",
              "3            26        0           1  ...               21.1           6   \n",
              "4            30        1           2  ...               21.1           4   \n",
              "..          ...      ...         ...  ...                ...         ...   \n",
              "88           21        2           1  ...               21.1           7   \n",
              "89           30        2           1  ...               18.5           5   \n",
              "90           25        2           1  ...               18.5           4   \n",
              "91           28        1           2  ...               15.8           5   \n",
              "92           28        0           1  ...               19.3           5   \n",
              "\n",
              "    Length  Wheelbase  Width Turn.circle  Rear.seat.room  Luggage.room  \\\n",
              "0      177        102     68          37            26.5          11.0   \n",
              "1      195        115     71          38            30.0          15.0   \n",
              "2      180        102     67          37            28.0          14.0   \n",
              "3      193        106     70          37            31.0          17.0   \n",
              "4      186        109     69          39            27.0          13.0   \n",
              "..     ...        ...    ...         ...             ...           ...   \n",
              "88     187        115     72          38            34.0           0.0   \n",
              "89     180        103     67          35            31.5          14.0   \n",
              "90     159         97     66          36            26.0          15.0   \n",
              "91     190        104     67          37            29.5          14.0   \n",
              "92     184        105     69          38            30.0          15.0   \n",
              "\n",
              "    Weight  Origin  \n",
              "0     2705       1  \n",
              "1     3560       1  \n",
              "2     3375       1  \n",
              "3     3405       1  \n",
              "4     3640       1  \n",
              "..     ...     ...  \n",
              "88    3960       1  \n",
              "89    2985       1  \n",
              "90    2810       1  \n",
              "91    2985       1  \n",
              "92    3245       1  \n",
              "\n",
              "[93 rows x 26 columns]"
            ],
            "text/html": [
              "\n",
              "  <div id=\"df-bb2c9947-36af-4ccd-9835-b5724a8d0460\">\n",
              "    <div class=\"colab-df-container\">\n",
              "      <div>\n",
              "<style scoped>\n",
              "    .dataframe tbody tr th:only-of-type {\n",
              "        vertical-align: middle;\n",
              "    }\n",
              "\n",
              "    .dataframe tbody tr th {\n",
              "        vertical-align: top;\n",
              "    }\n",
              "\n",
              "    .dataframe thead th {\n",
              "        text-align: right;\n",
              "    }\n",
              "</style>\n",
              "<table border=\"1\" class=\"dataframe\">\n",
              "  <thead>\n",
              "    <tr style=\"text-align: right;\">\n",
              "      <th></th>\n",
              "      <th>Manufacturer</th>\n",
              "      <th>Model</th>\n",
              "      <th>Type</th>\n",
              "      <th>Min.Price</th>\n",
              "      <th>Price</th>\n",
              "      <th>Max.Price</th>\n",
              "      <th>MPG.city</th>\n",
              "      <th>MPG.highway</th>\n",
              "      <th>AirBags</th>\n",
              "      <th>DriveTrain</th>\n",
              "      <th>...</th>\n",
              "      <th>Fuel.tank.capacity</th>\n",
              "      <th>Passengers</th>\n",
              "      <th>Length</th>\n",
              "      <th>Wheelbase</th>\n",
              "      <th>Width</th>\n",
              "      <th>Turn.circle</th>\n",
              "      <th>Rear.seat.room</th>\n",
              "      <th>Luggage.room</th>\n",
              "      <th>Weight</th>\n",
              "      <th>Origin</th>\n",
              "    </tr>\n",
              "  </thead>\n",
              "  <tbody>\n",
              "    <tr>\n",
              "      <th>0</th>\n",
              "      <td>Acura</td>\n",
              "      <td>Integra</td>\n",
              "      <td>3</td>\n",
              "      <td>12.9</td>\n",
              "      <td>15.9</td>\n",
              "      <td>18.8</td>\n",
              "      <td>25</td>\n",
              "      <td>31</td>\n",
              "      <td>2</td>\n",
              "      <td>1</td>\n",
              "      <td>...</td>\n",
              "      <td>13.2</td>\n",
              "      <td>5</td>\n",
              "      <td>177</td>\n",
              "      <td>102</td>\n",
              "      <td>68</td>\n",
              "      <td>37</td>\n",
              "      <td>26.5</td>\n",
              "      <td>11.0</td>\n",
              "      <td>2705</td>\n",
              "      <td>1</td>\n",
              "    </tr>\n",
              "    <tr>\n",
              "      <th>1</th>\n",
              "      <td>Acura</td>\n",
              "      <td>Legend</td>\n",
              "      <td>2</td>\n",
              "      <td>29.2</td>\n",
              "      <td>33.9</td>\n",
              "      <td>38.7</td>\n",
              "      <td>18</td>\n",
              "      <td>25</td>\n",
              "      <td>0</td>\n",
              "      <td>1</td>\n",
              "      <td>...</td>\n",
              "      <td>18.0</td>\n",
              "      <td>5</td>\n",
              "      <td>195</td>\n",
              "      <td>115</td>\n",
              "      <td>71</td>\n",
              "      <td>38</td>\n",
              "      <td>30.0</td>\n",
              "      <td>15.0</td>\n",
              "      <td>3560</td>\n",
              "      <td>1</td>\n",
              "    </tr>\n",
              "    <tr>\n",
              "      <th>2</th>\n",
              "      <td>Audi</td>\n",
              "      <td>90</td>\n",
              "      <td>0</td>\n",
              "      <td>25.9</td>\n",
              "      <td>29.1</td>\n",
              "      <td>32.3</td>\n",
              "      <td>20</td>\n",
              "      <td>26</td>\n",
              "      <td>1</td>\n",
              "      <td>1</td>\n",
              "      <td>...</td>\n",
              "      <td>16.9</td>\n",
              "      <td>5</td>\n",
              "      <td>180</td>\n",
              "      <td>102</td>\n",
              "      <td>67</td>\n",
              "      <td>37</td>\n",
              "      <td>28.0</td>\n",
              "      <td>14.0</td>\n",
              "      <td>3375</td>\n",
              "      <td>1</td>\n",
              "    </tr>\n",
              "    <tr>\n",
              "      <th>3</th>\n",
              "      <td>Audi</td>\n",
              "      <td>100</td>\n",
              "      <td>2</td>\n",
              "      <td>30.8</td>\n",
              "      <td>37.7</td>\n",
              "      <td>44.6</td>\n",
              "      <td>19</td>\n",
              "      <td>26</td>\n",
              "      <td>0</td>\n",
              "      <td>1</td>\n",
              "      <td>...</td>\n",
              "      <td>21.1</td>\n",
              "      <td>6</td>\n",
              "      <td>193</td>\n",
              "      <td>106</td>\n",
              "      <td>70</td>\n",
              "      <td>37</td>\n",
              "      <td>31.0</td>\n",
              "      <td>17.0</td>\n",
              "      <td>3405</td>\n",
              "      <td>1</td>\n",
              "    </tr>\n",
              "    <tr>\n",
              "      <th>4</th>\n",
              "      <td>BMW</td>\n",
              "      <td>535i</td>\n",
              "      <td>2</td>\n",
              "      <td>23.7</td>\n",
              "      <td>30.0</td>\n",
              "      <td>36.2</td>\n",
              "      <td>22</td>\n",
              "      <td>30</td>\n",
              "      <td>1</td>\n",
              "      <td>2</td>\n",
              "      <td>...</td>\n",
              "      <td>21.1</td>\n",
              "      <td>4</td>\n",
              "      <td>186</td>\n",
              "      <td>109</td>\n",
              "      <td>69</td>\n",
              "      <td>39</td>\n",
              "      <td>27.0</td>\n",
              "      <td>13.0</td>\n",
              "      <td>3640</td>\n",
              "      <td>1</td>\n",
              "    </tr>\n",
              "    <tr>\n",
              "      <th>...</th>\n",
              "      <td>...</td>\n",
              "      <td>...</td>\n",
              "      <td>...</td>\n",
              "      <td>...</td>\n",
              "      <td>...</td>\n",
              "      <td>...</td>\n",
              "      <td>...</td>\n",
              "      <td>...</td>\n",
              "      <td>...</td>\n",
              "      <td>...</td>\n",
              "      <td>...</td>\n",
              "      <td>...</td>\n",
              "      <td>...</td>\n",
              "      <td>...</td>\n",
              "      <td>...</td>\n",
              "      <td>...</td>\n",
              "      <td>...</td>\n",
              "      <td>...</td>\n",
              "      <td>...</td>\n",
              "      <td>...</td>\n",
              "      <td>...</td>\n",
              "    </tr>\n",
              "    <tr>\n",
              "      <th>88</th>\n",
              "      <td>Volkswagen</td>\n",
              "      <td>Eurovan</td>\n",
              "      <td>5</td>\n",
              "      <td>16.6</td>\n",
              "      <td>19.7</td>\n",
              "      <td>22.7</td>\n",
              "      <td>17</td>\n",
              "      <td>21</td>\n",
              "      <td>2</td>\n",
              "      <td>1</td>\n",
              "      <td>...</td>\n",
              "      <td>21.1</td>\n",
              "      <td>7</td>\n",
              "      <td>187</td>\n",
              "      <td>115</td>\n",
              "      <td>72</td>\n",
              "      <td>38</td>\n",
              "      <td>34.0</td>\n",
              "      <td>0.0</td>\n",
              "      <td>3960</td>\n",
              "      <td>1</td>\n",
              "    </tr>\n",
              "    <tr>\n",
              "      <th>89</th>\n",
              "      <td>Volkswagen</td>\n",
              "      <td>Passat</td>\n",
              "      <td>0</td>\n",
              "      <td>17.6</td>\n",
              "      <td>20.0</td>\n",
              "      <td>22.4</td>\n",
              "      <td>21</td>\n",
              "      <td>30</td>\n",
              "      <td>2</td>\n",
              "      <td>1</td>\n",
              "      <td>...</td>\n",
              "      <td>18.5</td>\n",
              "      <td>5</td>\n",
              "      <td>180</td>\n",
              "      <td>103</td>\n",
              "      <td>67</td>\n",
              "      <td>35</td>\n",
              "      <td>31.5</td>\n",
              "      <td>14.0</td>\n",
              "      <td>2985</td>\n",
              "      <td>1</td>\n",
              "    </tr>\n",
              "    <tr>\n",
              "      <th>90</th>\n",
              "      <td>Volkswagen</td>\n",
              "      <td>Corrado</td>\n",
              "      <td>4</td>\n",
              "      <td>22.9</td>\n",
              "      <td>23.3</td>\n",
              "      <td>23.7</td>\n",
              "      <td>18</td>\n",
              "      <td>25</td>\n",
              "      <td>2</td>\n",
              "      <td>1</td>\n",
              "      <td>...</td>\n",
              "      <td>18.5</td>\n",
              "      <td>4</td>\n",
              "      <td>159</td>\n",
              "      <td>97</td>\n",
              "      <td>66</td>\n",
              "      <td>36</td>\n",
              "      <td>26.0</td>\n",
              "      <td>15.0</td>\n",
              "      <td>2810</td>\n",
              "      <td>1</td>\n",
              "    </tr>\n",
              "    <tr>\n",
              "      <th>91</th>\n",
              "      <td>Volvo</td>\n",
              "      <td>240</td>\n",
              "      <td>0</td>\n",
              "      <td>21.8</td>\n",
              "      <td>22.7</td>\n",
              "      <td>23.5</td>\n",
              "      <td>21</td>\n",
              "      <td>28</td>\n",
              "      <td>1</td>\n",
              "      <td>2</td>\n",
              "      <td>...</td>\n",
              "      <td>15.8</td>\n",
              "      <td>5</td>\n",
              "      <td>190</td>\n",
              "      <td>104</td>\n",
              "      <td>67</td>\n",
              "      <td>37</td>\n",
              "      <td>29.5</td>\n",
              "      <td>14.0</td>\n",
              "      <td>2985</td>\n",
              "      <td>1</td>\n",
              "    </tr>\n",
              "    <tr>\n",
              "      <th>92</th>\n",
              "      <td>Volvo</td>\n",
              "      <td>850</td>\n",
              "      <td>2</td>\n",
              "      <td>24.8</td>\n",
              "      <td>26.7</td>\n",
              "      <td>28.5</td>\n",
              "      <td>20</td>\n",
              "      <td>28</td>\n",
              "      <td>0</td>\n",
              "      <td>1</td>\n",
              "      <td>...</td>\n",
              "      <td>19.3</td>\n",
              "      <td>5</td>\n",
              "      <td>184</td>\n",
              "      <td>105</td>\n",
              "      <td>69</td>\n",
              "      <td>38</td>\n",
              "      <td>30.0</td>\n",
              "      <td>15.0</td>\n",
              "      <td>3245</td>\n",
              "      <td>1</td>\n",
              "    </tr>\n",
              "  </tbody>\n",
              "</table>\n",
              "<p>93 rows × 26 columns</p>\n",
              "</div>\n",
              "      <button class=\"colab-df-convert\" onclick=\"convertToInteractive('df-bb2c9947-36af-4ccd-9835-b5724a8d0460')\"\n",
              "              title=\"Convert this dataframe to an interactive table.\"\n",
              "              style=\"display:none;\">\n",
              "        \n",
              "  <svg xmlns=\"http://www.w3.org/2000/svg\" height=\"24px\"viewBox=\"0 0 24 24\"\n",
              "       width=\"24px\">\n",
              "    <path d=\"M0 0h24v24H0V0z\" fill=\"none\"/>\n",
              "    <path d=\"M18.56 5.44l.94 2.06.94-2.06 2.06-.94-2.06-.94-.94-2.06-.94 2.06-2.06.94zm-11 1L8.5 8.5l.94-2.06 2.06-.94-2.06-.94L8.5 2.5l-.94 2.06-2.06.94zm10 10l.94 2.06.94-2.06 2.06-.94-2.06-.94-.94-2.06-.94 2.06-2.06.94z\"/><path d=\"M17.41 7.96l-1.37-1.37c-.4-.4-.92-.59-1.43-.59-.52 0-1.04.2-1.43.59L10.3 9.45l-7.72 7.72c-.78.78-.78 2.05 0 2.83L4 21.41c.39.39.9.59 1.41.59.51 0 1.02-.2 1.41-.59l7.78-7.78 2.81-2.81c.8-.78.8-2.07 0-2.86zM5.41 20L4 18.59l7.72-7.72 1.47 1.35L5.41 20z\"/>\n",
              "  </svg>\n",
              "      </button>\n",
              "      \n",
              "  <style>\n",
              "    .colab-df-container {\n",
              "      display:flex;\n",
              "      flex-wrap:wrap;\n",
              "      gap: 12px;\n",
              "    }\n",
              "\n",
              "    .colab-df-convert {\n",
              "      background-color: #E8F0FE;\n",
              "      border: none;\n",
              "      border-radius: 50%;\n",
              "      cursor: pointer;\n",
              "      display: none;\n",
              "      fill: #1967D2;\n",
              "      height: 32px;\n",
              "      padding: 0 0 0 0;\n",
              "      width: 32px;\n",
              "    }\n",
              "\n",
              "    .colab-df-convert:hover {\n",
              "      background-color: #E2EBFA;\n",
              "      box-shadow: 0px 1px 2px rgba(60, 64, 67, 0.3), 0px 1px 3px 1px rgba(60, 64, 67, 0.15);\n",
              "      fill: #174EA6;\n",
              "    }\n",
              "\n",
              "    [theme=dark] .colab-df-convert {\n",
              "      background-color: #3B4455;\n",
              "      fill: #D2E3FC;\n",
              "    }\n",
              "\n",
              "    [theme=dark] .colab-df-convert:hover {\n",
              "      background-color: #434B5C;\n",
              "      box-shadow: 0px 1px 3px 1px rgba(0, 0, 0, 0.15);\n",
              "      filter: drop-shadow(0px 1px 2px rgba(0, 0, 0, 0.3));\n",
              "      fill: #FFFFFF;\n",
              "    }\n",
              "  </style>\n",
              "\n",
              "      <script>\n",
              "        const buttonEl =\n",
              "          document.querySelector('#df-bb2c9947-36af-4ccd-9835-b5724a8d0460 button.colab-df-convert');\n",
              "        buttonEl.style.display =\n",
              "          google.colab.kernel.accessAllowed ? 'block' : 'none';\n",
              "\n",
              "        async function convertToInteractive(key) {\n",
              "          const element = document.querySelector('#df-bb2c9947-36af-4ccd-9835-b5724a8d0460');\n",
              "          const dataTable =\n",
              "            await google.colab.kernel.invokeFunction('convertToInteractive',\n",
              "                                                     [key], {});\n",
              "          if (!dataTable) return;\n",
              "\n",
              "          const docLinkHtml = 'Like what you see? Visit the ' +\n",
              "            '<a target=\"_blank\" href=https://colab.research.google.com/notebooks/data_table.ipynb>data table notebook</a>'\n",
              "            + ' to learn more about interactive tables.';\n",
              "          element.innerHTML = '';\n",
              "          dataTable['output_type'] = 'display_data';\n",
              "          await google.colab.output.renderOutput(dataTable, element);\n",
              "          const docLink = document.createElement('div');\n",
              "          docLink.innerHTML = docLinkHtml;\n",
              "          element.appendChild(docLink);\n",
              "        }\n",
              "      </script>\n",
              "    </div>\n",
              "  </div>\n",
              "  "
            ]
          },
          "metadata": {},
          "execution_count": 133
        }
      ]
    },
    {
      "cell_type": "markdown",
      "source": [
        "##normalize the data\n"
      ],
      "metadata": {
        "id": "WpIYUoPHiy5N"
      }
    },
    {
      "cell_type": "code",
      "source": [
        "#normalize the data\n",
        "for dataheaders in new_dataset.columns[2:]:\n",
        "  new_dataset[dataheaders]=normalize([new_dataset[dataheaders]])[0]\n",
        "print(new_dataset)"
      ],
      "metadata": {
        "colab": {
          "base_uri": "https://localhost:8080/"
        },
        "id": "50c1z15wQ8gF",
        "outputId": "e165a05d-4925-43bf-b914-91601abf8f2a"
      },
      "execution_count": null,
      "outputs": [
        {
          "output_type": "stream",
          "name": "stdout",
          "text": [
            "   Manufacturer    Model      Type  Min.Price     Price  Max.Price  MPG.city  \\\n",
            "0         Acura  Integra  0.110506   0.069640  0.075815   0.079592  0.112451   \n",
            "1         Acura   Legend  0.073671   0.157634  0.161644   0.163840  0.080965   \n",
            "2          Audi       90  0.000000   0.139819  0.138757   0.136745  0.089961   \n",
            "3          Audi      100  0.073671   0.166271  0.179764   0.188819  0.085463   \n",
            "4           BMW     535i  0.073671   0.127943  0.143048   0.153256  0.098957   \n",
            "..          ...      ...       ...        ...       ...        ...       ...   \n",
            "88   Volkswagen  Eurovan  0.184177   0.089614  0.093935   0.096103  0.076466   \n",
            "89   Volkswagen   Passat  0.000000   0.095012  0.095365   0.094833  0.094459   \n",
            "90   Volkswagen  Corrado  0.147342   0.123624  0.111101   0.100336  0.080965   \n",
            "91        Volvo      240  0.000000   0.117686  0.108240   0.099490  0.094459   \n",
            "92        Volvo      850  0.073671   0.133881  0.127313   0.120658  0.089961   \n",
            "\n",
            "    MPG.highway   AirBags  DriveTrain  ...  Fuel.tank.capacity  Passengers  \\\n",
            "0      0.108726  0.149487    0.087370  ...            0.080608     0.09990   \n",
            "1      0.087683  0.000000    0.087370  ...            0.109920     0.09990   \n",
            "2      0.091190  0.074744    0.087370  ...            0.103202     0.09990   \n",
            "3      0.091190  0.000000    0.087370  ...            0.128850     0.11988   \n",
            "4      0.105219  0.074744    0.174741  ...            0.128850     0.07992   \n",
            "..          ...       ...         ...  ...                 ...         ...   \n",
            "88     0.073653  0.149487    0.087370  ...            0.128850     0.13986   \n",
            "89     0.105219  0.149487    0.087370  ...            0.112973     0.09990   \n",
            "90     0.087683  0.149487    0.087370  ...            0.112973     0.07992   \n",
            "91     0.098205  0.074744    0.174741  ...            0.096485     0.09990   \n",
            "92     0.098205  0.000000    0.087370  ...            0.117858     0.09990   \n",
            "\n",
            "      Length  Wheelbase     Width  Turn.circle  Rear.seat.room  Luggage.room  \\\n",
            "0   0.099870   0.101538  0.101489     0.098154        0.099255      0.085508   \n",
            "1   0.110026   0.114479  0.105967     0.100807        0.112364      0.116602   \n",
            "2   0.101563   0.101538  0.099997     0.098154        0.104874      0.108828   \n",
            "3   0.108898   0.105520  0.104474     0.098154        0.116110      0.132149   \n",
            "4   0.104948   0.108506  0.102982     0.103460        0.101128      0.101055   \n",
            "..       ...        ...       ...          ...             ...           ...   \n",
            "88  0.105513   0.114479  0.107459     0.100807        0.127346      0.000000   \n",
            "89  0.101563   0.102533  0.099997     0.092849        0.117983      0.108828   \n",
            "90  0.089714   0.096560  0.098504     0.095501        0.097383      0.116602   \n",
            "91  0.107205   0.103529  0.099997     0.098154        0.110492      0.108828   \n",
            "92  0.103820   0.104524  0.102982     0.100807        0.112364      0.116602   \n",
            "\n",
            "      Weight    Origin  \n",
            "0   0.089661  0.149071  \n",
            "1   0.118001  0.149071  \n",
            "2   0.111869  0.149071  \n",
            "3   0.112863  0.149071  \n",
            "4   0.120652  0.149071  \n",
            "..       ...       ...  \n",
            "88  0.131259  0.149071  \n",
            "89  0.098942  0.149071  \n",
            "90  0.093141  0.149071  \n",
            "91  0.098942  0.149071  \n",
            "92  0.107560  0.149071  \n",
            "\n",
            "[93 rows x 26 columns]\n"
          ]
        }
      ]
    },
    {
      "cell_type": "markdown",
      "source": [
        "##spliting the data"
      ],
      "metadata": {
        "id": "tQpxKNeJi3MW"
      }
    },
    {
      "cell_type": "code",
      "source": [
        "training,temp=tts(new_dataset,test_size=0.3,shuffle=True)\n",
        "validation,test=tts(temp,test_size=1/3,shuffle=True)\n",
        "\n"
      ],
      "metadata": {
        "id": "GxC-q5WAexHc"
      },
      "execution_count": null,
      "outputs": []
    },
    {
      "cell_type": "markdown",
      "metadata": {
        "id": "qwsiWw7Gpk7K"
      },
      "source": [
        "#Problem 4"
      ]
    },
    {
      "cell_type": "code",
      "execution_count": null,
      "metadata": {
        "colab": {
          "base_uri": "https://localhost:8080/",
          "height": 1000
        },
        "id": "abBgKz-_poe5",
        "outputId": "f639f573-3734-4b76-a031-108795a8987c"
      },
      "outputs": [
        {
          "data": {
            "image/png": "[encoded data removed]",
            "text/plain": [
              "<Figure size 432x288 with 1 Axes>"
            ]
          },
          "metadata": {},
          "output_type": "display_data"
        },
        {
          "data": {
            "image/png": "[encoded data removed]",
            "text/plain": [
              "<Figure size 432x288 with 1 Axes>"
            ]
          },
          "metadata": {},
          "output_type": "display_data"
        },
        {
          "data": {
            "image/png": "[encoded data removed]",
            "text/plain": [
              "<Figure size 432x288 with 1 Axes>"
            ]
          },
          "metadata": {},
          "output_type": "display_data"
        },
        {
          "data": {
            "image/png": "[encoded data removed]",
            "text/plain": [
              "<Figure size 432x288 with 1 Axes>"
            ]
          },
          "metadata": {},
          "output_type": "display_data"
        }
      ],
      "source": [
        "from matplotlib import pyplot as plt\n",
        "\n",
        "import numpy as np\n",
        "\n",
        "def y1_x(x):\n",
        "    return 5*x+4\n",
        "\n",
        "def y2_x(x):\n",
        "    return np.log(x)\n",
        "\n",
        "def y3_x(x):\n",
        "    return x*x\n",
        "\n",
        "\n",
        "x=np.linspace(-10,10,100);\n",
        "plt.plot(x,y1_x(x));\n",
        "plt.show()\n",
        "\n",
        "x=np.linspace(10,100,100)\n",
        "plt.plot(x,y2_x(x));\n",
        "plt.show()\n",
        "\n",
        "x=np.linspace(-10,10,100)\n",
        "plt.plot(x,y3_x(x))\n",
        "plt.show()\n",
        "\n",
        "x=np.array([0,1,2,3,4])\n",
        "y4_x=np.array([2,3,4,5,6])\n",
        "plt.scatter(x,y4_x)\n",
        "plt.show()"
      ]
    },
    {
      "cell_type": "markdown",
      "metadata": {
        "id": "8NW4oo1j7oES"
      },
      "source": [
        "#Problem 5"
      ]
    },
    {
      "cell_type": "markdown",
      "metadata": {
        "id": "yfz9jnM4xClx"
      },
      "source": [
        "## Import the Necessary Python Libraries and Components"
      ]
    },
    {
      "cell_type": "code",
      "execution_count": null,
      "metadata": {
        "id": "20q-V4-qwhNN"
      },
      "outputs": [],
      "source": [
        "import pandas as pd\n",
        "import numpy as np\n",
        "from sklearn.model_selection import train_test_split as tts\n",
        "from sklearn.linear_model import LogisticRegression as LR\n",
        "from sklearn.tree import DecisionTreeClassifier as DTC\n",
        "from sklearn.metrics import confusion_matrix as cm\n",
        "from sklearn.metrics import precision_score as ps\n",
        "from sklearn.metrics import recall_score as rs\n",
        "from sklearn.metrics import f1_score as f1s\n",
        "from sklearn.metrics import accuracy_score as acc"
      ]
    },
    {
      "cell_type": "markdown",
      "metadata": {
        "id": "NBAaHdKV5NcA"
      },
      "source": [
        "## To Disable Convergence Warnings (For Custom Training)"
      ]
    },
    {
      "cell_type": "code",
      "execution_count": null,
      "metadata": {
        "id": "JoObP-Hr5HQ0"
      },
      "outputs": [],
      "source": [
        "from warnings import simplefilter\n",
        "from sklearn.exceptions import ConvergenceWarning\n",
        "simplefilter(\"ignore\", category=ConvergenceWarning)"
      ]
    },
    {
      "cell_type": "markdown",
      "metadata": {
        "id": "0k9KnDIDxT40"
      },
      "source": [
        "##1.) Input the Dataset"
      ]
    },
    {
      "cell_type": "code",
      "execution_count": null,
      "metadata": {
        "colab": {
          "base_uri": "https://localhost:8080/",
          "height": 505
        },
        "id": "5Pu5cptXxT-4",
        "outputId": "b30fffc9-da39-4ae4-c55d-775515009afd"
      },
      "outputs": [
        {
          "output_type": "execute_result",
          "data": {
            "text/plain": [
              "           id diagnosis  radius_mean  texture_mean  perimeter_mean  area_mean  \\\n",
              "0      842302         M        17.99         10.38          122.80     1001.0   \n",
              "1      842517         M        20.57         17.77          132.90     1326.0   \n",
              "2    84300903         M        19.69         21.25          130.00     1203.0   \n",
              "3    84348301         M        11.42         20.38           77.58      386.1   \n",
              "4    84358402         M        20.29         14.34          135.10     1297.0   \n",
              "..        ...       ...          ...           ...             ...        ...   \n",
              "564    926424         M        21.56         22.39          142.00     1479.0   \n",
              "565    926682         M        20.13         28.25          131.20     1261.0   \n",
              "566    926954         M        16.60         28.08          108.30      858.1   \n",
              "567    927241         M        20.60         29.33          140.10     1265.0   \n",
              "568     92751         B         7.76         24.54           47.92      181.0   \n",
              "\n",
              "     smoothness_mean  compactness_mean  concavity_mean  concave points_mean  \\\n",
              "0            0.11840           0.27760         0.30010              0.14710   \n",
              "1            0.08474           0.07864         0.08690              0.07017   \n",
              "2            0.10960           0.15990         0.19740              0.12790   \n",
              "3            0.14250           0.28390         0.24140              0.10520   \n",
              "4            0.10030           0.13280         0.19800              0.10430   \n",
              "..               ...               ...             ...                  ...   \n",
              "564          0.11100           0.11590         0.24390              0.13890   \n",
              "565          0.09780           0.10340         0.14400              0.09791   \n",
              "566          0.08455           0.10230         0.09251              0.05302   \n",
              "567          0.11780           0.27700         0.35140              0.15200   \n",
              "568          0.05263           0.04362         0.00000              0.00000   \n",
              "\n",
              "     ...  texture_worst  perimeter_worst  area_worst  smoothness_worst  \\\n",
              "0    ...          17.33           184.60      2019.0           0.16220   \n",
              "1    ...          23.41           158.80      1956.0           0.12380   \n",
              "2    ...          25.53           152.50      1709.0           0.14440   \n",
              "3    ...          26.50            98.87       567.7           0.20980   \n",
              "4    ...          16.67           152.20      1575.0           0.13740   \n",
              "..   ...            ...              ...         ...               ...   \n",
              "564  ...          26.40           166.10      2027.0           0.14100   \n",
              "565  ...          38.25           155.00      1731.0           0.11660   \n",
              "566  ...          34.12           126.70      1124.0           0.11390   \n",
              "567  ...          39.42           184.60      1821.0           0.16500   \n",
              "568  ...          30.37            59.16       268.6           0.08996   \n",
              "\n",
              "     compactness_worst  concavity_worst  concave points_worst  symmetry_worst  \\\n",
              "0              0.66560           0.7119                0.2654          0.4601   \n",
              "1              0.18660           0.2416                0.1860          0.2750   \n",
              "2              0.42450           0.4504                0.2430          0.3613   \n",
              "3              0.86630           0.6869                0.2575          0.6638   \n",
              "4              0.20500           0.4000                0.1625          0.2364   \n",
              "..                 ...              ...                   ...             ...   \n",
              "564            0.21130           0.4107                0.2216          0.2060   \n",
              "565            0.19220           0.3215                0.1628          0.2572   \n",
              "566            0.30940           0.3403                0.1418          0.2218   \n",
              "567            0.86810           0.9387                0.2650          0.4087   \n",
              "568            0.06444           0.0000                0.0000          0.2871   \n",
              "\n",
              "     fractal_dimension_worst  Unnamed: 32  \n",
              "0                    0.11890          NaN  \n",
              "1                    0.08902          NaN  \n",
              "2                    0.08758          NaN  \n",
              "3                    0.17300          NaN  \n",
              "4                    0.07678          NaN  \n",
              "..                       ...          ...  \n",
              "564                  0.07115          NaN  \n",
              "565                  0.06637          NaN  \n",
              "566                  0.07820          NaN  \n",
              "567                  0.12400          NaN  \n",
              "568                  0.07039          NaN  \n",
              "\n",
              "[569 rows x 33 columns]"
            ],
            "text/html": [
              "\n",
              "  <div id=\"df-0b23e294-5492-402f-a67f-a06939841f07\">\n",
              "    <div class=\"colab-df-container\">\n",
              "      <div>\n",
              "<style scoped>\n",
              "    .dataframe tbody tr th:only-of-type {\n",
              "        vertical-align: middle;\n",
              "    }\n",
              "\n",
              "    .dataframe tbody tr th {\n",
              "        vertical-align: top;\n",
              "    }\n",
              "\n",
              "    .dataframe thead th {\n",
              "        text-align: right;\n",
              "    }\n",
              "</style>\n",
              "<table border=\"1\" class=\"dataframe\">\n",
              "  <thead>\n",
              "    <tr style=\"text-align: right;\">\n",
              "      <th></th>\n",
              "      <th>id</th>\n",
              "      <th>diagnosis</th>\n",
              "      <th>radius_mean</th>\n",
              "      <th>texture_mean</th>\n",
              "      <th>perimeter_mean</th>\n",
              "      <th>area_mean</th>\n",
              "      <th>smoothness_mean</th>\n",
              "      <th>compactness_mean</th>\n",
              "      <th>concavity_mean</th>\n",
              "      <th>concave points_mean</th>\n",
              "      <th>...</th>\n",
              "      <th>texture_worst</th>\n",
              "      <th>perimeter_worst</th>\n",
              "      <th>area_worst</th>\n",
              "      <th>smoothness_worst</th>\n",
              "      <th>compactness_worst</th>\n",
              "      <th>concavity_worst</th>\n",
              "      <th>concave points_worst</th>\n",
              "      <th>symmetry_worst</th>\n",
              "      <th>fractal_dimension_worst</th>\n",
              "      <th>Unnamed: 32</th>\n",
              "    </tr>\n",
              "  </thead>\n",
              "  <tbody>\n",
              "    <tr>\n",
              "      <th>0</th>\n",
              "      <td>842302</td>\n",
              "      <td>M</td>\n",
              "      <td>17.99</td>\n",
              "      <td>10.38</td>\n",
              "      <td>122.80</td>\n",
              "      <td>1001.0</td>\n",
              "      <td>0.11840</td>\n",
              "      <td>0.27760</td>\n",
              "      <td>0.30010</td>\n",
              "      <td>0.14710</td>\n",
              "      <td>...</td>\n",
              "      <td>17.33</td>\n",
              "      <td>184.60</td>\n",
              "      <td>2019.0</td>\n",
              "      <td>0.16220</td>\n",
              "      <td>0.66560</td>\n",
              "      <td>0.7119</td>\n",
              "      <td>0.2654</td>\n",
              "      <td>0.4601</td>\n",
              "      <td>0.11890</td>\n",
              "      <td>NaN</td>\n",
              "    </tr>\n",
              "    <tr>\n",
              "      <th>1</th>\n",
              "      <td>842517</td>\n",
              "      <td>M</td>\n",
              "      <td>20.57</td>\n",
              "      <td>17.77</td>\n",
              "      <td>132.90</td>\n",
              "      <td>1326.0</td>\n",
              "      <td>0.08474</td>\n",
              "      <td>0.07864</td>\n",
              "      <td>0.08690</td>\n",
              "      <td>0.07017</td>\n",
              "      <td>...</td>\n",
              "      <td>23.41</td>\n",
              "      <td>158.80</td>\n",
              "      <td>1956.0</td>\n",
              "      <td>0.12380</td>\n",
              "      <td>0.18660</td>\n",
              "      <td>0.2416</td>\n",
              "      <td>0.1860</td>\n",
              "      <td>0.2750</td>\n",
              "      <td>0.08902</td>\n",
              "      <td>NaN</td>\n",
              "    </tr>\n",
              "    <tr>\n",
              "      <th>2</th>\n",
              "      <td>84300903</td>\n",
              "      <td>M</td>\n",
              "      <td>19.69</td>\n",
              "      <td>21.25</td>\n",
              "      <td>130.00</td>\n",
              "      <td>1203.0</td>\n",
              "      <td>0.10960</td>\n",
              "      <td>0.15990</td>\n",
              "      <td>0.19740</td>\n",
              "      <td>0.12790</td>\n",
              "      <td>...</td>\n",
              "      <td>25.53</td>\n",
              "      <td>152.50</td>\n",
              "      <td>1709.0</td>\n",
              "      <td>0.14440</td>\n",
              "      <td>0.42450</td>\n",
              "      <td>0.4504</td>\n",
              "      <td>0.2430</td>\n",
              "      <td>0.3613</td>\n",
              "      <td>0.08758</td>\n",
              "      <td>NaN</td>\n",
              "    </tr>\n",
              "    <tr>\n",
              "      <th>3</th>\n",
              "      <td>84348301</td>\n",
              "      <td>M</td>\n",
              "      <td>11.42</td>\n",
              "      <td>20.38</td>\n",
              "      <td>77.58</td>\n",
              "      <td>386.1</td>\n",
              "      <td>0.14250</td>\n",
              "      <td>0.28390</td>\n",
              "      <td>0.24140</td>\n",
              "      <td>0.10520</td>\n",
              "      <td>...</td>\n",
              "      <td>26.50</td>\n",
              "      <td>98.87</td>\n",
              "      <td>567.7</td>\n",
              "      <td>0.20980</td>\n",
              "      <td>0.86630</td>\n",
              "      <td>0.6869</td>\n",
              "      <td>0.2575</td>\n",
              "      <td>0.6638</td>\n",
              "      <td>0.17300</td>\n",
              "      <td>NaN</td>\n",
              "    </tr>\n",
              "    <tr>\n",
              "      <th>4</th>\n",
              "      <td>84358402</td>\n",
              "      <td>M</td>\n",
              "      <td>20.29</td>\n",
              "      <td>14.34</td>\n",
              "      <td>135.10</td>\n",
              "      <td>1297.0</td>\n",
              "      <td>0.10030</td>\n",
              "      <td>0.13280</td>\n",
              "      <td>0.19800</td>\n",
              "      <td>0.10430</td>\n",
              "      <td>...</td>\n",
              "      <td>16.67</td>\n",
              "      <td>152.20</td>\n",
              "      <td>1575.0</td>\n",
              "      <td>0.13740</td>\n",
              "      <td>0.20500</td>\n",
              "      <td>0.4000</td>\n",
              "      <td>0.1625</td>\n",
              "      <td>0.2364</td>\n",
              "      <td>0.07678</td>\n",
              "      <td>NaN</td>\n",
              "    </tr>\n",
              "    <tr>\n",
              "      <th>...</th>\n",
              "      <td>...</td>\n",
              "      <td>...</td>\n",
              "      <td>...</td>\n",
              "      <td>...</td>\n",
              "      <td>...</td>\n",
              "      <td>...</td>\n",
              "      <td>...</td>\n",
              "      <td>...</td>\n",
              "      <td>...</td>\n",
              "      <td>...</td>\n",
              "      <td>...</td>\n",
              "      <td>...</td>\n",
              "      <td>...</td>\n",
              "      <td>...</td>\n",
              "      <td>...</td>\n",
              "      <td>...</td>\n",
              "      <td>...</td>\n",
              "      <td>...</td>\n",
              "      <td>...</td>\n",
              "      <td>...</td>\n",
              "      <td>...</td>\n",
              "    </tr>\n",
              "    <tr>\n",
              "      <th>564</th>\n",
              "      <td>926424</td>\n",
              "      <td>M</td>\n",
              "      <td>21.56</td>\n",
              "      <td>22.39</td>\n",
              "      <td>142.00</td>\n",
              "      <td>1479.0</td>\n",
              "      <td>0.11100</td>\n",
              "      <td>0.11590</td>\n",
              "      <td>0.24390</td>\n",
              "      <td>0.13890</td>\n",
              "      <td>...</td>\n",
              "      <td>26.40</td>\n",
              "      <td>166.10</td>\n",
              "      <td>2027.0</td>\n",
              "      <td>0.14100</td>\n",
              "      <td>0.21130</td>\n",
              "      <td>0.4107</td>\n",
              "      <td>0.2216</td>\n",
              "      <td>0.2060</td>\n",
              "      <td>0.07115</td>\n",
              "      <td>NaN</td>\n",
              "    </tr>\n",
              "    <tr>\n",
              "      <th>565</th>\n",
              "      <td>926682</td>\n",
              "      <td>M</td>\n",
              "      <td>20.13</td>\n",
              "      <td>28.25</td>\n",
              "      <td>131.20</td>\n",
              "      <td>1261.0</td>\n",
              "      <td>0.09780</td>\n",
              "      <td>0.10340</td>\n",
              "      <td>0.14400</td>\n",
              "      <td>0.09791</td>\n",
              "      <td>...</td>\n",
              "      <td>38.25</td>\n",
              "      <td>155.00</td>\n",
              "      <td>1731.0</td>\n",
              "      <td>0.11660</td>\n",
              "      <td>0.19220</td>\n",
              "      <td>0.3215</td>\n",
              "      <td>0.1628</td>\n",
              "      <td>0.2572</td>\n",
              "      <td>0.06637</td>\n",
              "      <td>NaN</td>\n",
              "    </tr>\n",
              "    <tr>\n",
              "      <th>566</th>\n",
              "      <td>926954</td>\n",
              "      <td>M</td>\n",
              "      <td>16.60</td>\n",
              "      <td>28.08</td>\n",
              "      <td>108.30</td>\n",
              "      <td>858.1</td>\n",
              "      <td>0.08455</td>\n",
              "      <td>0.10230</td>\n",
              "      <td>0.09251</td>\n",
              "      <td>0.05302</td>\n",
              "      <td>...</td>\n",
              "      <td>34.12</td>\n",
              "      <td>126.70</td>\n",
              "      <td>1124.0</td>\n",
              "      <td>0.11390</td>\n",
              "      <td>0.30940</td>\n",
              "      <td>0.3403</td>\n",
              "      <td>0.1418</td>\n",
              "      <td>0.2218</td>\n",
              "      <td>0.07820</td>\n",
              "      <td>NaN</td>\n",
              "    </tr>\n",
              "    <tr>\n",
              "      <th>567</th>\n",
              "      <td>927241</td>\n",
              "      <td>M</td>\n",
              "      <td>20.60</td>\n",
              "      <td>29.33</td>\n",
              "      <td>140.10</td>\n",
              "      <td>1265.0</td>\n",
              "      <td>0.11780</td>\n",
              "      <td>0.27700</td>\n",
              "      <td>0.35140</td>\n",
              "      <td>0.15200</td>\n",
              "      <td>...</td>\n",
              "      <td>39.42</td>\n",
              "      <td>184.60</td>\n",
              "      <td>1821.0</td>\n",
              "      <td>0.16500</td>\n",
              "      <td>0.86810</td>\n",
              "      <td>0.9387</td>\n",
              "      <td>0.2650</td>\n",
              "      <td>0.4087</td>\n",
              "      <td>0.12400</td>\n",
              "      <td>NaN</td>\n",
              "    </tr>\n",
              "    <tr>\n",
              "      <th>568</th>\n",
              "      <td>92751</td>\n",
              "      <td>B</td>\n",
              "      <td>7.76</td>\n",
              "      <td>24.54</td>\n",
              "      <td>47.92</td>\n",
              "      <td>181.0</td>\n",
              "      <td>0.05263</td>\n",
              "      <td>0.04362</td>\n",
              "      <td>0.00000</td>\n",
              "      <td>0.00000</td>\n",
              "      <td>...</td>\n",
              "      <td>30.37</td>\n",
              "      <td>59.16</td>\n",
              "      <td>268.6</td>\n",
              "      <td>0.08996</td>\n",
              "      <td>0.06444</td>\n",
              "      <td>0.0000</td>\n",
              "      <td>0.0000</td>\n",
              "      <td>0.2871</td>\n",
              "      <td>0.07039</td>\n",
              "      <td>NaN</td>\n",
              "    </tr>\n",
              "  </tbody>\n",
              "</table>\n",
              "<p>569 rows × 33 columns</p>\n",
              "</div>\n",
              "      <button class=\"colab-df-convert\" onclick=\"convertToInteractive('df-0b23e294-5492-402f-a67f-a06939841f07')\"\n",
              "              title=\"Convert this dataframe to an interactive table.\"\n",
              "              style=\"display:none;\">\n",
              "        \n",
              "  <svg xmlns=\"http://www.w3.org/2000/svg\" height=\"24px\"viewBox=\"0 0 24 24\"\n",
              "       width=\"24px\">\n",
              "    <path d=\"M0 0h24v24H0V0z\" fill=\"none\"/>\n",
              "    <path d=\"M18.56 5.44l.94 2.06.94-2.06 2.06-.94-2.06-.94-.94-2.06-.94 2.06-2.06.94zm-11 1L8.5 8.5l.94-2.06 2.06-.94-2.06-.94L8.5 2.5l-.94 2.06-2.06.94zm10 10l.94 2.06.94-2.06 2.06-.94-2.06-.94-.94-2.06-.94 2.06-2.06.94z\"/><path d=\"M17.41 7.96l-1.37-1.37c-.4-.4-.92-.59-1.43-.59-.52 0-1.04.2-1.43.59L10.3 9.45l-7.72 7.72c-.78.78-.78 2.05 0 2.83L4 21.41c.39.39.9.59 1.41.59.51 0 1.02-.2 1.41-.59l7.78-7.78 2.81-2.81c.8-.78.8-2.07 0-2.86zM5.41 20L4 18.59l7.72-7.72 1.47 1.35L5.41 20z\"/>\n",
              "  </svg>\n",
              "      </button>\n",
              "      \n",
              "  <style>\n",
              "    .colab-df-container {\n",
              "      display:flex;\n",
              "      flex-wrap:wrap;\n",
              "      gap: 12px;\n",
              "    }\n",
              "\n",
              "    .colab-df-convert {\n",
              "      background-color: #E8F0FE;\n",
              "      border: none;\n",
              "      border-radius: 50%;\n",
              "      cursor: pointer;\n",
              "      display: none;\n",
              "      fill: #1967D2;\n",
              "      height: 32px;\n",
              "      padding: 0 0 0 0;\n",
              "      width: 32px;\n",
              "    }\n",
              "\n",
              "    .colab-df-convert:hover {\n",
              "      background-color: #E2EBFA;\n",
              "      box-shadow: 0px 1px 2px rgba(60, 64, 67, 0.3), 0px 1px 3px 1px rgba(60, 64, 67, 0.15);\n",
              "      fill: #174EA6;\n",
              "    }\n",
              "\n",
              "    [theme=dark] .colab-df-convert {\n",
              "      background-color: #3B4455;\n",
              "      fill: #D2E3FC;\n",
              "    }\n",
              "\n",
              "    [theme=dark] .colab-df-convert:hover {\n",
              "      background-color: #434B5C;\n",
              "      box-shadow: 0px 1px 3px 1px rgba(0, 0, 0, 0.15);\n",
              "      filter: drop-shadow(0px 1px 2px rgba(0, 0, 0, 0.3));\n",
              "      fill: #FFFFFF;\n",
              "    }\n",
              "  </style>\n",
              "\n",
              "      <script>\n",
              "        const buttonEl =\n",
              "          document.querySelector('#df-0b23e294-5492-402f-a67f-a06939841f07 button.colab-df-convert');\n",
              "        buttonEl.style.display =\n",
              "          google.colab.kernel.accessAllowed ? 'block' : 'none';\n",
              "\n",
              "        async function convertToInteractive(key) {\n",
              "          const element = document.querySelector('#df-0b23e294-5492-402f-a67f-a06939841f07');\n",
              "          const dataTable =\n",
              "            await google.colab.kernel.invokeFunction('convertToInteractive',\n",
              "                                                     [key], {});\n",
              "          if (!dataTable) return;\n",
              "\n",
              "          const docLinkHtml = 'Like what you see? Visit the ' +\n",
              "            '<a target=\"_blank\" href=https://colab.research.google.com/notebooks/data_table.ipynb>data table notebook</a>'\n",
              "            + ' to learn more about interactive tables.';\n",
              "          element.innerHTML = '';\n",
              "          dataTable['output_type'] = 'display_data';\n",
              "          await google.colab.output.renderOutput(dataTable, element);\n",
              "          const docLink = document.createElement('div');\n",
              "          docLink.innerHTML = docLinkHtml;\n",
              "          element.appendChild(docLink);\n",
              "        }\n",
              "      </script>\n",
              "    </div>\n",
              "  </div>\n",
              "  "
            ]
          },
          "metadata": {},
          "execution_count": 7
        }
      ],
      "source": [
        "# Dataset Reference :- https://www.kaggle.com/uciml/breast-cancer-wisconsin-data\n",
        "\n",
        "data = pd.read_csv(\"/content/drive/MyDrive/PRML/Lab-01/data.csv\")\n",
        "data"
      ]
    },
    {
      "cell_type": "markdown",
      "metadata": {
        "id": "MjtAg94u0KQq"
      },
      "source": [
        "## 2.) Convert the String Labels into easily-interpretable Numerics"
      ]
    },
    {
      "cell_type": "code",
      "execution_count": null,
      "metadata": {
        "colab": {
          "base_uri": "https://localhost:8080/",
          "height": 505
        },
        "id": "vs5EUPrCx6yb",
        "outputId": "73b4e87e-e8ee-4081-d586-ab0af647f3e0"
      },
      "outputs": [
        {
          "output_type": "execute_result",
          "data": {
            "text/plain": [
              "           id diagnosis  radius_mean  texture_mean  perimeter_mean  area_mean  \\\n",
              "0      842302         0        17.99         10.38          122.80     1001.0   \n",
              "1      842517         0        20.57         17.77          132.90     1326.0   \n",
              "2    84300903         0        19.69         21.25          130.00     1203.0   \n",
              "3    84348301         0        11.42         20.38           77.58      386.1   \n",
              "4    84358402         0        20.29         14.34          135.10     1297.0   \n",
              "..        ...       ...          ...           ...             ...        ...   \n",
              "564    926424         0        21.56         22.39          142.00     1479.0   \n",
              "565    926682         0        20.13         28.25          131.20     1261.0   \n",
              "566    926954         0        16.60         28.08          108.30      858.1   \n",
              "567    927241         0        20.60         29.33          140.10     1265.0   \n",
              "568     92751         1         7.76         24.54           47.92      181.0   \n",
              "\n",
              "     smoothness_mean  compactness_mean  concavity_mean  concave points_mean  \\\n",
              "0            0.11840           0.27760         0.30010              0.14710   \n",
              "1            0.08474           0.07864         0.08690              0.07017   \n",
              "2            0.10960           0.15990         0.19740              0.12790   \n",
              "3            0.14250           0.28390         0.24140              0.10520   \n",
              "4            0.10030           0.13280         0.19800              0.10430   \n",
              "..               ...               ...             ...                  ...   \n",
              "564          0.11100           0.11590         0.24390              0.13890   \n",
              "565          0.09780           0.10340         0.14400              0.09791   \n",
              "566          0.08455           0.10230         0.09251              0.05302   \n",
              "567          0.11780           0.27700         0.35140              0.15200   \n",
              "568          0.05263           0.04362         0.00000              0.00000   \n",
              "\n",
              "     ...  texture_worst  perimeter_worst  area_worst  smoothness_worst  \\\n",
              "0    ...          17.33           184.60      2019.0           0.16220   \n",
              "1    ...          23.41           158.80      1956.0           0.12380   \n",
              "2    ...          25.53           152.50      1709.0           0.14440   \n",
              "3    ...          26.50            98.87       567.7           0.20980   \n",
              "4    ...          16.67           152.20      1575.0           0.13740   \n",
              "..   ...            ...              ...         ...               ...   \n",
              "564  ...          26.40           166.10      2027.0           0.14100   \n",
              "565  ...          38.25           155.00      1731.0           0.11660   \n",
              "566  ...          34.12           126.70      1124.0           0.11390   \n",
              "567  ...          39.42           184.60      1821.0           0.16500   \n",
              "568  ...          30.37            59.16       268.6           0.08996   \n",
              "\n",
              "     compactness_worst  concavity_worst  concave points_worst  symmetry_worst  \\\n",
              "0              0.66560           0.7119                0.2654          0.4601   \n",
              "1              0.18660           0.2416                0.1860          0.2750   \n",
              "2              0.42450           0.4504                0.2430          0.3613   \n",
              "3              0.86630           0.6869                0.2575          0.6638   \n",
              "4              0.20500           0.4000                0.1625          0.2364   \n",
              "..                 ...              ...                   ...             ...   \n",
              "564            0.21130           0.4107                0.2216          0.2060   \n",
              "565            0.19220           0.3215                0.1628          0.2572   \n",
              "566            0.30940           0.3403                0.1418          0.2218   \n",
              "567            0.86810           0.9387                0.2650          0.4087   \n",
              "568            0.06444           0.0000                0.0000          0.2871   \n",
              "\n",
              "     fractal_dimension_worst  Unnamed: 32  \n",
              "0                    0.11890          NaN  \n",
              "1                    0.08902          NaN  \n",
              "2                    0.08758          NaN  \n",
              "3                    0.17300          NaN  \n",
              "4                    0.07678          NaN  \n",
              "..                       ...          ...  \n",
              "564                  0.07115          NaN  \n",
              "565                  0.06637          NaN  \n",
              "566                  0.07820          NaN  \n",
              "567                  0.12400          NaN  \n",
              "568                  0.07039          NaN  \n",
              "\n",
              "[569 rows x 33 columns]"
            ],
            "text/html": [
              "\n",
              "  <div id=\"df-d469be15-bd6a-454b-a62c-de660fb02d8c\">\n",
              "    <div class=\"colab-df-container\">\n",
              "      <div>\n",
              "<style scoped>\n",
              "    .dataframe tbody tr th:only-of-type {\n",
              "        vertical-align: middle;\n",
              "    }\n",
              "\n",
              "    .dataframe tbody tr th {\n",
              "        vertical-align: top;\n",
              "    }\n",
              "\n",
              "    .dataframe thead th {\n",
              "        text-align: right;\n",
              "    }\n",
              "</style>\n",
              "<table border=\"1\" class=\"dataframe\">\n",
              "  <thead>\n",
              "    <tr style=\"text-align: right;\">\n",
              "      <th></th>\n",
              "      <th>id</th>\n",
              "      <th>diagnosis</th>\n",
              "      <th>radius_mean</th>\n",
              "      <th>texture_mean</th>\n",
              "      <th>perimeter_mean</th>\n",
              "      <th>area_mean</th>\n",
              "      <th>smoothness_mean</th>\n",
              "      <th>compactness_mean</th>\n",
              "      <th>concavity_mean</th>\n",
              "      <th>concave points_mean</th>\n",
              "      <th>...</th>\n",
              "      <th>texture_worst</th>\n",
              "      <th>perimeter_worst</th>\n",
              "      <th>area_worst</th>\n",
              "      <th>smoothness_worst</th>\n",
              "      <th>compactness_worst</th>\n",
              "      <th>concavity_worst</th>\n",
              "      <th>concave points_worst</th>\n",
              "      <th>symmetry_worst</th>\n",
              "      <th>fractal_dimension_worst</th>\n",
              "      <th>Unnamed: 32</th>\n",
              "    </tr>\n",
              "  </thead>\n",
              "  <tbody>\n",
              "    <tr>\n",
              "      <th>0</th>\n",
              "      <td>842302</td>\n",
              "      <td>0</td>\n",
              "      <td>17.99</td>\n",
              "      <td>10.38</td>\n",
              "      <td>122.80</td>\n",
              "      <td>1001.0</td>\n",
              "      <td>0.11840</td>\n",
              "      <td>0.27760</td>\n",
              "      <td>0.30010</td>\n",
              "      <td>0.14710</td>\n",
              "      <td>...</td>\n",
              "      <td>17.33</td>\n",
              "      <td>184.60</td>\n",
              "      <td>2019.0</td>\n",
              "      <td>0.16220</td>\n",
              "      <td>0.66560</td>\n",
              "      <td>0.7119</td>\n",
              "      <td>0.2654</td>\n",
              "      <td>0.4601</td>\n",
              "      <td>0.11890</td>\n",
              "      <td>NaN</td>\n",
              "    </tr>\n",
              "    <tr>\n",
              "      <th>1</th>\n",
              "      <td>842517</td>\n",
              "      <td>0</td>\n",
              "      <td>20.57</td>\n",
              "      <td>17.77</td>\n",
              "      <td>132.90</td>\n",
              "      <td>1326.0</td>\n",
              "      <td>0.08474</td>\n",
              "      <td>0.07864</td>\n",
              "      <td>0.08690</td>\n",
              "      <td>0.07017</td>\n",
              "      <td>...</td>\n",
              "      <td>23.41</td>\n",
              "      <td>158.80</td>\n",
              "      <td>1956.0</td>\n",
              "      <td>0.12380</td>\n",
              "      <td>0.18660</td>\n",
              "      <td>0.2416</td>\n",
              "      <td>0.1860</td>\n",
              "      <td>0.2750</td>\n",
              "      <td>0.08902</td>\n",
              "      <td>NaN</td>\n",
              "    </tr>\n",
              "    <tr>\n",
              "      <th>2</th>\n",
              "      <td>84300903</td>\n",
              "      <td>0</td>\n",
              "      <td>19.69</td>\n",
              "      <td>21.25</td>\n",
              "      <td>130.00</td>\n",
              "      <td>1203.0</td>\n",
              "      <td>0.10960</td>\n",
              "      <td>0.15990</td>\n",
              "      <td>0.19740</td>\n",
              "      <td>0.12790</td>\n",
              "      <td>...</td>\n",
              "      <td>25.53</td>\n",
              "      <td>152.50</td>\n",
              "      <td>1709.0</td>\n",
              "      <td>0.14440</td>\n",
              "      <td>0.42450</td>\n",
              "      <td>0.4504</td>\n",
              "      <td>0.2430</td>\n",
              "      <td>0.3613</td>\n",
              "      <td>0.08758</td>\n",
              "      <td>NaN</td>\n",
              "    </tr>\n",
              "    <tr>\n",
              "      <th>3</th>\n",
              "      <td>84348301</td>\n",
              "      <td>0</td>\n",
              "      <td>11.42</td>\n",
              "      <td>20.38</td>\n",
              "      <td>77.58</td>\n",
              "      <td>386.1</td>\n",
              "      <td>0.14250</td>\n",
              "      <td>0.28390</td>\n",
              "      <td>0.24140</td>\n",
              "      <td>0.10520</td>\n",
              "      <td>...</td>\n",
              "      <td>26.50</td>\n",
              "      <td>98.87</td>\n",
              "      <td>567.7</td>\n",
              "      <td>0.20980</td>\n",
              "      <td>0.86630</td>\n",
              "      <td>0.6869</td>\n",
              "      <td>0.2575</td>\n",
              "      <td>0.6638</td>\n",
              "      <td>0.17300</td>\n",
              "      <td>NaN</td>\n",
              "    </tr>\n",
              "    <tr>\n",
              "      <th>4</th>\n",
              "      <td>84358402</td>\n",
              "      <td>0</td>\n",
              "      <td>20.29</td>\n",
              "      <td>14.34</td>\n",
              "      <td>135.10</td>\n",
              "      <td>1297.0</td>\n",
              "      <td>0.10030</td>\n",
              "      <td>0.13280</td>\n",
              "      <td>0.19800</td>\n",
              "      <td>0.10430</td>\n",
              "      <td>...</td>\n",
              "      <td>16.67</td>\n",
              "      <td>152.20</td>\n",
              "      <td>1575.0</td>\n",
              "      <td>0.13740</td>\n",
              "      <td>0.20500</td>\n",
              "      <td>0.4000</td>\n",
              "      <td>0.1625</td>\n",
              "      <td>0.2364</td>\n",
              "      <td>0.07678</td>\n",
              "      <td>NaN</td>\n",
              "    </tr>\n",
              "    <tr>\n",
              "      <th>...</th>\n",
              "      <td>...</td>\n",
              "      <td>...</td>\n",
              "      <td>...</td>\n",
              "      <td>...</td>\n",
              "      <td>...</td>\n",
              "      <td>...</td>\n",
              "      <td>...</td>\n",
              "      <td>...</td>\n",
              "      <td>...</td>\n",
              "      <td>...</td>\n",
              "      <td>...</td>\n",
              "      <td>...</td>\n",
              "      <td>...</td>\n",
              "      <td>...</td>\n",
              "      <td>...</td>\n",
              "      <td>...</td>\n",
              "      <td>...</td>\n",
              "      <td>...</td>\n",
              "      <td>...</td>\n",
              "      <td>...</td>\n",
              "      <td>...</td>\n",
              "    </tr>\n",
              "    <tr>\n",
              "      <th>564</th>\n",
              "      <td>926424</td>\n",
              "      <td>0</td>\n",
              "      <td>21.56</td>\n",
              "      <td>22.39</td>\n",
              "      <td>142.00</td>\n",
              "      <td>1479.0</td>\n",
              "      <td>0.11100</td>\n",
              "      <td>0.11590</td>\n",
              "      <td>0.24390</td>\n",
              "      <td>0.13890</td>\n",
              "      <td>...</td>\n",
              "      <td>26.40</td>\n",
              "      <td>166.10</td>\n",
              "      <td>2027.0</td>\n",
              "      <td>0.14100</td>\n",
              "      <td>0.21130</td>\n",
              "      <td>0.4107</td>\n",
              "      <td>0.2216</td>\n",
              "      <td>0.2060</td>\n",
              "      <td>0.07115</td>\n",
              "      <td>NaN</td>\n",
              "    </tr>\n",
              "    <tr>\n",
              "      <th>565</th>\n",
              "      <td>926682</td>\n",
              "      <td>0</td>\n",
              "      <td>20.13</td>\n",
              "      <td>28.25</td>\n",
              "      <td>131.20</td>\n",
              "      <td>1261.0</td>\n",
              "      <td>0.09780</td>\n",
              "      <td>0.10340</td>\n",
              "      <td>0.14400</td>\n",
              "      <td>0.09791</td>\n",
              "      <td>...</td>\n",
              "      <td>38.25</td>\n",
              "      <td>155.00</td>\n",
              "      <td>1731.0</td>\n",
              "      <td>0.11660</td>\n",
              "      <td>0.19220</td>\n",
              "      <td>0.3215</td>\n",
              "      <td>0.1628</td>\n",
              "      <td>0.2572</td>\n",
              "      <td>0.06637</td>\n",
              "      <td>NaN</td>\n",
              "    </tr>\n",
              "    <tr>\n",
              "      <th>566</th>\n",
              "      <td>926954</td>\n",
              "      <td>0</td>\n",
              "      <td>16.60</td>\n",
              "      <td>28.08</td>\n",
              "      <td>108.30</td>\n",
              "      <td>858.1</td>\n",
              "      <td>0.08455</td>\n",
              "      <td>0.10230</td>\n",
              "      <td>0.09251</td>\n",
              "      <td>0.05302</td>\n",
              "      <td>...</td>\n",
              "      <td>34.12</td>\n",
              "      <td>126.70</td>\n",
              "      <td>1124.0</td>\n",
              "      <td>0.11390</td>\n",
              "      <td>0.30940</td>\n",
              "      <td>0.3403</td>\n",
              "      <td>0.1418</td>\n",
              "      <td>0.2218</td>\n",
              "      <td>0.07820</td>\n",
              "      <td>NaN</td>\n",
              "    </tr>\n",
              "    <tr>\n",
              "      <th>567</th>\n",
              "      <td>927241</td>\n",
              "      <td>0</td>\n",
              "      <td>20.60</td>\n",
              "      <td>29.33</td>\n",
              "      <td>140.10</td>\n",
              "      <td>1265.0</td>\n",
              "      <td>0.11780</td>\n",
              "      <td>0.27700</td>\n",
              "      <td>0.35140</td>\n",
              "      <td>0.15200</td>\n",
              "      <td>...</td>\n",
              "      <td>39.42</td>\n",
              "      <td>184.60</td>\n",
              "      <td>1821.0</td>\n",
              "      <td>0.16500</td>\n",
              "      <td>0.86810</td>\n",
              "      <td>0.9387</td>\n",
              "      <td>0.2650</td>\n",
              "      <td>0.4087</td>\n",
              "      <td>0.12400</td>\n",
              "      <td>NaN</td>\n",
              "    </tr>\n",
              "    <tr>\n",
              "      <th>568</th>\n",
              "      <td>92751</td>\n",
              "      <td>1</td>\n",
              "      <td>7.76</td>\n",
              "      <td>24.54</td>\n",
              "      <td>47.92</td>\n",
              "      <td>181.0</td>\n",
              "      <td>0.05263</td>\n",
              "      <td>0.04362</td>\n",
              "      <td>0.00000</td>\n",
              "      <td>0.00000</td>\n",
              "      <td>...</td>\n",
              "      <td>30.37</td>\n",
              "      <td>59.16</td>\n",
              "      <td>268.6</td>\n",
              "      <td>0.08996</td>\n",
              "      <td>0.06444</td>\n",
              "      <td>0.0000</td>\n",
              "      <td>0.0000</td>\n",
              "      <td>0.2871</td>\n",
              "      <td>0.07039</td>\n",
              "      <td>NaN</td>\n",
              "    </tr>\n",
              "  </tbody>\n",
              "</table>\n",
              "<p>569 rows × 33 columns</p>\n",
              "</div>\n",
              "      <button class=\"colab-df-convert\" onclick=\"convertToInteractive('df-d469be15-bd6a-454b-a62c-de660fb02d8c')\"\n",
              "              title=\"Convert this dataframe to an interactive table.\"\n",
              "              style=\"display:none;\">\n",
              "        \n",
              "  <svg xmlns=\"http://www.w3.org/2000/svg\" height=\"24px\"viewBox=\"0 0 24 24\"\n",
              "       width=\"24px\">\n",
              "    <path d=\"M0 0h24v24H0V0z\" fill=\"none\"/>\n",
              "    <path d=\"M18.56 5.44l.94 2.06.94-2.06 2.06-.94-2.06-.94-.94-2.06-.94 2.06-2.06.94zm-11 1L8.5 8.5l.94-2.06 2.06-.94-2.06-.94L8.5 2.5l-.94 2.06-2.06.94zm10 10l.94 2.06.94-2.06 2.06-.94-2.06-.94-.94-2.06-.94 2.06-2.06.94z\"/><path d=\"M17.41 7.96l-1.37-1.37c-.4-.4-.92-.59-1.43-.59-.52 0-1.04.2-1.43.59L10.3 9.45l-7.72 7.72c-.78.78-.78 2.05 0 2.83L4 21.41c.39.39.9.59 1.41.59.51 0 1.02-.2 1.41-.59l7.78-7.78 2.81-2.81c.8-.78.8-2.07 0-2.86zM5.41 20L4 18.59l7.72-7.72 1.47 1.35L5.41 20z\"/>\n",
              "  </svg>\n",
              "      </button>\n",
              "      \n",
              "  <style>\n",
              "    .colab-df-container {\n",
              "      display:flex;\n",
              "      flex-wrap:wrap;\n",
              "      gap: 12px;\n",
              "    }\n",
              "\n",
              "    .colab-df-convert {\n",
              "      background-color: #E8F0FE;\n",
              "      border: none;\n",
              "      border-radius: 50%;\n",
              "      cursor: pointer;\n",
              "      display: none;\n",
              "      fill: #1967D2;\n",
              "      height: 32px;\n",
              "      padding: 0 0 0 0;\n",
              "      width: 32px;\n",
              "    }\n",
              "\n",
              "    .colab-df-convert:hover {\n",
              "      background-color: #E2EBFA;\n",
              "      box-shadow: 0px 1px 2px rgba(60, 64, 67, 0.3), 0px 1px 3px 1px rgba(60, 64, 67, 0.15);\n",
              "      fill: #174EA6;\n",
              "    }\n",
              "\n",
              "    [theme=dark] .colab-df-convert {\n",
              "      background-color: #3B4455;\n",
              "      fill: #D2E3FC;\n",
              "    }\n",
              "\n",
              "    [theme=dark] .colab-df-convert:hover {\n",
              "      background-color: #434B5C;\n",
              "      box-shadow: 0px 1px 3px 1px rgba(0, 0, 0, 0.15);\n",
              "      filter: drop-shadow(0px 1px 2px rgba(0, 0, 0, 0.3));\n",
              "      fill: #FFFFFF;\n",
              "    }\n",
              "  </style>\n",
              "\n",
              "      <script>\n",
              "        const buttonEl =\n",
              "          document.querySelector('#df-d469be15-bd6a-454b-a62c-de660fb02d8c button.colab-df-convert');\n",
              "        buttonEl.style.display =\n",
              "          google.colab.kernel.accessAllowed ? 'block' : 'none';\n",
              "\n",
              "        async function convertToInteractive(key) {\n",
              "          const element = document.querySelector('#df-d469be15-bd6a-454b-a62c-de660fb02d8c');\n",
              "          const dataTable =\n",
              "            await google.colab.kernel.invokeFunction('convertToInteractive',\n",
              "                                                     [key], {});\n",
              "          if (!dataTable) return;\n",
              "\n",
              "          const docLinkHtml = 'Like what you see? Visit the ' +\n",
              "            '<a target=\"_blank\" href=https://colab.research.google.com/notebooks/data_table.ipynb>data table notebook</a>'\n",
              "            + ' to learn more about interactive tables.';\n",
              "          element.innerHTML = '';\n",
              "          dataTable['output_type'] = 'display_data';\n",
              "          await google.colab.output.renderOutput(dataTable, element);\n",
              "          const docLink = document.createElement('div');\n",
              "          docLink.innerHTML = docLinkHtml;\n",
              "          element.appendChild(docLink);\n",
              "        }\n",
              "      </script>\n",
              "    </div>\n",
              "  </div>\n",
              "  "
            ]
          },
          "metadata": {},
          "execution_count": 8
        }
      ],
      "source": [
        "# Note :- There are many existing Encoders for converting String to Numeric Labels, but for convenience, we used Pandas.\n",
        "\n",
        "condition_M = data.diagnosis == \"M\"\n",
        "condition_B = data.diagnosis == \"B\"\n",
        "\n",
        "data.loc[condition_M,\"diagnosis\"]=0\n",
        "data.loc[condition_B,\"diagnosis\"]=1\n",
        "\n",
        "data"
      ]
    },
    {
      "cell_type": "markdown",
      "metadata": {
        "id": "SOvmQOBY023p"
      },
      "source": [
        "## 3.) Converting Dataframe into Numpy Arrays (Features and Labels)"
      ]
    },
    {
      "cell_type": "code",
      "execution_count": null,
      "metadata": {
        "id": "kxw_NUvW011A"
      },
      "outputs": [],
      "source": [
        "Y = data.diagnosis.to_numpy().astype('int')                                     # Labels\n",
        "\n",
        "X_data = data.drop(columns=[\"id\",\"diagnosis\",\"Unnamed: 32\"])\n",
        "X = X_data.to_numpy()                                                           # Input Features"
      ]
    },
    {
      "cell_type": "markdown",
      "metadata": {
        "id": "6f8ih1Bl0g63"
      },
      "source": [
        "## 4.) Splitting the Dataset into Train and Test Portions"
      ]
    },
    {
      "cell_type": "code",
      "execution_count": null,
      "metadata": {
        "id": "ag34WnMA0gln"
      },
      "outputs": [],
      "source": [
        "user_prompt = 0.3\n",
        "user_enable = False\n",
        "\n",
        "x_train,x_test,y_train,y_test = tts(X,Y,test_size=user_prompt,shuffle=user_enable)"
      ]
    },
    {
      "cell_type": "markdown",
      "metadata": {
        "id": "UMRmA9jT0TCm"
      },
      "source": [
        "## 5.) Model Training and Predicting"
      ]
    },
    {
      "cell_type": "code",
      "execution_count": null,
      "metadata": {
        "id": "0_rK_IBFzfs4"
      },
      "outputs": [],
      "source": [
        "# Note :- Don't worry about the code snippet here, it is just to produce the predictions for the test data portion of each classifier\n",
        "\n",
        "logistic_model = LR()\n",
        "logistic_model.fit(x_train,y_train)\n",
        "logistic_pred = logistic_model.predict(x_test)\n",
        "\n",
        "decision_model = DTC()\n",
        "decision_model.fit(x_train,y_train)\n",
        "decision_pred = decision_model.predict(x_test)"
      ]
    },
    {
      "cell_type": "markdown",
      "metadata": {
        "id": "8FsxHygi7Zoa"
      },
      "source": [
        "## 6.) Evaluation Metrics (Inbulit v/s Scaratch)"
      ]
    },
    {
      "cell_type": "markdown",
      "metadata": {
        "id": "uOLM56wX7zn1"
      },
      "source": [
        "### Confusion Matrix"
      ]
    },
    {
      "cell_type": "code",
      "execution_count": null,
      "metadata": {
        "colab": {
          "base_uri": "https://localhost:8080/"
        },
        "id": "YP_oItop7lsC",
        "outputId": "f580c2e9-b089-492f-c7b5-30b5e6e206e0"
      },
      "outputs": [
        {
          "output_type": "stream",
          "name": "stdout",
          "text": [
            "Confusion Matrix for Logistic Regression-based Predictions =>\n",
            "[[ 38   1]\n",
            " [ 11 121]]\n",
            "Confusion Matrix for Decision Tree-based Predictions =>\n",
            "[[ 38   1]\n",
            " [ 17 115]]\n",
            "Confusion Matrix for Logistic Regression-based Predictions from scratch =>\n",
            "[[ 38   1]\n",
            " [ 11 121]]\n",
            "Confusion Matrix for Decision Tree-based Predictions from scratch =>\n",
            "[[ 38   1]\n",
            " [ 17 115]]\n"
          ]
        }
      ],
      "source": [
        "inbuilt_matrix_logistic = cm(y_test,logistic_pred)\n",
        "inbuilt_matrix_decision = cm(y_test,decision_pred)\n",
        "# print(type(logistic_pred))\n",
        "\n",
        "print(\"Confusion Matrix for Logistic Regression-based Predictions =>\")\n",
        "print(inbuilt_matrix_logistic)\n",
        "print(\"Confusion Matrix for Decision Tree-based Predictions =>\")\n",
        "print(inbuilt_matrix_decision)\n",
        "\n",
        "def confusion_matrix(test_y,pred_y):\n",
        "  # Understand the Concept, write the code from scratch and remove \"pass\"\n",
        "  out=np.zeros((2,2),dtype=int)\n",
        "  for i in range(len(test_y)):\n",
        "      out[test_y[i],pred_y[i]]+=1\n",
        "  return out\n",
        "\n",
        "\n",
        "print(\"Confusion Matrix for Logistic Regression-based Predictions from scratch =>\")\n",
        "print(confusion_matrix(y_test,logistic_pred))\n",
        "print(\"Confusion Matrix for Decision Tree-based Predictions from scratch =>\")\n",
        "print(confusion_matrix(y_test,decision_pred))"
      ]
    },
    {
      "cell_type": "markdown",
      "metadata": {
        "id": "AAFfrbJx7nGF"
      },
      "source": [
        "### Average Accuracy"
      ]
    },
    {
      "cell_type": "code",
      "execution_count": null,
      "metadata": {
        "colab": {
          "base_uri": "https://localhost:8080/"
        },
        "id": "UAii0HlB7Zux",
        "outputId": "3f581822-048e-43f6-c2a8-ac0b93611af2"
      },
      "outputs": [
        {
          "output_type": "stream",
          "name": "stdout",
          "text": [
            "Accuracy for Logistic Regression-based Predictions => 92.98245614035088%\n",
            "Accuracy for Decision Tree-based Predictions => 89.47368421052632%\n",
            "Accuracy for Logistic Regression-based Predictions from scratch => 92.98245614035088%\n",
            "Accuracy for Decision Tree-based Predictions from scratch => 89.47368421052632%\n"
          ]
        }
      ],
      "source": [
        "inbuilt_acc_logistic = acc(y_test,logistic_pred)\n",
        "inbuilt_acc_decision = acc(y_test,decision_pred)\n",
        "\n",
        "print(\"Accuracy for Logistic Regression-based Predictions =>\",str(inbuilt_acc_logistic*100)+\"%\")\n",
        "print(\"Accuracy for Decision Tree-based Predictions =>\",str(inbuilt_acc_decision*100)+\"%\")\n",
        "\n",
        "def avg_accuracy(test_y,pred_y):\n",
        "  # Understand the Concept, write the code from scratch and remove \"pass\"\n",
        "  cm_log = confusion_matrix(test_y,pred_y)\n",
        "  out = (cm_log[0,0]+cm_log[1,1])/(cm_log.sum())\n",
        "  return out\n",
        "print(\"Accuracy for Logistic Regression-based Predictions from scratch =>\",str(avg_accuracy(y_test,logistic_pred)*100)+\"%\")\n",
        "print(\"Accuracy for Decision Tree-based Predictions from scratch =>\",str(avg_accuracy(y_test,decision_pred)*100)+\"%\")\n"
      ]
    },
    {
      "cell_type": "markdown",
      "metadata": {
        "id": "tC-hpfYS7p_r"
      },
      "source": [
        "### Precision"
      ]
    },
    {
      "cell_type": "code",
      "execution_count": null,
      "metadata": {
        "colab": {
          "base_uri": "https://localhost:8080/"
        },
        "id": "DQ2UAn5U7lWD",
        "outputId": "0593faf5-f663-49f3-aea4-f3f42d94b4ed"
      },
      "outputs": [
        {
          "output_type": "stream",
          "name": "stdout",
          "text": [
            "Precision for Logistic Regression-based Predictions => 99.18032786885246%\n",
            "Precision for Decision Tree-based Predictions => 99.13793103448276%\n",
            "Precision for Logistic Regression-based Predictions from scratch => 99.18032786885246%\n",
            "Precision for Decision Tree-based Predictions from scratch => 99.13793103448276%\n"
          ]
        }
      ],
      "source": [
        "inbuilt_ps_logistic = ps(y_test,logistic_pred)\n",
        "inbuilt_ps_decision = ps(y_test,decision_pred)\n",
        "\n",
        "print(\"Precision for Logistic Regression-based Predictions =>\",str(inbuilt_ps_logistic*100)+\"%\")\n",
        "print(\"Precision for Decision Tree-based Predictions =>\",str(inbuilt_ps_decision*100)+\"%\")\n",
        "\n",
        "def precision(test_y,pred_y):\n",
        "  # Understand the Concept, write the code from scratch and remove \"pass\"\n",
        "  cm = confusion_matrix(test_y,pred_y)\n",
        "  out = cm[1,1]/(cm[1,1]+cm[0,1])\n",
        "  return out\n",
        "print(\"Precision for Logistic Regression-based Predictions from scratch =>\",str(precision(y_test,logistic_pred)*100)+\"%\")\n",
        "print(\"Precision for Decision Tree-based Predictions from scratch =>\",str(precision(y_test,decision_pred)*100)+\"%\")"
      ]
    },
    {
      "cell_type": "markdown",
      "metadata": {
        "id": "VJjpzD1Y7ucm"
      },
      "source": [
        "### Recall"
      ]
    },
    {
      "cell_type": "code",
      "execution_count": null,
      "metadata": {
        "colab": {
          "base_uri": "https://localhost:8080/"
        },
        "id": "C1WGJmPZ7lda",
        "outputId": "bcdf242d-6e17-4ff8-eb83-9e9db01c756c"
      },
      "outputs": [
        {
          "output_type": "stream",
          "name": "stdout",
          "text": [
            "Recall for Logistic Regression-based Predictions => 91.66666666666666%\n",
            "Recall for Decision Tree-based Predictions => 87.12121212121212%\n",
            "Recall for Logistic Regression-based Predictions from scratch => 91.66666666666666%\n",
            "Recall for Decision Tree-based Predictions from scratch => 87.12121212121212%\n"
          ]
        }
      ],
      "source": [
        "inbuilt_rs_logistic = rs(y_test,logistic_pred)\n",
        "inbuilt_rs_decision = rs(y_test,decision_pred)\n",
        "\n",
        "print(\"Recall for Logistic Regression-based Predictions =>\",str(inbuilt_rs_logistic*100)+\"%\")\n",
        "print(\"Recall for Decision Tree-based Predictions =>\",str(inbuilt_rs_decision*100)+\"%\")\n",
        "\n",
        "def recall(test_y,pred_y):\n",
        "  # Understand the Concept, write the code from scratch and remove \"pass\"\n",
        "  cm = confusion_matrix(test_y,pred_y)\n",
        "  out = cm[1,1]/(cm[1,1]+cm[1,0])\n",
        "  return out\n",
        "print(\"Recall for Logistic Regression-based Predictions from scratch =>\",str(recall(y_test,logistic_pred)*100)+\"%\")\n",
        "print(\"Recall for Decision Tree-based Predictions from scratch =>\",str(recall(y_test,decision_pred)*100)+\"%\")"
      ]
    },
    {
      "cell_type": "markdown",
      "metadata": {
        "id": "b_CvAJ3f7wOQ"
      },
      "source": [
        "### F-1 Score"
      ]
    },
    {
      "cell_type": "code",
      "execution_count": null,
      "metadata": {
        "colab": {
          "base_uri": "https://localhost:8080/"
        },
        "id": "gwipguxJ7lk6",
        "outputId": "0951e5fe-f591-494a-b002-d213d569ba3a"
      },
      "outputs": [
        {
          "output_type": "stream",
          "name": "stdout",
          "text": [
            "F1-Score for Logistic Regression-based Predictions => 95.2755905511811%\n",
            "F1-Score for Decision Tree-based Predictions => 92.74193548387096%\n",
            "F1-Score for Logistic Regression-based Predictions from scratch => 95.2755905511811%\n",
            "F1-Score for Decision Tree-based Predictions from scratch => 92.74193548387096%\n"
          ]
        }
      ],
      "source": [
        "inbuilt_f1s_logistic = f1s(y_test,logistic_pred)\n",
        "inbuilt_f1s_decision = f1s(y_test,decision_pred)\n",
        "\n",
        "\n",
        "print(\"F1-Score for Logistic Regression-based Predictions =>\",str(inbuilt_f1s_logistic*100)+\"%\")\n",
        "print(\"F1-Score for Decision Tree-based Predictions =>\",str(inbuilt_f1s_decision*100)+\"%\")\n",
        "def f1_score(test_y,pred_y):\n",
        "  # Understand the Concept, write the code from scratch and remove \"pass\"\n",
        "  p=precision(test_y,pred_y)\n",
        "  r=recall(test_y,pred_y)\n",
        "  out = 2/((1/p)+(1/r))\n",
        "  return out\n",
        "print(\"F1-Score for Logistic Regression-based Predictions from scratch =>\",str(f1_score(y_test,logistic_pred)*100)+\"%\")\n",
        "print(\"F1-Score for Decision Tree-based Predictions from scratch =>\",str(f1_score(y_test,decision_pred)*100)+\"%\")\n"
      ]
    },
    {
      "cell_type": "markdown",
      "metadata": {
        "id": "QfGdvDD2HKdy"
      },
      "source": [
        "### Class-Wise Accuracy"
      ]
    },
    {
      "cell_type": "code",
      "execution_count": null,
      "metadata": {
        "id": "NwPQCWGLHK2f",
        "colab": {
          "base_uri": "https://localhost:8080/"
        },
        "outputId": "4a3a5d3a-1805-4aeb-88d2-e6ab977b2563"
      },
      "outputs": [
        {
          "output_type": "stream",
          "name": "stdout",
          "text": [
            "Class Accuracy for Logistic Regression-based Predictions from scratch => 94.55128205128204%\n",
            "Class Accuracy for Decision Tree-based Predictions from scratch => 92.27855477855478%\n"
          ]
        }
      ],
      "source": [
        "def class_accuracy(test_y,pred_y):\n",
        "  # Understand the Concept, write the code from scratch and remove \"pass\"\n",
        "  cm=confusion_matrix(test_y,pred_y)\n",
        "  out = ((cm[0,0]/(cm[0,0]+cm[0,1]))+(cm[1,1]/(cm[1,1]+cm[1,0])))*0.5\n",
        "  return out\n",
        "print(\"Class Accuracy for Logistic Regression-based Predictions from scratch =>\",str(class_accuracy(y_test,logistic_pred)*100)+\"%\")\n",
        "print(\"Class Accuracy for Decision Tree-based Predictions from scratch =>\",str(class_accuracy(y_test,decision_pred)*100)+\"%\")"
      ]
    },
    {
      "cell_type": "markdown",
      "metadata": {
        "id": "jZbGtO468-gu"
      },
      "source": [
        "### Sensitivity"
      ]
    },
    {
      "cell_type": "code",
      "execution_count": null,
      "metadata": {
        "id": "-514Tgvj8-Uu",
        "colab": {
          "base_uri": "https://localhost:8080/"
        },
        "outputId": "83b4d29f-fe88-4156-b370-5df81abee0f8"
      },
      "outputs": [
        {
          "output_type": "stream",
          "name": "stdout",
          "text": [
            "sensitivity for Logistic Regression-based Predictions from scratch => 91.66666666666666%\n",
            "sensitivity for Decision Tree-based Predictions from scratch => 87.12121212121212%\n"
          ]
        }
      ],
      "source": [
        "def sensitivity(test_y,pred_y):\n",
        "  # Understand the Concept, write the code from scratch and remove \"pass\"\n",
        "  cm=confusion_matrix(test_y,pred_y)\n",
        "  out = cm[1,1]/(cm[1,1]+cm[1,0])\n",
        "  return out\n",
        "print(\"sensitivity for Logistic Regression-based Predictions from scratch =>\",str(sensitivity(y_test,logistic_pred)*100)+\"%\")\n",
        "print(\"sensitivity for Decision Tree-based Predictions from scratch =>\",str(sensitivity(y_test,decision_pred)*100)+\"%\")"
      ]
    },
    {
      "cell_type": "markdown",
      "metadata": {
        "id": "eNJOxp8o8-wP"
      },
      "source": [
        "### Specificity"
      ]
    },
    {
      "cell_type": "code",
      "execution_count": null,
      "metadata": {
        "id": "oRmH6Ij07lx-",
        "colab": {
          "base_uri": "https://localhost:8080/"
        },
        "outputId": "4cca74ba-9ea1-4e3a-f370-1e3f03bc3542"
      },
      "outputs": [
        {
          "output_type": "stream",
          "name": "stdout",
          "text": [
            "specificity for Logistic Regression-based Predictions from scratch => 97.43589743589743%\n",
            "specificity for Decision Tree-based Predictions from scratch => 97.43589743589743%\n"
          ]
        }
      ],
      "source": [
        "def specificity(test_y,pred_y):\n",
        "  # Understand the Concept, write the code from scratch and remove \"pass\"\n",
        "  cm=confusion_matrix(test_y,pred_y)\n",
        "  out = cm[0,0]/(cm[0,0]+cm[0,1])\n",
        "  return out\n",
        "print(\"specificity for Logistic Regression-based Predictions from scratch =>\",str(specificity(y_test,logistic_pred)*100)+\"%\")\n",
        "print(\"specificity for Decision Tree-based Predictions from scratch =>\",str(specificity(y_test,decision_pred)*100)+\"%\")"
      ]
    }
  ],
  "metadata": {
    "colab": {
      "collapsed_sections": [
        "L9lMgroYI9BD",
        "V3h5pCoWJYzl",
        "qwsiWw7Gpk7K",
        "8NW4oo1j7oES",
        "NBAaHdKV5NcA"
      ],
      "provenance": []
    },
    "kernelspec": {
      "display_name": "Python 3",
      "name": "python3"
    },
    "language_info": {
      "name": "python"
    }
  },
  "nbformat": 4,
  "nbformat_minor": 0
}